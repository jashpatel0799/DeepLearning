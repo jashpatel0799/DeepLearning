{
  "nbformat": 4,
  "nbformat_minor": 0,
  "metadata": {
    "colab": {
      "provenance": [],
      "toc_visible": true
    },
    "kernelspec": {
      "name": "python3",
      "display_name": "Python 3"
    },
    "language_info": {
      "name": "python"
    },
    "gpuClass": "standard",
    "widgets": {
      "application/vnd.jupyter.widget-state+json": {
        "16a031ae687d46b99e295946617de23c": {
          "model_module": "@jupyter-widgets/controls",
          "model_name": "HBoxModel",
          "model_module_version": "1.5.0",
          "state": {
            "_dom_classes": [],
            "_model_module": "@jupyter-widgets/controls",
            "_model_module_version": "1.5.0",
            "_model_name": "HBoxModel",
            "_view_count": null,
            "_view_module": "@jupyter-widgets/controls",
            "_view_module_version": "1.5.0",
            "_view_name": "HBoxView",
            "box_style": "",
            "children": [
              "IPY_MODEL_52e0a3db5efc49c5943dc3c327105833",
              "IPY_MODEL_fb3da925b9d8445c8a48e1fdce64e6a4",
              "IPY_MODEL_945d70b0ffa44d5882ef8d4f30298b9a"
            ],
            "layout": "IPY_MODEL_9a6acf98437a41e7b17e4f0f3c4eb126"
          }
        },
        "52e0a3db5efc49c5943dc3c327105833": {
          "model_module": "@jupyter-widgets/controls",
          "model_name": "HTMLModel",
          "model_module_version": "1.5.0",
          "state": {
            "_dom_classes": [],
            "_model_module": "@jupyter-widgets/controls",
            "_model_module_version": "1.5.0",
            "_model_name": "HTMLModel",
            "_view_count": null,
            "_view_module": "@jupyter-widgets/controls",
            "_view_module_version": "1.5.0",
            "_view_name": "HTMLView",
            "description": "",
            "description_tooltip": null,
            "layout": "IPY_MODEL_fba12b515ba4439da3ac32af09dc5cc1",
            "placeholder": "​",
            "style": "IPY_MODEL_13d1697b42534ebd935545c1178c5129",
            "value": "100%"
          }
        },
        "fb3da925b9d8445c8a48e1fdce64e6a4": {
          "model_module": "@jupyter-widgets/controls",
          "model_name": "FloatProgressModel",
          "model_module_version": "1.5.0",
          "state": {
            "_dom_classes": [],
            "_model_module": "@jupyter-widgets/controls",
            "_model_module_version": "1.5.0",
            "_model_name": "FloatProgressModel",
            "_view_count": null,
            "_view_module": "@jupyter-widgets/controls",
            "_view_module_version": "1.5.0",
            "_view_name": "ProgressView",
            "bar_style": "success",
            "description": "",
            "description_tooltip": null,
            "layout": "IPY_MODEL_0f67cc75efaa472b8c290b9f9a53bb1b",
            "max": 25,
            "min": 0,
            "orientation": "horizontal",
            "style": "IPY_MODEL_2ffa90d7a5034556b6d8a980e1702fdc",
            "value": 25
          }
        },
        "945d70b0ffa44d5882ef8d4f30298b9a": {
          "model_module": "@jupyter-widgets/controls",
          "model_name": "HTMLModel",
          "model_module_version": "1.5.0",
          "state": {
            "_dom_classes": [],
            "_model_module": "@jupyter-widgets/controls",
            "_model_module_version": "1.5.0",
            "_model_name": "HTMLModel",
            "_view_count": null,
            "_view_module": "@jupyter-widgets/controls",
            "_view_module_version": "1.5.0",
            "_view_name": "HTMLView",
            "description": "",
            "description_tooltip": null,
            "layout": "IPY_MODEL_192e6c7df0d6417188e046c24b782c82",
            "placeholder": "​",
            "style": "IPY_MODEL_6b20602b64d74859a6ab248ccaec92a4",
            "value": " 25/25 [03:52&lt;00:00,  1.85s/it]"
          }
        },
        "9a6acf98437a41e7b17e4f0f3c4eb126": {
          "model_module": "@jupyter-widgets/base",
          "model_name": "LayoutModel",
          "model_module_version": "1.2.0",
          "state": {
            "_model_module": "@jupyter-widgets/base",
            "_model_module_version": "1.2.0",
            "_model_name": "LayoutModel",
            "_view_count": null,
            "_view_module": "@jupyter-widgets/base",
            "_view_module_version": "1.2.0",
            "_view_name": "LayoutView",
            "align_content": null,
            "align_items": null,
            "align_self": null,
            "border": null,
            "bottom": null,
            "display": null,
            "flex": null,
            "flex_flow": null,
            "grid_area": null,
            "grid_auto_columns": null,
            "grid_auto_flow": null,
            "grid_auto_rows": null,
            "grid_column": null,
            "grid_gap": null,
            "grid_row": null,
            "grid_template_areas": null,
            "grid_template_columns": null,
            "grid_template_rows": null,
            "height": null,
            "justify_content": null,
            "justify_items": null,
            "left": null,
            "margin": null,
            "max_height": null,
            "max_width": null,
            "min_height": null,
            "min_width": null,
            "object_fit": null,
            "object_position": null,
            "order": null,
            "overflow": null,
            "overflow_x": null,
            "overflow_y": null,
            "padding": null,
            "right": null,
            "top": null,
            "visibility": null,
            "width": null
          }
        },
        "fba12b515ba4439da3ac32af09dc5cc1": {
          "model_module": "@jupyter-widgets/base",
          "model_name": "LayoutModel",
          "model_module_version": "1.2.0",
          "state": {
            "_model_module": "@jupyter-widgets/base",
            "_model_module_version": "1.2.0",
            "_model_name": "LayoutModel",
            "_view_count": null,
            "_view_module": "@jupyter-widgets/base",
            "_view_module_version": "1.2.0",
            "_view_name": "LayoutView",
            "align_content": null,
            "align_items": null,
            "align_self": null,
            "border": null,
            "bottom": null,
            "display": null,
            "flex": null,
            "flex_flow": null,
            "grid_area": null,
            "grid_auto_columns": null,
            "grid_auto_flow": null,
            "grid_auto_rows": null,
            "grid_column": null,
            "grid_gap": null,
            "grid_row": null,
            "grid_template_areas": null,
            "grid_template_columns": null,
            "grid_template_rows": null,
            "height": null,
            "justify_content": null,
            "justify_items": null,
            "left": null,
            "margin": null,
            "max_height": null,
            "max_width": null,
            "min_height": null,
            "min_width": null,
            "object_fit": null,
            "object_position": null,
            "order": null,
            "overflow": null,
            "overflow_x": null,
            "overflow_y": null,
            "padding": null,
            "right": null,
            "top": null,
            "visibility": null,
            "width": null
          }
        },
        "13d1697b42534ebd935545c1178c5129": {
          "model_module": "@jupyter-widgets/controls",
          "model_name": "DescriptionStyleModel",
          "model_module_version": "1.5.0",
          "state": {
            "_model_module": "@jupyter-widgets/controls",
            "_model_module_version": "1.5.0",
            "_model_name": "DescriptionStyleModel",
            "_view_count": null,
            "_view_module": "@jupyter-widgets/base",
            "_view_module_version": "1.2.0",
            "_view_name": "StyleView",
            "description_width": ""
          }
        },
        "0f67cc75efaa472b8c290b9f9a53bb1b": {
          "model_module": "@jupyter-widgets/base",
          "model_name": "LayoutModel",
          "model_module_version": "1.2.0",
          "state": {
            "_model_module": "@jupyter-widgets/base",
            "_model_module_version": "1.2.0",
            "_model_name": "LayoutModel",
            "_view_count": null,
            "_view_module": "@jupyter-widgets/base",
            "_view_module_version": "1.2.0",
            "_view_name": "LayoutView",
            "align_content": null,
            "align_items": null,
            "align_self": null,
            "border": null,
            "bottom": null,
            "display": null,
            "flex": null,
            "flex_flow": null,
            "grid_area": null,
            "grid_auto_columns": null,
            "grid_auto_flow": null,
            "grid_auto_rows": null,
            "grid_column": null,
            "grid_gap": null,
            "grid_row": null,
            "grid_template_areas": null,
            "grid_template_columns": null,
            "grid_template_rows": null,
            "height": null,
            "justify_content": null,
            "justify_items": null,
            "left": null,
            "margin": null,
            "max_height": null,
            "max_width": null,
            "min_height": null,
            "min_width": null,
            "object_fit": null,
            "object_position": null,
            "order": null,
            "overflow": null,
            "overflow_x": null,
            "overflow_y": null,
            "padding": null,
            "right": null,
            "top": null,
            "visibility": null,
            "width": null
          }
        },
        "2ffa90d7a5034556b6d8a980e1702fdc": {
          "model_module": "@jupyter-widgets/controls",
          "model_name": "ProgressStyleModel",
          "model_module_version": "1.5.0",
          "state": {
            "_model_module": "@jupyter-widgets/controls",
            "_model_module_version": "1.5.0",
            "_model_name": "ProgressStyleModel",
            "_view_count": null,
            "_view_module": "@jupyter-widgets/base",
            "_view_module_version": "1.2.0",
            "_view_name": "StyleView",
            "bar_color": null,
            "description_width": ""
          }
        },
        "192e6c7df0d6417188e046c24b782c82": {
          "model_module": "@jupyter-widgets/base",
          "model_name": "LayoutModel",
          "model_module_version": "1.2.0",
          "state": {
            "_model_module": "@jupyter-widgets/base",
            "_model_module_version": "1.2.0",
            "_model_name": "LayoutModel",
            "_view_count": null,
            "_view_module": "@jupyter-widgets/base",
            "_view_module_version": "1.2.0",
            "_view_name": "LayoutView",
            "align_content": null,
            "align_items": null,
            "align_self": null,
            "border": null,
            "bottom": null,
            "display": null,
            "flex": null,
            "flex_flow": null,
            "grid_area": null,
            "grid_auto_columns": null,
            "grid_auto_flow": null,
            "grid_auto_rows": null,
            "grid_column": null,
            "grid_gap": null,
            "grid_row": null,
            "grid_template_areas": null,
            "grid_template_columns": null,
            "grid_template_rows": null,
            "height": null,
            "justify_content": null,
            "justify_items": null,
            "left": null,
            "margin": null,
            "max_height": null,
            "max_width": null,
            "min_height": null,
            "min_width": null,
            "object_fit": null,
            "object_position": null,
            "order": null,
            "overflow": null,
            "overflow_x": null,
            "overflow_y": null,
            "padding": null,
            "right": null,
            "top": null,
            "visibility": null,
            "width": null
          }
        },
        "6b20602b64d74859a6ab248ccaec92a4": {
          "model_module": "@jupyter-widgets/controls",
          "model_name": "DescriptionStyleModel",
          "model_module_version": "1.5.0",
          "state": {
            "_model_module": "@jupyter-widgets/controls",
            "_model_module_version": "1.5.0",
            "_model_name": "DescriptionStyleModel",
            "_view_count": null,
            "_view_module": "@jupyter-widgets/base",
            "_view_module_version": "1.2.0",
            "_view_name": "StyleView",
            "description_width": ""
          }
        },
        "50768026c2ad49318639480bb6dcdf99": {
          "model_module": "@jupyter-widgets/controls",
          "model_name": "HBoxModel",
          "model_module_version": "1.5.0",
          "state": {
            "_dom_classes": [],
            "_model_module": "@jupyter-widgets/controls",
            "_model_module_version": "1.5.0",
            "_model_name": "HBoxModel",
            "_view_count": null,
            "_view_module": "@jupyter-widgets/controls",
            "_view_module_version": "1.5.0",
            "_view_name": "HBoxView",
            "box_style": "",
            "children": [
              "IPY_MODEL_1b8c770ae65c4b48b33bfcb92471d574",
              "IPY_MODEL_fedff275e4764e34aa2b07e413296a4d",
              "IPY_MODEL_0137f23e1aea4323ba6e59d030667d03"
            ],
            "layout": "IPY_MODEL_6044493f7c584db8b9148fb3de37ebf9"
          }
        },
        "1b8c770ae65c4b48b33bfcb92471d574": {
          "model_module": "@jupyter-widgets/controls",
          "model_name": "HTMLModel",
          "model_module_version": "1.5.0",
          "state": {
            "_dom_classes": [],
            "_model_module": "@jupyter-widgets/controls",
            "_model_module_version": "1.5.0",
            "_model_name": "HTMLModel",
            "_view_count": null,
            "_view_module": "@jupyter-widgets/controls",
            "_view_module_version": "1.5.0",
            "_view_name": "HTMLView",
            "description": "",
            "description_tooltip": null,
            "layout": "IPY_MODEL_afff4e1436f94c05a42e4bec6e3eb45a",
            "placeholder": "​",
            "style": "IPY_MODEL_544f05f8b30f4fa8a55e516eea70ab73",
            "value": "100%"
          }
        },
        "fedff275e4764e34aa2b07e413296a4d": {
          "model_module": "@jupyter-widgets/controls",
          "model_name": "FloatProgressModel",
          "model_module_version": "1.5.0",
          "state": {
            "_dom_classes": [],
            "_model_module": "@jupyter-widgets/controls",
            "_model_module_version": "1.5.0",
            "_model_name": "FloatProgressModel",
            "_view_count": null,
            "_view_module": "@jupyter-widgets/controls",
            "_view_module_version": "1.5.0",
            "_view_name": "ProgressView",
            "bar_style": "success",
            "description": "",
            "description_tooltip": null,
            "layout": "IPY_MODEL_101783e5af644eca89f4770ef557431b",
            "max": 25,
            "min": 0,
            "orientation": "horizontal",
            "style": "IPY_MODEL_7032a07befc147119e180ee4ee0c5ae3",
            "value": 25
          }
        },
        "0137f23e1aea4323ba6e59d030667d03": {
          "model_module": "@jupyter-widgets/controls",
          "model_name": "HTMLModel",
          "model_module_version": "1.5.0",
          "state": {
            "_dom_classes": [],
            "_model_module": "@jupyter-widgets/controls",
            "_model_module_version": "1.5.0",
            "_model_name": "HTMLModel",
            "_view_count": null,
            "_view_module": "@jupyter-widgets/controls",
            "_view_module_version": "1.5.0",
            "_view_name": "HTMLView",
            "description": "",
            "description_tooltip": null,
            "layout": "IPY_MODEL_ba381fae3e5d49c0b1b5c754e2487df8",
            "placeholder": "​",
            "style": "IPY_MODEL_a5c1ddfb73d046838c4ab43ab1c5b822",
            "value": " 25/25 [00:47&lt;00:00,  1.87s/it]"
          }
        },
        "6044493f7c584db8b9148fb3de37ebf9": {
          "model_module": "@jupyter-widgets/base",
          "model_name": "LayoutModel",
          "model_module_version": "1.2.0",
          "state": {
            "_model_module": "@jupyter-widgets/base",
            "_model_module_version": "1.2.0",
            "_model_name": "LayoutModel",
            "_view_count": null,
            "_view_module": "@jupyter-widgets/base",
            "_view_module_version": "1.2.0",
            "_view_name": "LayoutView",
            "align_content": null,
            "align_items": null,
            "align_self": null,
            "border": null,
            "bottom": null,
            "display": null,
            "flex": null,
            "flex_flow": null,
            "grid_area": null,
            "grid_auto_columns": null,
            "grid_auto_flow": null,
            "grid_auto_rows": null,
            "grid_column": null,
            "grid_gap": null,
            "grid_row": null,
            "grid_template_areas": null,
            "grid_template_columns": null,
            "grid_template_rows": null,
            "height": null,
            "justify_content": null,
            "justify_items": null,
            "left": null,
            "margin": null,
            "max_height": null,
            "max_width": null,
            "min_height": null,
            "min_width": null,
            "object_fit": null,
            "object_position": null,
            "order": null,
            "overflow": null,
            "overflow_x": null,
            "overflow_y": null,
            "padding": null,
            "right": null,
            "top": null,
            "visibility": null,
            "width": null
          }
        },
        "afff4e1436f94c05a42e4bec6e3eb45a": {
          "model_module": "@jupyter-widgets/base",
          "model_name": "LayoutModel",
          "model_module_version": "1.2.0",
          "state": {
            "_model_module": "@jupyter-widgets/base",
            "_model_module_version": "1.2.0",
            "_model_name": "LayoutModel",
            "_view_count": null,
            "_view_module": "@jupyter-widgets/base",
            "_view_module_version": "1.2.0",
            "_view_name": "LayoutView",
            "align_content": null,
            "align_items": null,
            "align_self": null,
            "border": null,
            "bottom": null,
            "display": null,
            "flex": null,
            "flex_flow": null,
            "grid_area": null,
            "grid_auto_columns": null,
            "grid_auto_flow": null,
            "grid_auto_rows": null,
            "grid_column": null,
            "grid_gap": null,
            "grid_row": null,
            "grid_template_areas": null,
            "grid_template_columns": null,
            "grid_template_rows": null,
            "height": null,
            "justify_content": null,
            "justify_items": null,
            "left": null,
            "margin": null,
            "max_height": null,
            "max_width": null,
            "min_height": null,
            "min_width": null,
            "object_fit": null,
            "object_position": null,
            "order": null,
            "overflow": null,
            "overflow_x": null,
            "overflow_y": null,
            "padding": null,
            "right": null,
            "top": null,
            "visibility": null,
            "width": null
          }
        },
        "544f05f8b30f4fa8a55e516eea70ab73": {
          "model_module": "@jupyter-widgets/controls",
          "model_name": "DescriptionStyleModel",
          "model_module_version": "1.5.0",
          "state": {
            "_model_module": "@jupyter-widgets/controls",
            "_model_module_version": "1.5.0",
            "_model_name": "DescriptionStyleModel",
            "_view_count": null,
            "_view_module": "@jupyter-widgets/base",
            "_view_module_version": "1.2.0",
            "_view_name": "StyleView",
            "description_width": ""
          }
        },
        "101783e5af644eca89f4770ef557431b": {
          "model_module": "@jupyter-widgets/base",
          "model_name": "LayoutModel",
          "model_module_version": "1.2.0",
          "state": {
            "_model_module": "@jupyter-widgets/base",
            "_model_module_version": "1.2.0",
            "_model_name": "LayoutModel",
            "_view_count": null,
            "_view_module": "@jupyter-widgets/base",
            "_view_module_version": "1.2.0",
            "_view_name": "LayoutView",
            "align_content": null,
            "align_items": null,
            "align_self": null,
            "border": null,
            "bottom": null,
            "display": null,
            "flex": null,
            "flex_flow": null,
            "grid_area": null,
            "grid_auto_columns": null,
            "grid_auto_flow": null,
            "grid_auto_rows": null,
            "grid_column": null,
            "grid_gap": null,
            "grid_row": null,
            "grid_template_areas": null,
            "grid_template_columns": null,
            "grid_template_rows": null,
            "height": null,
            "justify_content": null,
            "justify_items": null,
            "left": null,
            "margin": null,
            "max_height": null,
            "max_width": null,
            "min_height": null,
            "min_width": null,
            "object_fit": null,
            "object_position": null,
            "order": null,
            "overflow": null,
            "overflow_x": null,
            "overflow_y": null,
            "padding": null,
            "right": null,
            "top": null,
            "visibility": null,
            "width": null
          }
        },
        "7032a07befc147119e180ee4ee0c5ae3": {
          "model_module": "@jupyter-widgets/controls",
          "model_name": "ProgressStyleModel",
          "model_module_version": "1.5.0",
          "state": {
            "_model_module": "@jupyter-widgets/controls",
            "_model_module_version": "1.5.0",
            "_model_name": "ProgressStyleModel",
            "_view_count": null,
            "_view_module": "@jupyter-widgets/base",
            "_view_module_version": "1.2.0",
            "_view_name": "StyleView",
            "bar_color": null,
            "description_width": ""
          }
        },
        "ba381fae3e5d49c0b1b5c754e2487df8": {
          "model_module": "@jupyter-widgets/base",
          "model_name": "LayoutModel",
          "model_module_version": "1.2.0",
          "state": {
            "_model_module": "@jupyter-widgets/base",
            "_model_module_version": "1.2.0",
            "_model_name": "LayoutModel",
            "_view_count": null,
            "_view_module": "@jupyter-widgets/base",
            "_view_module_version": "1.2.0",
            "_view_name": "LayoutView",
            "align_content": null,
            "align_items": null,
            "align_self": null,
            "border": null,
            "bottom": null,
            "display": null,
            "flex": null,
            "flex_flow": null,
            "grid_area": null,
            "grid_auto_columns": null,
            "grid_auto_flow": null,
            "grid_auto_rows": null,
            "grid_column": null,
            "grid_gap": null,
            "grid_row": null,
            "grid_template_areas": null,
            "grid_template_columns": null,
            "grid_template_rows": null,
            "height": null,
            "justify_content": null,
            "justify_items": null,
            "left": null,
            "margin": null,
            "max_height": null,
            "max_width": null,
            "min_height": null,
            "min_width": null,
            "object_fit": null,
            "object_position": null,
            "order": null,
            "overflow": null,
            "overflow_x": null,
            "overflow_y": null,
            "padding": null,
            "right": null,
            "top": null,
            "visibility": null,
            "width": null
          }
        },
        "a5c1ddfb73d046838c4ab43ab1c5b822": {
          "model_module": "@jupyter-widgets/controls",
          "model_name": "DescriptionStyleModel",
          "model_module_version": "1.5.0",
          "state": {
            "_model_module": "@jupyter-widgets/controls",
            "_model_module_version": "1.5.0",
            "_model_name": "DescriptionStyleModel",
            "_view_count": null,
            "_view_module": "@jupyter-widgets/base",
            "_view_module_version": "1.2.0",
            "_view_name": "StyleView",
            "description_width": ""
          }
        },
        "829c6d53f5da46f7bf6221c8ba5afeea": {
          "model_module": "@jupyter-widgets/controls",
          "model_name": "HBoxModel",
          "model_module_version": "1.5.0",
          "state": {
            "_dom_classes": [],
            "_model_module": "@jupyter-widgets/controls",
            "_model_module_version": "1.5.0",
            "_model_name": "HBoxModel",
            "_view_count": null,
            "_view_module": "@jupyter-widgets/controls",
            "_view_module_version": "1.5.0",
            "_view_name": "HBoxView",
            "box_style": "",
            "children": [
              "IPY_MODEL_da3f929d68634ec291a0e891cfdb3cf8",
              "IPY_MODEL_14b610dc7366453e8493966ada47ce29",
              "IPY_MODEL_e2c6505255a842a7ac74884b33511134"
            ],
            "layout": "IPY_MODEL_2a28eeb254ab48aca07ca46ab30bd12d"
          }
        },
        "da3f929d68634ec291a0e891cfdb3cf8": {
          "model_module": "@jupyter-widgets/controls",
          "model_name": "HTMLModel",
          "model_module_version": "1.5.0",
          "state": {
            "_dom_classes": [],
            "_model_module": "@jupyter-widgets/controls",
            "_model_module_version": "1.5.0",
            "_model_name": "HTMLModel",
            "_view_count": null,
            "_view_module": "@jupyter-widgets/controls",
            "_view_module_version": "1.5.0",
            "_view_name": "HTMLView",
            "description": "",
            "description_tooltip": null,
            "layout": "IPY_MODEL_3721a84791bf4e4189806f73864b49c5",
            "placeholder": "​",
            "style": "IPY_MODEL_df2466fc1bfc4439a9ed20ae16745706",
            "value": "100%"
          }
        },
        "14b610dc7366453e8493966ada47ce29": {
          "model_module": "@jupyter-widgets/controls",
          "model_name": "FloatProgressModel",
          "model_module_version": "1.5.0",
          "state": {
            "_dom_classes": [],
            "_model_module": "@jupyter-widgets/controls",
            "_model_module_version": "1.5.0",
            "_model_name": "FloatProgressModel",
            "_view_count": null,
            "_view_module": "@jupyter-widgets/controls",
            "_view_module_version": "1.5.0",
            "_view_name": "ProgressView",
            "bar_style": "success",
            "description": "",
            "description_tooltip": null,
            "layout": "IPY_MODEL_c968a3181845474bac399f7b3aae5fa9",
            "max": 25,
            "min": 0,
            "orientation": "horizontal",
            "style": "IPY_MODEL_ade541670f50474e8dfbfbd23f67066e",
            "value": 25
          }
        },
        "e2c6505255a842a7ac74884b33511134": {
          "model_module": "@jupyter-widgets/controls",
          "model_name": "HTMLModel",
          "model_module_version": "1.5.0",
          "state": {
            "_dom_classes": [],
            "_model_module": "@jupyter-widgets/controls",
            "_model_module_version": "1.5.0",
            "_model_name": "HTMLModel",
            "_view_count": null,
            "_view_module": "@jupyter-widgets/controls",
            "_view_module_version": "1.5.0",
            "_view_name": "HTMLView",
            "description": "",
            "description_tooltip": null,
            "layout": "IPY_MODEL_bfc6e81688674658a1eaf98b435246a3",
            "placeholder": "​",
            "style": "IPY_MODEL_f2bd7bdd114f49e1a3b20e019742c2ba",
            "value": " 25/25 [00:47&lt;00:00,  1.90s/it]"
          }
        },
        "2a28eeb254ab48aca07ca46ab30bd12d": {
          "model_module": "@jupyter-widgets/base",
          "model_name": "LayoutModel",
          "model_module_version": "1.2.0",
          "state": {
            "_model_module": "@jupyter-widgets/base",
            "_model_module_version": "1.2.0",
            "_model_name": "LayoutModel",
            "_view_count": null,
            "_view_module": "@jupyter-widgets/base",
            "_view_module_version": "1.2.0",
            "_view_name": "LayoutView",
            "align_content": null,
            "align_items": null,
            "align_self": null,
            "border": null,
            "bottom": null,
            "display": null,
            "flex": null,
            "flex_flow": null,
            "grid_area": null,
            "grid_auto_columns": null,
            "grid_auto_flow": null,
            "grid_auto_rows": null,
            "grid_column": null,
            "grid_gap": null,
            "grid_row": null,
            "grid_template_areas": null,
            "grid_template_columns": null,
            "grid_template_rows": null,
            "height": null,
            "justify_content": null,
            "justify_items": null,
            "left": null,
            "margin": null,
            "max_height": null,
            "max_width": null,
            "min_height": null,
            "min_width": null,
            "object_fit": null,
            "object_position": null,
            "order": null,
            "overflow": null,
            "overflow_x": null,
            "overflow_y": null,
            "padding": null,
            "right": null,
            "top": null,
            "visibility": null,
            "width": null
          }
        },
        "3721a84791bf4e4189806f73864b49c5": {
          "model_module": "@jupyter-widgets/base",
          "model_name": "LayoutModel",
          "model_module_version": "1.2.0",
          "state": {
            "_model_module": "@jupyter-widgets/base",
            "_model_module_version": "1.2.0",
            "_model_name": "LayoutModel",
            "_view_count": null,
            "_view_module": "@jupyter-widgets/base",
            "_view_module_version": "1.2.0",
            "_view_name": "LayoutView",
            "align_content": null,
            "align_items": null,
            "align_self": null,
            "border": null,
            "bottom": null,
            "display": null,
            "flex": null,
            "flex_flow": null,
            "grid_area": null,
            "grid_auto_columns": null,
            "grid_auto_flow": null,
            "grid_auto_rows": null,
            "grid_column": null,
            "grid_gap": null,
            "grid_row": null,
            "grid_template_areas": null,
            "grid_template_columns": null,
            "grid_template_rows": null,
            "height": null,
            "justify_content": null,
            "justify_items": null,
            "left": null,
            "margin": null,
            "max_height": null,
            "max_width": null,
            "min_height": null,
            "min_width": null,
            "object_fit": null,
            "object_position": null,
            "order": null,
            "overflow": null,
            "overflow_x": null,
            "overflow_y": null,
            "padding": null,
            "right": null,
            "top": null,
            "visibility": null,
            "width": null
          }
        },
        "df2466fc1bfc4439a9ed20ae16745706": {
          "model_module": "@jupyter-widgets/controls",
          "model_name": "DescriptionStyleModel",
          "model_module_version": "1.5.0",
          "state": {
            "_model_module": "@jupyter-widgets/controls",
            "_model_module_version": "1.5.0",
            "_model_name": "DescriptionStyleModel",
            "_view_count": null,
            "_view_module": "@jupyter-widgets/base",
            "_view_module_version": "1.2.0",
            "_view_name": "StyleView",
            "description_width": ""
          }
        },
        "c968a3181845474bac399f7b3aae5fa9": {
          "model_module": "@jupyter-widgets/base",
          "model_name": "LayoutModel",
          "model_module_version": "1.2.0",
          "state": {
            "_model_module": "@jupyter-widgets/base",
            "_model_module_version": "1.2.0",
            "_model_name": "LayoutModel",
            "_view_count": null,
            "_view_module": "@jupyter-widgets/base",
            "_view_module_version": "1.2.0",
            "_view_name": "LayoutView",
            "align_content": null,
            "align_items": null,
            "align_self": null,
            "border": null,
            "bottom": null,
            "display": null,
            "flex": null,
            "flex_flow": null,
            "grid_area": null,
            "grid_auto_columns": null,
            "grid_auto_flow": null,
            "grid_auto_rows": null,
            "grid_column": null,
            "grid_gap": null,
            "grid_row": null,
            "grid_template_areas": null,
            "grid_template_columns": null,
            "grid_template_rows": null,
            "height": null,
            "justify_content": null,
            "justify_items": null,
            "left": null,
            "margin": null,
            "max_height": null,
            "max_width": null,
            "min_height": null,
            "min_width": null,
            "object_fit": null,
            "object_position": null,
            "order": null,
            "overflow": null,
            "overflow_x": null,
            "overflow_y": null,
            "padding": null,
            "right": null,
            "top": null,
            "visibility": null,
            "width": null
          }
        },
        "ade541670f50474e8dfbfbd23f67066e": {
          "model_module": "@jupyter-widgets/controls",
          "model_name": "ProgressStyleModel",
          "model_module_version": "1.5.0",
          "state": {
            "_model_module": "@jupyter-widgets/controls",
            "_model_module_version": "1.5.0",
            "_model_name": "ProgressStyleModel",
            "_view_count": null,
            "_view_module": "@jupyter-widgets/base",
            "_view_module_version": "1.2.0",
            "_view_name": "StyleView",
            "bar_color": null,
            "description_width": ""
          }
        },
        "bfc6e81688674658a1eaf98b435246a3": {
          "model_module": "@jupyter-widgets/base",
          "model_name": "LayoutModel",
          "model_module_version": "1.2.0",
          "state": {
            "_model_module": "@jupyter-widgets/base",
            "_model_module_version": "1.2.0",
            "_model_name": "LayoutModel",
            "_view_count": null,
            "_view_module": "@jupyter-widgets/base",
            "_view_module_version": "1.2.0",
            "_view_name": "LayoutView",
            "align_content": null,
            "align_items": null,
            "align_self": null,
            "border": null,
            "bottom": null,
            "display": null,
            "flex": null,
            "flex_flow": null,
            "grid_area": null,
            "grid_auto_columns": null,
            "grid_auto_flow": null,
            "grid_auto_rows": null,
            "grid_column": null,
            "grid_gap": null,
            "grid_row": null,
            "grid_template_areas": null,
            "grid_template_columns": null,
            "grid_template_rows": null,
            "height": null,
            "justify_content": null,
            "justify_items": null,
            "left": null,
            "margin": null,
            "max_height": null,
            "max_width": null,
            "min_height": null,
            "min_width": null,
            "object_fit": null,
            "object_position": null,
            "order": null,
            "overflow": null,
            "overflow_x": null,
            "overflow_y": null,
            "padding": null,
            "right": null,
            "top": null,
            "visibility": null,
            "width": null
          }
        },
        "f2bd7bdd114f49e1a3b20e019742c2ba": {
          "model_module": "@jupyter-widgets/controls",
          "model_name": "DescriptionStyleModel",
          "model_module_version": "1.5.0",
          "state": {
            "_model_module": "@jupyter-widgets/controls",
            "_model_module_version": "1.5.0",
            "_model_name": "DescriptionStyleModel",
            "_view_count": null,
            "_view_module": "@jupyter-widgets/base",
            "_view_module_version": "1.2.0",
            "_view_name": "StyleView",
            "description_width": ""
          }
        },
        "709b6c75dfb54913b9ec91c9934b5ccf": {
          "model_module": "@jupyter-widgets/controls",
          "model_name": "HBoxModel",
          "model_module_version": "1.5.0",
          "state": {
            "_dom_classes": [],
            "_model_module": "@jupyter-widgets/controls",
            "_model_module_version": "1.5.0",
            "_model_name": "HBoxModel",
            "_view_count": null,
            "_view_module": "@jupyter-widgets/controls",
            "_view_module_version": "1.5.0",
            "_view_name": "HBoxView",
            "box_style": "",
            "children": [
              "IPY_MODEL_ca3632c08ff149ea88a431f62abd8167",
              "IPY_MODEL_69bcabb6f8224e769399fdb1c401e3b4",
              "IPY_MODEL_331c10a3a3ee47e4be6e84211cea1301"
            ],
            "layout": "IPY_MODEL_52876d6de17b43f68a24f112b38bb38a"
          }
        },
        "ca3632c08ff149ea88a431f62abd8167": {
          "model_module": "@jupyter-widgets/controls",
          "model_name": "HTMLModel",
          "model_module_version": "1.5.0",
          "state": {
            "_dom_classes": [],
            "_model_module": "@jupyter-widgets/controls",
            "_model_module_version": "1.5.0",
            "_model_name": "HTMLModel",
            "_view_count": null,
            "_view_module": "@jupyter-widgets/controls",
            "_view_module_version": "1.5.0",
            "_view_name": "HTMLView",
            "description": "",
            "description_tooltip": null,
            "layout": "IPY_MODEL_4a186dc1c2d14deb9d695bd463ff9bfe",
            "placeholder": "​",
            "style": "IPY_MODEL_5201ae662f924516aa9cd85c8cbba2c7",
            "value": "100%"
          }
        },
        "69bcabb6f8224e769399fdb1c401e3b4": {
          "model_module": "@jupyter-widgets/controls",
          "model_name": "FloatProgressModel",
          "model_module_version": "1.5.0",
          "state": {
            "_dom_classes": [],
            "_model_module": "@jupyter-widgets/controls",
            "_model_module_version": "1.5.0",
            "_model_name": "FloatProgressModel",
            "_view_count": null,
            "_view_module": "@jupyter-widgets/controls",
            "_view_module_version": "1.5.0",
            "_view_name": "ProgressView",
            "bar_style": "success",
            "description": "",
            "description_tooltip": null,
            "layout": "IPY_MODEL_0d4ef726292a47af8ed6bef0a7098179",
            "max": 25,
            "min": 0,
            "orientation": "horizontal",
            "style": "IPY_MODEL_b1200feb90744d889d106b85cc398238",
            "value": 25
          }
        },
        "331c10a3a3ee47e4be6e84211cea1301": {
          "model_module": "@jupyter-widgets/controls",
          "model_name": "HTMLModel",
          "model_module_version": "1.5.0",
          "state": {
            "_dom_classes": [],
            "_model_module": "@jupyter-widgets/controls",
            "_model_module_version": "1.5.0",
            "_model_name": "HTMLModel",
            "_view_count": null,
            "_view_module": "@jupyter-widgets/controls",
            "_view_module_version": "1.5.0",
            "_view_name": "HTMLView",
            "description": "",
            "description_tooltip": null,
            "layout": "IPY_MODEL_1d0c5ac31a1e46eaa3feedc16fbac469",
            "placeholder": "​",
            "style": "IPY_MODEL_50bac7864ca04620baca7e8b4506c963",
            "value": " 25/25 [00:47&lt;00:00,  1.89s/it]"
          }
        },
        "52876d6de17b43f68a24f112b38bb38a": {
          "model_module": "@jupyter-widgets/base",
          "model_name": "LayoutModel",
          "model_module_version": "1.2.0",
          "state": {
            "_model_module": "@jupyter-widgets/base",
            "_model_module_version": "1.2.0",
            "_model_name": "LayoutModel",
            "_view_count": null,
            "_view_module": "@jupyter-widgets/base",
            "_view_module_version": "1.2.0",
            "_view_name": "LayoutView",
            "align_content": null,
            "align_items": null,
            "align_self": null,
            "border": null,
            "bottom": null,
            "display": null,
            "flex": null,
            "flex_flow": null,
            "grid_area": null,
            "grid_auto_columns": null,
            "grid_auto_flow": null,
            "grid_auto_rows": null,
            "grid_column": null,
            "grid_gap": null,
            "grid_row": null,
            "grid_template_areas": null,
            "grid_template_columns": null,
            "grid_template_rows": null,
            "height": null,
            "justify_content": null,
            "justify_items": null,
            "left": null,
            "margin": null,
            "max_height": null,
            "max_width": null,
            "min_height": null,
            "min_width": null,
            "object_fit": null,
            "object_position": null,
            "order": null,
            "overflow": null,
            "overflow_x": null,
            "overflow_y": null,
            "padding": null,
            "right": null,
            "top": null,
            "visibility": null,
            "width": null
          }
        },
        "4a186dc1c2d14deb9d695bd463ff9bfe": {
          "model_module": "@jupyter-widgets/base",
          "model_name": "LayoutModel",
          "model_module_version": "1.2.0",
          "state": {
            "_model_module": "@jupyter-widgets/base",
            "_model_module_version": "1.2.0",
            "_model_name": "LayoutModel",
            "_view_count": null,
            "_view_module": "@jupyter-widgets/base",
            "_view_module_version": "1.2.0",
            "_view_name": "LayoutView",
            "align_content": null,
            "align_items": null,
            "align_self": null,
            "border": null,
            "bottom": null,
            "display": null,
            "flex": null,
            "flex_flow": null,
            "grid_area": null,
            "grid_auto_columns": null,
            "grid_auto_flow": null,
            "grid_auto_rows": null,
            "grid_column": null,
            "grid_gap": null,
            "grid_row": null,
            "grid_template_areas": null,
            "grid_template_columns": null,
            "grid_template_rows": null,
            "height": null,
            "justify_content": null,
            "justify_items": null,
            "left": null,
            "margin": null,
            "max_height": null,
            "max_width": null,
            "min_height": null,
            "min_width": null,
            "object_fit": null,
            "object_position": null,
            "order": null,
            "overflow": null,
            "overflow_x": null,
            "overflow_y": null,
            "padding": null,
            "right": null,
            "top": null,
            "visibility": null,
            "width": null
          }
        },
        "5201ae662f924516aa9cd85c8cbba2c7": {
          "model_module": "@jupyter-widgets/controls",
          "model_name": "DescriptionStyleModel",
          "model_module_version": "1.5.0",
          "state": {
            "_model_module": "@jupyter-widgets/controls",
            "_model_module_version": "1.5.0",
            "_model_name": "DescriptionStyleModel",
            "_view_count": null,
            "_view_module": "@jupyter-widgets/base",
            "_view_module_version": "1.2.0",
            "_view_name": "StyleView",
            "description_width": ""
          }
        },
        "0d4ef726292a47af8ed6bef0a7098179": {
          "model_module": "@jupyter-widgets/base",
          "model_name": "LayoutModel",
          "model_module_version": "1.2.0",
          "state": {
            "_model_module": "@jupyter-widgets/base",
            "_model_module_version": "1.2.0",
            "_model_name": "LayoutModel",
            "_view_count": null,
            "_view_module": "@jupyter-widgets/base",
            "_view_module_version": "1.2.0",
            "_view_name": "LayoutView",
            "align_content": null,
            "align_items": null,
            "align_self": null,
            "border": null,
            "bottom": null,
            "display": null,
            "flex": null,
            "flex_flow": null,
            "grid_area": null,
            "grid_auto_columns": null,
            "grid_auto_flow": null,
            "grid_auto_rows": null,
            "grid_column": null,
            "grid_gap": null,
            "grid_row": null,
            "grid_template_areas": null,
            "grid_template_columns": null,
            "grid_template_rows": null,
            "height": null,
            "justify_content": null,
            "justify_items": null,
            "left": null,
            "margin": null,
            "max_height": null,
            "max_width": null,
            "min_height": null,
            "min_width": null,
            "object_fit": null,
            "object_position": null,
            "order": null,
            "overflow": null,
            "overflow_x": null,
            "overflow_y": null,
            "padding": null,
            "right": null,
            "top": null,
            "visibility": null,
            "width": null
          }
        },
        "b1200feb90744d889d106b85cc398238": {
          "model_module": "@jupyter-widgets/controls",
          "model_name": "ProgressStyleModel",
          "model_module_version": "1.5.0",
          "state": {
            "_model_module": "@jupyter-widgets/controls",
            "_model_module_version": "1.5.0",
            "_model_name": "ProgressStyleModel",
            "_view_count": null,
            "_view_module": "@jupyter-widgets/base",
            "_view_module_version": "1.2.0",
            "_view_name": "StyleView",
            "bar_color": null,
            "description_width": ""
          }
        },
        "1d0c5ac31a1e46eaa3feedc16fbac469": {
          "model_module": "@jupyter-widgets/base",
          "model_name": "LayoutModel",
          "model_module_version": "1.2.0",
          "state": {
            "_model_module": "@jupyter-widgets/base",
            "_model_module_version": "1.2.0",
            "_model_name": "LayoutModel",
            "_view_count": null,
            "_view_module": "@jupyter-widgets/base",
            "_view_module_version": "1.2.0",
            "_view_name": "LayoutView",
            "align_content": null,
            "align_items": null,
            "align_self": null,
            "border": null,
            "bottom": null,
            "display": null,
            "flex": null,
            "flex_flow": null,
            "grid_area": null,
            "grid_auto_columns": null,
            "grid_auto_flow": null,
            "grid_auto_rows": null,
            "grid_column": null,
            "grid_gap": null,
            "grid_row": null,
            "grid_template_areas": null,
            "grid_template_columns": null,
            "grid_template_rows": null,
            "height": null,
            "justify_content": null,
            "justify_items": null,
            "left": null,
            "margin": null,
            "max_height": null,
            "max_width": null,
            "min_height": null,
            "min_width": null,
            "object_fit": null,
            "object_position": null,
            "order": null,
            "overflow": null,
            "overflow_x": null,
            "overflow_y": null,
            "padding": null,
            "right": null,
            "top": null,
            "visibility": null,
            "width": null
          }
        },
        "50bac7864ca04620baca7e8b4506c963": {
          "model_module": "@jupyter-widgets/controls",
          "model_name": "DescriptionStyleModel",
          "model_module_version": "1.5.0",
          "state": {
            "_model_module": "@jupyter-widgets/controls",
            "_model_module_version": "1.5.0",
            "_model_name": "DescriptionStyleModel",
            "_view_count": null,
            "_view_module": "@jupyter-widgets/base",
            "_view_module_version": "1.2.0",
            "_view_name": "StyleView",
            "description_width": ""
          }
        },
        "24a76e98d78442e7b18c898ad2779288": {
          "model_module": "@jupyter-widgets/controls",
          "model_name": "HBoxModel",
          "model_module_version": "1.5.0",
          "state": {
            "_dom_classes": [],
            "_model_module": "@jupyter-widgets/controls",
            "_model_module_version": "1.5.0",
            "_model_name": "HBoxModel",
            "_view_count": null,
            "_view_module": "@jupyter-widgets/controls",
            "_view_module_version": "1.5.0",
            "_view_name": "HBoxView",
            "box_style": "",
            "children": [
              "IPY_MODEL_544404872ae542cebe91e55cca1ab307",
              "IPY_MODEL_c5ded6d892784e189f0491f91cccf323",
              "IPY_MODEL_a439a439dff743058d08fe87c91133a1"
            ],
            "layout": "IPY_MODEL_001005d25a964de69ae9e7e573b1b5da"
          }
        },
        "544404872ae542cebe91e55cca1ab307": {
          "model_module": "@jupyter-widgets/controls",
          "model_name": "HTMLModel",
          "model_module_version": "1.5.0",
          "state": {
            "_dom_classes": [],
            "_model_module": "@jupyter-widgets/controls",
            "_model_module_version": "1.5.0",
            "_model_name": "HTMLModel",
            "_view_count": null,
            "_view_module": "@jupyter-widgets/controls",
            "_view_module_version": "1.5.0",
            "_view_name": "HTMLView",
            "description": "",
            "description_tooltip": null,
            "layout": "IPY_MODEL_5591e3af6f5143eea3daa515ca35a0cd",
            "placeholder": "​",
            "style": "IPY_MODEL_d84dc8c0a4c44ae198d20de87be664a6",
            "value": "100%"
          }
        },
        "c5ded6d892784e189f0491f91cccf323": {
          "model_module": "@jupyter-widgets/controls",
          "model_name": "FloatProgressModel",
          "model_module_version": "1.5.0",
          "state": {
            "_dom_classes": [],
            "_model_module": "@jupyter-widgets/controls",
            "_model_module_version": "1.5.0",
            "_model_name": "FloatProgressModel",
            "_view_count": null,
            "_view_module": "@jupyter-widgets/controls",
            "_view_module_version": "1.5.0",
            "_view_name": "ProgressView",
            "bar_style": "success",
            "description": "",
            "description_tooltip": null,
            "layout": "IPY_MODEL_afb8511c8da9437292f859eb666f92d6",
            "max": 5,
            "min": 0,
            "orientation": "horizontal",
            "style": "IPY_MODEL_f3b4d8cb17784eb8bc54e605b5957272",
            "value": 5
          }
        },
        "a439a439dff743058d08fe87c91133a1": {
          "model_module": "@jupyter-widgets/controls",
          "model_name": "HTMLModel",
          "model_module_version": "1.5.0",
          "state": {
            "_dom_classes": [],
            "_model_module": "@jupyter-widgets/controls",
            "_model_module_version": "1.5.0",
            "_model_name": "HTMLModel",
            "_view_count": null,
            "_view_module": "@jupyter-widgets/controls",
            "_view_module_version": "1.5.0",
            "_view_name": "HTMLView",
            "description": "",
            "description_tooltip": null,
            "layout": "IPY_MODEL_1e52aaa3860f4529a3996a000fbda247",
            "placeholder": "​",
            "style": "IPY_MODEL_d2629d043a2f444c8ffc30dfad161406",
            "value": " 5/5 [00:07&lt;00:00,  1.54s/it]"
          }
        },
        "001005d25a964de69ae9e7e573b1b5da": {
          "model_module": "@jupyter-widgets/base",
          "model_name": "LayoutModel",
          "model_module_version": "1.2.0",
          "state": {
            "_model_module": "@jupyter-widgets/base",
            "_model_module_version": "1.2.0",
            "_model_name": "LayoutModel",
            "_view_count": null,
            "_view_module": "@jupyter-widgets/base",
            "_view_module_version": "1.2.0",
            "_view_name": "LayoutView",
            "align_content": null,
            "align_items": null,
            "align_self": null,
            "border": null,
            "bottom": null,
            "display": null,
            "flex": null,
            "flex_flow": null,
            "grid_area": null,
            "grid_auto_columns": null,
            "grid_auto_flow": null,
            "grid_auto_rows": null,
            "grid_column": null,
            "grid_gap": null,
            "grid_row": null,
            "grid_template_areas": null,
            "grid_template_columns": null,
            "grid_template_rows": null,
            "height": null,
            "justify_content": null,
            "justify_items": null,
            "left": null,
            "margin": null,
            "max_height": null,
            "max_width": null,
            "min_height": null,
            "min_width": null,
            "object_fit": null,
            "object_position": null,
            "order": null,
            "overflow": null,
            "overflow_x": null,
            "overflow_y": null,
            "padding": null,
            "right": null,
            "top": null,
            "visibility": null,
            "width": null
          }
        },
        "5591e3af6f5143eea3daa515ca35a0cd": {
          "model_module": "@jupyter-widgets/base",
          "model_name": "LayoutModel",
          "model_module_version": "1.2.0",
          "state": {
            "_model_module": "@jupyter-widgets/base",
            "_model_module_version": "1.2.0",
            "_model_name": "LayoutModel",
            "_view_count": null,
            "_view_module": "@jupyter-widgets/base",
            "_view_module_version": "1.2.0",
            "_view_name": "LayoutView",
            "align_content": null,
            "align_items": null,
            "align_self": null,
            "border": null,
            "bottom": null,
            "display": null,
            "flex": null,
            "flex_flow": null,
            "grid_area": null,
            "grid_auto_columns": null,
            "grid_auto_flow": null,
            "grid_auto_rows": null,
            "grid_column": null,
            "grid_gap": null,
            "grid_row": null,
            "grid_template_areas": null,
            "grid_template_columns": null,
            "grid_template_rows": null,
            "height": null,
            "justify_content": null,
            "justify_items": null,
            "left": null,
            "margin": null,
            "max_height": null,
            "max_width": null,
            "min_height": null,
            "min_width": null,
            "object_fit": null,
            "object_position": null,
            "order": null,
            "overflow": null,
            "overflow_x": null,
            "overflow_y": null,
            "padding": null,
            "right": null,
            "top": null,
            "visibility": null,
            "width": null
          }
        },
        "d84dc8c0a4c44ae198d20de87be664a6": {
          "model_module": "@jupyter-widgets/controls",
          "model_name": "DescriptionStyleModel",
          "model_module_version": "1.5.0",
          "state": {
            "_model_module": "@jupyter-widgets/controls",
            "_model_module_version": "1.5.0",
            "_model_name": "DescriptionStyleModel",
            "_view_count": null,
            "_view_module": "@jupyter-widgets/base",
            "_view_module_version": "1.2.0",
            "_view_name": "StyleView",
            "description_width": ""
          }
        },
        "afb8511c8da9437292f859eb666f92d6": {
          "model_module": "@jupyter-widgets/base",
          "model_name": "LayoutModel",
          "model_module_version": "1.2.0",
          "state": {
            "_model_module": "@jupyter-widgets/base",
            "_model_module_version": "1.2.0",
            "_model_name": "LayoutModel",
            "_view_count": null,
            "_view_module": "@jupyter-widgets/base",
            "_view_module_version": "1.2.0",
            "_view_name": "LayoutView",
            "align_content": null,
            "align_items": null,
            "align_self": null,
            "border": null,
            "bottom": null,
            "display": null,
            "flex": null,
            "flex_flow": null,
            "grid_area": null,
            "grid_auto_columns": null,
            "grid_auto_flow": null,
            "grid_auto_rows": null,
            "grid_column": null,
            "grid_gap": null,
            "grid_row": null,
            "grid_template_areas": null,
            "grid_template_columns": null,
            "grid_template_rows": null,
            "height": null,
            "justify_content": null,
            "justify_items": null,
            "left": null,
            "margin": null,
            "max_height": null,
            "max_width": null,
            "min_height": null,
            "min_width": null,
            "object_fit": null,
            "object_position": null,
            "order": null,
            "overflow": null,
            "overflow_x": null,
            "overflow_y": null,
            "padding": null,
            "right": null,
            "top": null,
            "visibility": null,
            "width": null
          }
        },
        "f3b4d8cb17784eb8bc54e605b5957272": {
          "model_module": "@jupyter-widgets/controls",
          "model_name": "ProgressStyleModel",
          "model_module_version": "1.5.0",
          "state": {
            "_model_module": "@jupyter-widgets/controls",
            "_model_module_version": "1.5.0",
            "_model_name": "ProgressStyleModel",
            "_view_count": null,
            "_view_module": "@jupyter-widgets/base",
            "_view_module_version": "1.2.0",
            "_view_name": "StyleView",
            "bar_color": null,
            "description_width": ""
          }
        },
        "1e52aaa3860f4529a3996a000fbda247": {
          "model_module": "@jupyter-widgets/base",
          "model_name": "LayoutModel",
          "model_module_version": "1.2.0",
          "state": {
            "_model_module": "@jupyter-widgets/base",
            "_model_module_version": "1.2.0",
            "_model_name": "LayoutModel",
            "_view_count": null,
            "_view_module": "@jupyter-widgets/base",
            "_view_module_version": "1.2.0",
            "_view_name": "LayoutView",
            "align_content": null,
            "align_items": null,
            "align_self": null,
            "border": null,
            "bottom": null,
            "display": null,
            "flex": null,
            "flex_flow": null,
            "grid_area": null,
            "grid_auto_columns": null,
            "grid_auto_flow": null,
            "grid_auto_rows": null,
            "grid_column": null,
            "grid_gap": null,
            "grid_row": null,
            "grid_template_areas": null,
            "grid_template_columns": null,
            "grid_template_rows": null,
            "height": null,
            "justify_content": null,
            "justify_items": null,
            "left": null,
            "margin": null,
            "max_height": null,
            "max_width": null,
            "min_height": null,
            "min_width": null,
            "object_fit": null,
            "object_position": null,
            "order": null,
            "overflow": null,
            "overflow_x": null,
            "overflow_y": null,
            "padding": null,
            "right": null,
            "top": null,
            "visibility": null,
            "width": null
          }
        },
        "d2629d043a2f444c8ffc30dfad161406": {
          "model_module": "@jupyter-widgets/controls",
          "model_name": "DescriptionStyleModel",
          "model_module_version": "1.5.0",
          "state": {
            "_model_module": "@jupyter-widgets/controls",
            "_model_module_version": "1.5.0",
            "_model_name": "DescriptionStyleModel",
            "_view_count": null,
            "_view_module": "@jupyter-widgets/base",
            "_view_module_version": "1.2.0",
            "_view_name": "StyleView",
            "description_width": ""
          }
        }
      }
    }
  },
  "cells": [
    {
      "cell_type": "markdown",
      "source": [
        "## Import files"
      ],
      "metadata": {
        "id": "9shPMVKQioLc"
      }
    },
    {
      "cell_type": "code",
      "source": [
        "import torch\n",
        "from torch import nn\n",
        "import torchvision\n",
        "from torchvision.transforms import ToTensor\n",
        "import torchvision.transforms as transforms\n",
        "from torch.utils.data import DataLoader\n",
        "import matplotlib.pyplot as plt\n",
        "import numpy as np\n",
        "import pandas as pd\n",
        "from tqdm.auto import tqdm"
      ],
      "metadata": {
        "id": "ALyKF2646raq"
      },
      "execution_count": 31,
      "outputs": []
    },
    {
      "cell_type": "code",
      "source": [
        "import requests\n",
        "from pathlib import Path\n",
        "from google.colab import drive\n",
        "import os\n",
        "import random\n",
        "from PIL import Image\n",
        "from torchvision import datasets\n",
        "from numpy.linalg import norm"
      ],
      "metadata": {
        "id": "cDo7kcCO7JT4"
      },
      "execution_count": 121,
      "outputs": []
    },
    {
      "cell_type": "code",
      "source": [
        "!pip install -q torchmetrics\n",
        "from torchmetrics.classification import MulticlassAccuracy"
      ],
      "metadata": {
        "id": "Simmu0DVP0i3"
      },
      "execution_count": 33,
      "outputs": []
    },
    {
      "cell_type": "code",
      "source": [
        "# set device agnostic code\n",
        "device = 'cuda' if torch.cuda.is_available() else 'cpu'\n",
        "device"
      ],
      "metadata": {
        "colab": {
          "base_uri": "https://localhost:8080/",
          "height": 35
        },
        "id": "snclv4cj7KI6",
        "outputId": "8e022819-61d2-4432-fb07-3f863253a9e5"
      },
      "execution_count": 34,
      "outputs": [
        {
          "output_type": "execute_result",
          "data": {
            "text/plain": [
              "'cpu'"
            ],
            "application/vnd.google.colaboratory.intrinsic+json": {
              "type": "string"
            }
          },
          "metadata": {},
          "execution_count": 34
        }
      ]
    },
    {
      "cell_type": "markdown",
      "source": [
        "## Download custom data"
      ],
      "metadata": {
        "id": "tdzLbgrB_6W_"
      }
    },
    {
      "cell_type": "code",
      "source": [
        "drive.mount('/content/gdrive') \n",
        "# for this data set must be in mydrive"
      ],
      "metadata": {
        "colab": {
          "base_uri": "https://localhost:8080/"
        },
        "id": "WkA-hgW27ZqH",
        "outputId": "b60df6d1-222b-45a9-b34e-4876e1783540"
      },
      "execution_count": 35,
      "outputs": [
        {
          "output_type": "stream",
          "name": "stdout",
          "text": [
            "Drive already mounted at /content/gdrive; to attempt to forcibly remount, call drive.mount(\"/content/gdrive\", force_remount=True).\n"
          ]
        }
      ]
    },
    {
      "cell_type": "code",
      "source": [
        "# wlak through data\n",
        "def walk_through_dir(dir_path):\n",
        "  for dirpath, dirnames, filenames in os.walk(dir_path):\n",
        "    print(f\"There are {len(dirnames)} directories and {len(filenames)} images in '{dirpath}'.\")"
      ],
      "metadata": {
        "id": "HL2RIIN3B7dF"
      },
      "execution_count": 36,
      "outputs": []
    },
    {
      "cell_type": "code",
      "source": [
        "data_path = Path('gdrive/')\n",
        "PATH = data_path / 'MyDrive/GurNum'\n",
        "walk_through_dir(PATH)"
      ],
      "metadata": {
        "colab": {
          "base_uri": "https://localhost:8080/"
        },
        "id": "Z7KnR6aJWxto",
        "outputId": "b80eb51c-72c2-4111-bb1b-4a34f8f3d802"
      },
      "execution_count": 37,
      "outputs": [
        {
          "output_type": "stream",
          "name": "stdout",
          "text": [
            "There are 2 directories and 0 images in 'gdrive/MyDrive/GurNum'.\n",
            "There are 10 directories and 0 images in 'gdrive/MyDrive/GurNum/train'.\n",
            "There are 0 directories and 100 images in 'gdrive/MyDrive/GurNum/train/9'.\n",
            "There are 0 directories and 100 images in 'gdrive/MyDrive/GurNum/train/8'.\n",
            "There are 0 directories and 100 images in 'gdrive/MyDrive/GurNum/train/3'.\n",
            "There are 0 directories and 100 images in 'gdrive/MyDrive/GurNum/train/4'.\n",
            "There are 0 directories and 100 images in 'gdrive/MyDrive/GurNum/train/6'.\n",
            "There are 0 directories and 100 images in 'gdrive/MyDrive/GurNum/train/0'.\n",
            "There are 0 directories and 100 images in 'gdrive/MyDrive/GurNum/train/5'.\n",
            "There are 0 directories and 100 images in 'gdrive/MyDrive/GurNum/train/7'.\n",
            "There are 0 directories and 100 images in 'gdrive/MyDrive/GurNum/train/1'.\n",
            "There are 0 directories and 100 images in 'gdrive/MyDrive/GurNum/train/2'.\n",
            "There are 10 directories and 0 images in 'gdrive/MyDrive/GurNum/val'.\n",
            "There are 0 directories and 17 images in 'gdrive/MyDrive/GurNum/val/3'.\n",
            "There are 0 directories and 18 images in 'gdrive/MyDrive/GurNum/val/8'.\n",
            "There are 0 directories and 16 images in 'gdrive/MyDrive/GurNum/val/1'.\n",
            "There are 0 directories and 18 images in 'gdrive/MyDrive/GurNum/val/0'.\n",
            "There are 0 directories and 17 images in 'gdrive/MyDrive/GurNum/val/2'.\n",
            "There are 0 directories and 18 images in 'gdrive/MyDrive/GurNum/val/5'.\n",
            "There are 0 directories and 18 images in 'gdrive/MyDrive/GurNum/val/4'.\n",
            "There are 0 directories and 18 images in 'gdrive/MyDrive/GurNum/val/6'.\n",
            "There are 0 directories and 20 images in 'gdrive/MyDrive/GurNum/val/9'.\n",
            "There are 0 directories and 18 images in 'gdrive/MyDrive/GurNum/val/7'.\n"
          ]
        }
      ]
    },
    {
      "cell_type": "code",
      "source": [
        "# setup train test path\n",
        "train_dic = PATH / \"train\"\n",
        "test_dic = PATH / \"val\"\n",
        "\n",
        "train_dic, test_dic"
      ],
      "metadata": {
        "colab": {
          "base_uri": "https://localhost:8080/"
        },
        "id": "sm4L6e7RW-Dy",
        "outputId": "640341ca-9742-49d6-9151-0a48522db22d"
      },
      "execution_count": 38,
      "outputs": [
        {
          "output_type": "execute_result",
          "data": {
            "text/plain": [
              "(PosixPath('gdrive/MyDrive/GurNum/train'),\n",
              " PosixPath('gdrive/MyDrive/GurNum/val'))"
            ]
          },
          "metadata": {},
          "execution_count": 38
        }
      ]
    },
    {
      "cell_type": "markdown",
      "source": [
        "##Visualize image"
      ],
      "metadata": {
        "id": "QqSxBuSBXcFA"
      }
    },
    {
      "cell_type": "code",
      "source": [
        "# set random seed\n",
        "random.seed(64)\n",
        "\n",
        "# get all image path list\n",
        "image_path_list = list(PATH.glob(\"*/*/*.bmp\"))\n",
        "\n",
        "# get random image path\n",
        "random_image_path = random.choice(image_path_list)\n",
        "\n",
        "# get image class from image path\n",
        "image_class = random_image_path.parent.stem\n",
        "\n",
        "# open iage\n",
        "img = Image.open(random_image_path)\n",
        "\n",
        "# print metadata\n",
        "print(f\"Random Image Path: {random_image_path}\")\n",
        "print(f\"Image Class: {image_class}\")\n",
        "print(f\"Imahe height: {img.height}\")\n",
        "print(f\"Imahe width: {img.width}\")\n",
        "img"
      ],
      "metadata": {
        "colab": {
          "base_uri": "https://localhost:8080/",
          "height": 118
        },
        "id": "8zswBEmyX9bR",
        "outputId": "5f8f2d86-9c35-4649-95bd-420c2428b472"
      },
      "execution_count": 39,
      "outputs": [
        {
          "output_type": "stream",
          "name": "stdout",
          "text": [
            "Random Image Path: gdrive/MyDrive/GurNum/train/6/16.bmp\n",
            "Image Class: 6\n",
            "Imahe height: 32\n",
            "Imahe width: 32\n"
          ]
        },
        {
          "output_type": "execute_result",
          "data": {
            "text/plain": [
              "<PIL.BmpImagePlugin.BmpImageFile image mode=1 size=32x32 at 0x7F9A041E4EE0>"
            ],
            "image/png": "[encoded data removed]"
          },
          "metadata": {},
          "execution_count": 39
        }
      ]
    },
    {
      "cell_type": "code",
      "source": [
        "# turn image into array\n",
        "img_to_arr = np.asarray(img)\n",
        "\n",
        "# plot image\n",
        "plt.figure(figsize=(5,3))\n",
        "plt.imshow(img_to_arr, cmap = 'gray')\n",
        "plt.title(f\"class name: {image_class} | shape: {img_to_arr.shape}\")\n",
        "plt.axis(False)"
      ],
      "metadata": {
        "colab": {
          "base_uri": "https://localhost:8080/",
          "height": 227
        },
        "id": "siiLFPVXaIzA",
        "outputId": "fc6f3356-4979-4729-bd4c-89e99669b981"
      },
      "execution_count": 40,
      "outputs": [
        {
          "output_type": "execute_result",
          "data": {
            "text/plain": [
              "(-0.5, 31.5, 31.5, -0.5)"
            ]
          },
          "metadata": {},
          "execution_count": 40
        },
        {
          "output_type": "display_data",
          "data": {
            "text/plain": [
              "<Figure size 360x216 with 1 Axes>"
            ],
            "image/png": "[encoded data removed]"
          },
          "metadata": {
            "needs_background": "light"
          }
        }
      ]
    },
    {
      "cell_type": "markdown",
      "source": [
        "## Transforming data"
      ],
      "metadata": {
        "id": "2m_i9yuqbh9L"
      }
    },
    {
      "cell_type": "code",
      "source": [
        "# writre transform for image\n",
        "data_transform = transforms.Compose([\n",
        "    # # # resize image 32x32 --> 64x64\n",
        "    # transforms.Resize(size=(64, 64)),\n",
        "    # turn image in to torch tensor\n",
        "    transforms.Grayscale(),\n",
        "    transforms.ToTensor() # this conver px 0 to 255 from 0.0 to 1.0\n",
        "])\n",
        "\n",
        "# transforms = transforms.Grayscale()"
      ],
      "metadata": {
        "id": "ARA1Q4Dbbw2s"
      },
      "execution_count": 41,
      "outputs": []
    },
    {
      "cell_type": "code",
      "source": [
        "def plot_transform_image(image_paths, trasform, n=3, seed=64):\n",
        "  '''\n",
        "    Plot are in serise of random image\n",
        "\n",
        "    will oprn n image path from image path anf transform them in to torch tensor\n",
        "\n",
        "    Args:\n",
        "      image_paths (list): image path\n",
        "      trasform (PyTorch transforms): transform the image into given transforms\n",
        "      n (int, optional): number of random image path\n",
        "      seed (int, optional): Random seed for random generator | default 64\n",
        "  '''\n",
        "\n",
        "  random.seed(seed)\n",
        "  random_image_path = random.sample(image_paths, k=n)\n",
        "\n",
        "  for image_path in random_image_path:\n",
        "    with Image.open(image_path) as f:\n",
        "      fig, ax = plt.subplots(1, 2)\n",
        "      ax[0].imshow(f, cmap = 'gray')\n",
        "      ax[0].set_title(f\"Original \\nSize: {f.size}\")\n",
        "      ax[0].axis(\"off\")\n",
        "\n",
        "      # Transform and plot image\n",
        "      transformed_image = trasform(f).permute(1, 2, 0) # [height, width, color channel]\n",
        "      ax[1].imshow(transformed_image[:,:,0], cmap = 'gray')\n",
        "      ax[1].set_title(f\"Transform \\nSize: {transformed_image[:,:,0].shape}\")\n",
        "      ax[1].axis(\"off\")\n",
        "\n",
        "      fig.suptitle(f\"Class: {image_path.parent.stem}\", fontsize=16)\n",
        "\n",
        "plot_transform_image(image_path_list, trasform = data_transform, n = 3)"
      ],
      "metadata": {
        "colab": {
          "base_uri": "https://localhost:8080/",
          "height": 701
        },
        "id": "VRQEzaeOdQRo",
        "outputId": "f428058e-34e6-4d82-c671-553a32ca462d"
      },
      "execution_count": 42,
      "outputs": [
        {
          "output_type": "display_data",
          "data": {
            "text/plain": [
              "<Figure size 432x288 with 2 Axes>"
            ],
            "image/png": "[encoded data removed]"
          },
          "metadata": {
            "needs_background": "light"
          }
        },
        {
          "output_type": "display_data",
          "data": {
            "text/plain": [
              "<Figure size 432x288 with 2 Axes>"
            ],
            "image/png": "[encoded data removed]"
          },
          "metadata": {
            "needs_background": "light"
          }
        },
        {
          "output_type": "display_data",
          "data": {
            "text/plain": [
              "<Figure size 432x288 with 2 Axes>"
            ],
            "image/png": "[encoded data removed]"
          },
          "metadata": {
            "needs_background": "light"
          }
        }
      ]
    },
    {
      "cell_type": "markdown",
      "source": [
        "## Load image data using ImageFolder"
      ],
      "metadata": {
        "id": "ss5khTGCg5Yt"
      }
    },
    {
      "cell_type": "code",
      "source": [
        "train_data = datasets.ImageFolder(root = train_dic, transform = data_transform, target_transform = None)\n",
        "test_data = datasets.ImageFolder(root = test_dic, transform = data_transform)\n",
        "\n",
        "print(f\"Train Data: {train_data} \\nTest Data: {test_data}\")"
      ],
      "metadata": {
        "colab": {
          "base_uri": "https://localhost:8080/"
        },
        "id": "GtEjURA-y_LQ",
        "outputId": "fb0862b7-eb34-4ea9-fb91-bc22819b7c9f"
      },
      "execution_count": 43,
      "outputs": [
        {
          "output_type": "stream",
          "name": "stdout",
          "text": [
            "Train Data: Dataset ImageFolder\n",
            "    Number of datapoints: 1000\n",
            "    Root location: gdrive/MyDrive/GurNum/train\n",
            "    StandardTransform\n",
            "Transform: Compose(\n",
            "               Grayscale(num_output_channels=1)\n",
            "               ToTensor()\n",
            "           ) \n",
            "Test Data: Dataset ImageFolder\n",
            "    Number of datapoints: 178\n",
            "    Root location: gdrive/MyDrive/GurNum/val\n",
            "    StandardTransform\n",
            "Transform: Compose(\n",
            "               Grayscale(num_output_channels=1)\n",
            "               ToTensor()\n",
            "           )\n"
          ]
        }
      ]
    },
    {
      "cell_type": "code",
      "source": [
        "# class name\n",
        "class_names = train_data.classes\n",
        "class_names"
      ],
      "metadata": {
        "colab": {
          "base_uri": "https://localhost:8080/"
        },
        "id": "tya4XV910tyr",
        "outputId": "e30b40c0-e66d-4d8e-f0dd-82f2a60bda5c"
      },
      "execution_count": 44,
      "outputs": [
        {
          "output_type": "execute_result",
          "data": {
            "text/plain": [
              "['0', '1', '2', '3', '4', '5', '6', '7', '8', '9']"
            ]
          },
          "metadata": {},
          "execution_count": 44
        }
      ]
    },
    {
      "cell_type": "code",
      "source": [
        "# inx\n",
        "class_to_idx = train_data.class_to_idx\n",
        "class_to_idx"
      ],
      "metadata": {
        "colab": {
          "base_uri": "https://localhost:8080/"
        },
        "id": "X_RiUuLY1G6N",
        "outputId": "ece21044-4dc6-4de2-d651-e313845070ec"
      },
      "execution_count": 45,
      "outputs": [
        {
          "output_type": "execute_result",
          "data": {
            "text/plain": [
              "{'0': 0,\n",
              " '1': 1,\n",
              " '2': 2,\n",
              " '3': 3,\n",
              " '4': 4,\n",
              " '5': 5,\n",
              " '6': 6,\n",
              " '7': 7,\n",
              " '8': 8,\n",
              " '9': 9}"
            ]
          },
          "metadata": {},
          "execution_count": 45
        }
      ]
    },
    {
      "cell_type": "code",
      "source": [
        "img, label = train_data[0][0], train_data[0][1]\n",
        "print(f\"image tensor:\\n{img}\")\n",
        "print(f\"image shape: {img.shape}\")\n",
        "print(f\"image type: {type(img)}\")\n",
        "print(f\"image label: {label}\")\n",
        "print(f\"image label type: {type(label)}\")"
      ],
      "metadata": {
        "colab": {
          "base_uri": "https://localhost:8080/"
        },
        "id": "of1IJPsW1Uu1",
        "outputId": "3eb17a3a-592f-44b6-d80e-9f194d982bf6"
      },
      "execution_count": 46,
      "outputs": [
        {
          "output_type": "stream",
          "name": "stdout",
          "text": [
            "image tensor:\n",
            "tensor([[[1., 1., 1.,  ..., 1., 1., 1.],\n",
            "         [1., 1., 1.,  ..., 1., 1., 1.],\n",
            "         [1., 1., 1.,  ..., 1., 1., 1.],\n",
            "         ...,\n",
            "         [1., 1., 0.,  ..., 1., 1., 1.],\n",
            "         [1., 1., 1.,  ..., 1., 1., 1.],\n",
            "         [1., 1., 1.,  ..., 1., 1., 1.]]])\n",
            "image shape: torch.Size([1, 32, 32])\n",
            "image type: <class 'torch.Tensor'>\n",
            "image label: 0\n",
            "image label type: <class 'int'>\n"
          ]
        }
      ]
    },
    {
      "cell_type": "code",
      "source": [
        "# permute the image\n",
        "per_img = img.permute(1,2,0)\n",
        "\n",
        "# print different shape\n",
        "print(f\"Original image shape: {img.shape} --> [color_channel, height, width]\")\n",
        "print(f\"Permuted image shape: {per_img.shape} --> [height, width, color_channel]\")\n",
        "\n",
        "# Plot the image\n",
        "plt.figure(figsize=(10, 7))\n",
        "plt.imshow(per_img.squeeze(), cmap = 'gray')\n",
        "plt.axis(\"off\")\n",
        "plt.title(class_names[label], fontsize=14);"
      ],
      "metadata": {
        "colab": {
          "base_uri": "https://localhost:8080/",
          "height": 463
        },
        "id": "NV9wBc_f2PjK",
        "outputId": "43408649-2b07-4488-abdf-e81b846f1c7a"
      },
      "execution_count": 47,
      "outputs": [
        {
          "output_type": "stream",
          "name": "stdout",
          "text": [
            "Original image shape: torch.Size([1, 32, 32]) --> [color_channel, height, width]\n",
            "Permuted image shape: torch.Size([32, 32, 1]) --> [height, width, color_channel]\n"
          ]
        },
        {
          "output_type": "display_data",
          "data": {
            "text/plain": [
              "<Figure size 720x504 with 1 Axes>"
            ],
            "image/png": "[encoded data removed]"
          },
          "metadata": {
            "needs_background": "light"
          }
        }
      ]
    },
    {
      "cell_type": "markdown",
      "source": [
        "## DataLoader"
      ],
      "metadata": {
        "id": "NYjnbL-ANvrE"
      }
    },
    {
      "cell_type": "code",
      "source": [],
      "metadata": {
        "id": "AWvxjNUzSSFE"
      },
      "execution_count": 47,
      "outputs": []
    },
    {
      "cell_type": "code",
      "source": [
        "# setup data loader\n",
        "BATCH_SIZE = 32\n",
        "train_dataloader = DataLoader(dataset = train_data, \n",
        "                              batch_size = BATCH_SIZE,\n",
        "                              shuffle = True)\n",
        "\n",
        "test_dataloader = DataLoader(dataset = test_data, \n",
        "                             batch_size = BATCH_SIZE,\n",
        "                             shuffle = False)"
      ],
      "metadata": {
        "id": "vPQRoAwhN60_"
      },
      "execution_count": 48,
      "outputs": []
    },
    {
      "cell_type": "code",
      "source": [
        "img, label = next(iter(train_dataloader))\n",
        "\n",
        "print(f\"Image shape: {img.shape} -> [batch_size, color_channels, height, width]\")\n",
        "print(f\"Label shape: {label.shape}\")"
      ],
      "metadata": {
        "colab": {
          "base_uri": "https://localhost:8080/"
        },
        "id": "C5IFwbXiRv98",
        "outputId": "5264c64f-5b23-4740-b059-fcfc81bde760"
      },
      "execution_count": 49,
      "outputs": [
        {
          "output_type": "stream",
          "name": "stdout",
          "text": [
            "Image shape: torch.Size([32, 1, 32, 32]) -> [batch_size, color_channels, height, width]\n",
            "Label shape: torch.Size([32])\n"
          ]
        }
      ]
    },
    {
      "cell_type": "markdown",
      "source": [
        "## Create Dropout Class"
      ],
      "metadata": {
        "id": "5gc9KG1zc7xA"
      }
    },
    {
      "cell_type": "code",
      "source": [
        "class Dropout(nn.Module):\n",
        "  def __init__(self, probs: float = 0):\n",
        "    super().__init__()\n",
        "    self.probs = probs\n",
        "    if self.probs < 0 or self.probs > 1:\n",
        "      raise ValueError(\"prob must be probability (between 0 t0 1).\")\n",
        "\n",
        "  def forward(self, x):\n",
        "    if self.training:\n",
        "      drop_mat = (torch.empty(x.size()[1]).uniform_(0, 1) >= self.probs)\n",
        "      drop_mat = drop_mat.type(torch.float)\n",
        "      # print(drop_mat)\n",
        "      x = x.mul(drop_mat)\n",
        "      \n",
        "    return x\n",
        "  "
      ],
      "metadata": {
        "id": "H4CYHkEmc_la"
      },
      "execution_count": 50,
      "outputs": []
    },
    {
      "cell_type": "markdown",
      "source": [
        "## Create Model"
      ],
      "metadata": {
        "id": "8XZwXZbWRwdX"
      }
    },
    {
      "cell_type": "code",
      "source": [
        "class GurNumModel(nn.Module):\n",
        "  def __init__(self, input_units: int, hidden_units: int, output_units: int, number_hidden_layers: int, probs: float = 0):\n",
        "    super().__init__()\n",
        "\n",
        "    # self.dropout = Dropout(probs)\n",
        "    layers = []\n",
        "\n",
        "    for i in range(number_hidden_layers):\n",
        "      if i == 0:\n",
        "        layers.append(nn.Flatten())\n",
        "        layers.append(nn.Linear(in_features = input_units, out_features = hidden_units))\n",
        "        layers.append(nn.Tanh())\n",
        "        layers.append(Dropout(probs))\n",
        "\n",
        "      else:\n",
        "        layers.append(nn.Linear(in_features = hidden_units, out_features = hidden_units))\n",
        "        layers.append(nn.Tanh())\n",
        "        layers.append(Dropout(probs))\n",
        "\n",
        "    layers.append(nn.Linear(in_features = hidden_units, out_features = output_units))\n",
        "    layers.append(nn.Tanh())\n",
        "\n",
        "    self.layer = nn.Sequential(*layers)\n",
        "\n",
        "  def forward(self, x):\n",
        "    return self.layer(x)"
      ],
      "metadata": {
        "id": "egi-7Na3OtNM"
      },
      "execution_count": 51,
      "outputs": []
    },
    {
      "cell_type": "code",
      "source": [
        "# gurnum_model = GurNumModel(input_units = 1024, hidden_units = 14, output_units = len(class_names), number_hidden_layers = 4).to(device)\n",
        "# gurnum_model"
      ],
      "metadata": {
        "id": "RDphRMoEPNf4"
      },
      "execution_count": 52,
      "outputs": []
    },
    {
      "cell_type": "markdown",
      "source": [
        "## Dropout Function"
      ],
      "metadata": {
        "id": "H_hKkpGfa0QA"
      }
    },
    {
      "cell_type": "code",
      "source": [
        "def dropout(model: torch.nn.Module, probability: float):\n",
        "  for para in model.state_dict():\n",
        "    # print(f\"para: \\n{para}\")\n",
        "    # print()\n",
        "    model_param = model.state_dict()\n",
        "    if para.split('.')[-1] == 'weight':\n",
        "      # print(f\"gurnum_model.state_dict()[para]: \\n{model_param[para]}\")\n",
        "      # print(model_param[para].shape)\n",
        "      drop_mat = (torch.empty(model_param[para].size()[1]).uniform_(0, 1) >= probability)\n",
        "      drop_mat = drop_mat.type(torch.float)\n",
        "      # print(drop_mat)\n",
        "      model_param[para] = model_param[para].mul(drop_mat)\n",
        "    #   print(f\"gurnum_model.state_dict()[para]: \\n{model_param[para]}\")\n",
        "    # print(\"=====================================================================\")\n",
        "    model.load_state_dict(model_param)\n",
        "    model_param = model.state_dict()\n",
        "    # if para.split('.')[-1] == 'weight':\n",
        "    #   print(\"=====================================================================\")\n",
        "    #   print(f\"gurnum_model.state_dict()[para]: \\n{model_param[para]}\")\n",
        "    #   print(\"=====================================================================\")"
      ],
      "metadata": {
        "id": "JISuea4Ca1SV"
      },
      "execution_count": 53,
      "outputs": []
    },
    {
      "cell_type": "markdown",
      "source": [
        "## Train and Test Loop (Function)"
      ],
      "metadata": {
        "id": "G8baDLlQQhEe"
      }
    },
    {
      "cell_type": "code",
      "source": [
        "# train loop\n",
        "def train_loop(model: torch.nn.Module, dataloader: torch.utils.data.DataLoader,\n",
        "               loss_fn: torch.nn.Module, optimizer: torch.optim.Optimizer,\n",
        "               accuracy_fn, L1_regularization: bool, L2_regularization: bool,\n",
        "               regularization_lambda: float, device: torch.device = device):\n",
        "  \n",
        "  train_loss, train_acc = 0, 0\n",
        "\n",
        "  for batch, (x_train, y_train) in enumerate(dataloader):\n",
        "\n",
        "    if device == 'cuda':\n",
        "      x_train, y_train = x_train.to(device), y_train.to(device) \n",
        "\n",
        "    # train\n",
        "    model.train()\n",
        "\n",
        "    # 1.Forward\n",
        "    # x_train = transforms(x_train).to(device)\n",
        "    y_pred = model(x_train)\n",
        "\n",
        "    # print(f\"\\ny_pred: {y_pred.shape} y_train:{y_train.shape}\\n{torch.argmax(y_pred, dim = 1)}\\n\")\n",
        "    # 2. Loss and accuracy\n",
        "    loss = loss_fn(y_pred, y_train)\n",
        "\n",
        "    # code for Regularization\n",
        "    # L1_regularization = True\n",
        "    l1 = 0\n",
        "    if L1_regularization:\n",
        "      for para in model.parameters():\n",
        "        l1 += para.abs().sum()\n",
        "      loss += regularization_lambda * l1\n",
        "\n",
        "    # L2_regularization = True\n",
        "    l2 = 0\n",
        "    if L2_regularization:\n",
        "      for para in model.parameters():\n",
        "        l2 += para.pow(2).sum()\n",
        "      loss += regularization_lambda * l2\n",
        "\n",
        "    # if Dropout:\n",
        "    #   dropout(model, prob)\n",
        "      \n",
        "\n",
        "    train_loss += loss\n",
        "    acc = accuracy_fn(y_train, torch.argmax(y_pred, dim = 1))\n",
        "    train_acc += acc\n",
        "\n",
        "    # 3. zero grad\n",
        "    optimizer.zero_grad()\n",
        "\n",
        "    # 4. backward\n",
        "    loss.backward()\n",
        "\n",
        "    # 5. optimizer step\n",
        "    optimizer.step()\n",
        "\n",
        "  train_loss /= len(dataloader)\n",
        "  train_acc /= len(dataloader)\n",
        "\n",
        "  print(f\"Train Loss: {train_loss:.4f} Train Accuracy: {train_acc:.4f}\")\n",
        "\n",
        "  return train_loss\n",
        "\n",
        "\n",
        "\n",
        "# test loop\n",
        "def test_loop(model: torch.nn.Module, dataloader: torch.utils.data.DataLoader,\n",
        "              loss_fn: torch.nn.Module, accuracy_fn,\n",
        "              device: torch.device = device):\n",
        "  \n",
        "  test_loss, test_acc = 0, 0\n",
        "\n",
        "  model.eval()\n",
        "  with torch.inference_mode():\n",
        "    for x_test, y_test in dataloader:\n",
        "\n",
        "      if device == 'cuda':\n",
        "        x_test, y_test = x_test.to(device), y_test.to(device) \n",
        "\n",
        "      # x_test = transforms(x_test).to(device)\n",
        "\n",
        "      # 1. Forward\n",
        "      test_pred = model(x_test)\n",
        "\n",
        "      # 2. Loss and Accuracy\n",
        "      loss = loss_fn(test_pred, y_test)\n",
        "\n",
        "      # code for Regularization\n",
        "      # L1_regularization = True\n",
        "      # l1 = 0\n",
        "      # if L1_regularization:\n",
        "      #   for para in model.parameters():\n",
        "      #     l1 += para.abs().sum()\n",
        "      #   loss += regularization_lambda * l1\n",
        "\n",
        "      # # L2_regularization = True\n",
        "      # l2 = 0\n",
        "      # if L2_regularization:\n",
        "      #   for para in model.parameters():\n",
        "      #     l2 += para.pow(2).sum()\n",
        "      #   loss += regularization_lambda * l2\n",
        "\n",
        "      test_loss += loss\n",
        "\n",
        "      test_acc += accuracy_fn(y_test, torch.argmax(test_pred, dim = 1))\n",
        "\n",
        "    test_loss /= len(dataloader)\n",
        "    test_acc /= len(dataloader)\n",
        "\n",
        "  print(f\"Test Loss: {test_loss:.4f} Test Accuracy: {test_acc:.4f}\")\n",
        "\n",
        "  return test_loss"
      ],
      "metadata": {
        "id": "aIItofEZQoC3"
      },
      "execution_count": 54,
      "outputs": []
    },
    {
      "cell_type": "markdown",
      "source": [
        "## Validate function"
      ],
      "metadata": {
        "id": "FGo7ORG-I0xm"
      }
    },
    {
      "cell_type": "code",
      "source": [
        "# check gradient\n",
        "def valid_loop(model: torch.nn.Module, dataloader: torch.utils.data.DataLoader,\n",
        "               loss_fn: torch.nn.Module, optimizer: torch.optim.Optimizer,\n",
        "               accuracy_fn, device: torch.device = device):\n",
        "  \n",
        "  val_loss = 0\n",
        "\n",
        "  for batch, (x_val, y_val) in enumerate(dataloader):\n",
        "\n",
        "    x_val, y_val = x_val.to(device), y_val.to(device)\n",
        "\n",
        "    model.train()\n",
        "\n",
        "    val_pred = model(x_val)\n",
        "\n",
        "    loss = loss_fn(val_pred, y_val)\n",
        "\n",
        "    optimizer.zero_grad()\n",
        "\n",
        "    loss.backward()\n",
        "\n",
        "    optimizer.step()\n",
        "\n",
        "    val_loss += loss\n",
        "\n",
        "  val_loss /= len(dataloader)\n",
        "\n",
        "  return val_loss\n",
        "\n",
        "  # train_loss, train_acc = 0, 0\n",
        "\n",
        "  # for batch, (x_train, y_train) in enumerate(dataloader):\n",
        "\n",
        "  #   if device == 'cuda':\n",
        "  #     x_train, y_train = x_train.to(device), y_train.to(device) \n",
        "\n",
        "  #   # train\n",
        "  #   model.train()\n",
        "\n",
        "  #   # 1.Forward\n",
        "  #   # x_train = transforms(x_train).to(device)\n",
        "  #   y_pred = model(x_train)\n",
        "\n",
        "  #   # print(f\"\\ny_pred: {y_pred.shape} y_train:{y_train.shape}\\n{torch.argmax(y_pred, dim = 1)}\\n\")\n",
        "  #   # 2. Loss and accuracy\n",
        "  #   loss = loss_fn(y_pred, y_train)\n",
        "\n",
        "  #   # code for Regularization\n",
        "  #   # L1_regularization = True\n",
        "  #   l1 = 0\n",
        "  #   if L1_regularization:\n",
        "  #     for para in model.parameters():\n",
        "  #       l1 += para.abs().sum()\n",
        "  #     loss += regularization_lambda * l1\n",
        "\n",
        "  #   # L2_regularization = True\n",
        "  #   l2 = 0\n",
        "  #   if L2_regularization:\n",
        "  #     for para in model.parameters():\n",
        "  #       l2 += para.pow(2).sum()\n",
        "  #     loss += regularization_lambda * l2\n",
        "\n",
        "  #   # if Dropout:\n",
        "  #   #   dropout(model, prob)\n",
        "      \n",
        "\n",
        "  #   train_loss += loss\n",
        "  #   acc = accuracy_fn(y_train, torch.argmax(y_pred, dim = 1))\n",
        "  #   train_acc += acc\n",
        "\n",
        "  #   # 3. zero grad\n",
        "  #   optimizer.zero_grad()\n",
        "\n",
        "  #   # 4. backward\n",
        "  #   loss.backward()\n",
        "\n",
        "  #   # 5. optimizer step\n",
        "  #   optimizer.step()\n",
        "\n",
        "  # train_loss /= len(dataloader)\n",
        "  # train_acc /= len(dataloader)\n"
      ],
      "metadata": {
        "id": "tUllVpW-I6SA"
      },
      "execution_count": 67,
      "outputs": []
    },
    {
      "cell_type": "markdown",
      "source": [
        "## Train model without any Regularization "
      ],
      "metadata": {
        "id": "epMRc9q9Q1ij"
      }
    },
    {
      "cell_type": "code",
      "source": [
        "torch.manual_seed(32)\n",
        "torch.cuda.manual_seed(32)\n",
        "\n",
        "gurnum_model = GurNumModel(input_units = 1024, hidden_units = 13,\n",
        "                           output_units = len(class_names),\n",
        "                           number_hidden_layers = 3, probs = 0).to(device)\n",
        "gurnum_model\n",
        "\n",
        "\n",
        "# loss\n",
        "loss_fn = nn.CrossEntropyLoss()\n",
        "\n",
        "# optimizer\n",
        "optimizer = torch.optim.Adam(params = gurnum_model.parameters(), lr = 0.003)\n",
        "\n",
        "# accuracy function\n",
        "accuracy_fn = MulticlassAccuracy(num_classes = len(class_names)).to(device)\n",
        "\n",
        "\n",
        "# train model\n",
        "epoches = 25\n",
        "\n",
        "torch.manual_seed(64)\n",
        "torch.cuda.manual_seed(64)\n",
        "\n",
        "regularization_lambda = 0\n",
        "\n",
        "for epoch in tqdm(range(epoches)):\n",
        "\n",
        "  print(f\"Epoch: {epoch+1} --------------------------\")\n",
        "\n",
        "  train_loss = train_loop(model = gurnum_model, dataloader = train_dataloader,\n",
        "                          loss_fn = loss_fn, optimizer = optimizer,\n",
        "                          accuracy_fn = accuracy_fn, L1_regularization = False, \n",
        "                          L2_regularization = False, regularization_lambda = regularization_lambda,\n",
        "                          device = device)\n",
        "  \n",
        "  test_loss = test_loop(model = gurnum_model, dataloader = test_dataloader,\n",
        "                        loss_fn = loss_fn, accuracy_fn = accuracy_fn,\n",
        "                        device = device)\n",
        "  \n",
        "  print(\"\\n\")"
      ],
      "metadata": {
        "colab": {
          "base_uri": "https://localhost:8080/",
          "height": 1000,
          "referenced_widgets": [
            "16a031ae687d46b99e295946617de23c",
            "52e0a3db5efc49c5943dc3c327105833",
            "fb3da925b9d8445c8a48e1fdce64e6a4",
            "945d70b0ffa44d5882ef8d4f30298b9a",
            "9a6acf98437a41e7b17e4f0f3c4eb126",
            "fba12b515ba4439da3ac32af09dc5cc1",
            "13d1697b42534ebd935545c1178c5129",
            "0f67cc75efaa472b8c290b9f9a53bb1b",
            "2ffa90d7a5034556b6d8a980e1702fdc",
            "192e6c7df0d6417188e046c24b782c82",
            "6b20602b64d74859a6ab248ccaec92a4"
          ]
        },
        "id": "tKVwDx1oQ_Yy",
        "outputId": "8497df9d-f202-4824-f169-26bd283ced07"
      },
      "execution_count": 57,
      "outputs": [
        {
          "output_type": "display_data",
          "data": {
            "text/plain": [
              "  0%|          | 0/25 [00:00<?, ?it/s]"
            ],
            "application/vnd.jupyter.widget-view+json": {
              "version_major": 2,
              "version_minor": 0,
              "model_id": "16a031ae687d46b99e295946617de23c"
            }
          },
          "metadata": {}
        },
        {
          "output_type": "stream",
          "name": "stdout",
          "text": [
            "Epoch: 1 --------------------------\n",
            "Train Loss: 2.2017 Train Accuracy: 0.1826\n",
            "Test Loss: 2.0562 Test Accuracy: 0.1678\n",
            "\n",
            "\n",
            "Epoch: 2 --------------------------\n",
            "Train Loss: 1.8424 Train Accuracy: 0.4104\n",
            "Test Loss: 1.7920 Test Accuracy: 0.1489\n",
            "\n",
            "\n",
            "Epoch: 3 --------------------------\n",
            "Train Loss: 1.6595 Train Accuracy: 0.5006\n",
            "Test Loss: 1.7237 Test Accuracy: 0.1778\n",
            "\n",
            "\n",
            "Epoch: 4 --------------------------\n",
            "Train Loss: 1.5836 Train Accuracy: 0.5176\n",
            "Test Loss: 1.5913 Test Accuracy: 0.1947\n",
            "\n",
            "\n",
            "Epoch: 5 --------------------------\n",
            "Train Loss: 1.4878 Train Accuracy: 0.5559\n",
            "Test Loss: 1.5184 Test Accuracy: 0.1932\n",
            "\n",
            "\n",
            "Epoch: 6 --------------------------\n",
            "Train Loss: 1.3864 Train Accuracy: 0.6362\n",
            "Test Loss: 1.4010 Test Accuracy: 0.1899\n",
            "\n",
            "\n",
            "Epoch: 7 --------------------------\n",
            "Train Loss: 1.2984 Train Accuracy: 0.6372\n",
            "Test Loss: 1.3260 Test Accuracy: 0.1897\n",
            "\n",
            "\n",
            "Epoch: 8 --------------------------\n",
            "Train Loss: 1.2385 Train Accuracy: 0.6339\n",
            "Test Loss: 1.3071 Test Accuracy: 0.1901\n",
            "\n",
            "\n",
            "Epoch: 9 --------------------------\n",
            "Train Loss: 1.1855 Train Accuracy: 0.6110\n",
            "Test Loss: 1.2464 Test Accuracy: 0.1962\n",
            "\n",
            "\n",
            "Epoch: 10 --------------------------\n",
            "Train Loss: 1.1686 Train Accuracy: 0.5840\n",
            "Test Loss: 1.3023 Test Accuracy: 0.1986\n",
            "\n",
            "\n",
            "Epoch: 11 --------------------------\n",
            "Train Loss: 1.1251 Train Accuracy: 0.5665\n",
            "Test Loss: 1.3036 Test Accuracy: 0.2105\n",
            "\n",
            "\n",
            "Epoch: 12 --------------------------\n",
            "Train Loss: 1.1128 Train Accuracy: 0.5691\n",
            "Test Loss: 1.2135 Test Accuracy: 0.1926\n",
            "\n",
            "\n",
            "Epoch: 13 --------------------------\n",
            "Train Loss: 1.0906 Train Accuracy: 0.5730\n",
            "Test Loss: 1.1717 Test Accuracy: 0.1827\n",
            "\n",
            "\n",
            "Epoch: 14 --------------------------\n",
            "Train Loss: 1.0703 Train Accuracy: 0.6042\n",
            "Test Loss: 1.1501 Test Accuracy: 0.2001\n",
            "\n",
            "\n",
            "Epoch: 15 --------------------------\n",
            "Train Loss: 1.0701 Train Accuracy: 0.5986\n",
            "Test Loss: 1.2549 Test Accuracy: 0.1979\n",
            "\n",
            "\n",
            "Epoch: 16 --------------------------\n",
            "Train Loss: 1.0908 Train Accuracy: 0.5709\n",
            "Test Loss: 1.3156 Test Accuracy: 0.1566\n",
            "\n",
            "\n",
            "Epoch: 17 --------------------------\n",
            "Train Loss: 1.0613 Train Accuracy: 0.5735\n",
            "Test Loss: 1.1672 Test Accuracy: 0.1565\n",
            "\n",
            "\n",
            "Epoch: 18 --------------------------\n",
            "Train Loss: 1.0403 Train Accuracy: 0.5313\n",
            "Test Loss: 1.1780 Test Accuracy: 0.1623\n",
            "\n",
            "\n",
            "Epoch: 19 --------------------------\n",
            "Train Loss: 1.0638 Train Accuracy: 0.5198\n",
            "Test Loss: 1.1689 Test Accuracy: 0.1804\n",
            "\n",
            "\n",
            "Epoch: 20 --------------------------\n",
            "Train Loss: 1.0381 Train Accuracy: 0.5439\n",
            "Test Loss: 1.1338 Test Accuracy: 0.1885\n",
            "\n",
            "\n",
            "Epoch: 21 --------------------------\n",
            "Train Loss: 1.0271 Train Accuracy: 0.5197\n",
            "Test Loss: 1.1477 Test Accuracy: 0.1640\n",
            "\n",
            "\n",
            "Epoch: 22 --------------------------\n",
            "Train Loss: 1.0215 Train Accuracy: 0.5125\n",
            "Test Loss: 1.1640 Test Accuracy: 0.1629\n",
            "\n",
            "\n",
            "Epoch: 23 --------------------------\n",
            "Train Loss: 1.0255 Train Accuracy: 0.5413\n",
            "Test Loss: 1.1386 Test Accuracy: 0.1655\n",
            "\n",
            "\n",
            "Epoch: 24 --------------------------\n",
            "Train Loss: 1.0225 Train Accuracy: 0.5289\n",
            "Test Loss: 1.1475 Test Accuracy: 0.1908\n",
            "\n",
            "\n",
            "Epoch: 25 --------------------------\n",
            "Train Loss: 1.0215 Train Accuracy: 0.5371\n",
            "Test Loss: 1.1277 Test Accuracy: 0.1837\n",
            "\n",
            "\n"
          ]
        }
      ]
    },
    {
      "cell_type": "markdown",
      "source": [
        "## Train model with L1 Regularization"
      ],
      "metadata": {
        "id": "LXz3p8ZdRGZn"
      }
    },
    {
      "cell_type": "code",
      "source": [
        "torch.manual_seed(64)\n",
        "torch.cuda.manual_seed(64)\n",
        "\n",
        "gurnum_model = GurNumModel(input_units = 1024, hidden_units = 13,\n",
        "                           output_units = len(class_names), \n",
        "                           number_hidden_layers = 3, probs = 0).to(device)\n",
        "gurnum_model\n",
        "\n",
        "\n",
        "# loss\n",
        "loss_fn = nn.CrossEntropyLoss()\n",
        "\n",
        "# optimizer\n",
        "optimizer = torch.optim.Adam(params = gurnum_model.parameters(), lr = 0.0033)\n",
        "\n",
        "# accuracy function\n",
        "accuracy_fn = MulticlassAccuracy(num_classes = len(class_names)).to(device)\n",
        "\n",
        "\n",
        "# train model\n",
        "epoches = 25\n",
        "\n",
        "torch.manual_seed(64)\n",
        "torch.cuda.manual_seed(64)\n",
        "\n",
        "regularization_lambda = 0.0018\n",
        "\n",
        "for epoch in tqdm(range(epoches)):\n",
        "\n",
        "  print(f\"Epoch: {epoch+1} --------------------------\")\n",
        "\n",
        "  train_loss = train_loop(model = gurnum_model, dataloader = train_dataloader,\n",
        "                          loss_fn = loss_fn, optimizer = optimizer,\n",
        "                          accuracy_fn = accuracy_fn, L1_regularization = True, \n",
        "                          L2_regularization = False, regularization_lambda = regularization_lambda,\n",
        "                          device = device)\n",
        "  \n",
        "  test_loss = test_loop(model = gurnum_model, dataloader = test_dataloader,\n",
        "                        loss_fn = loss_fn, accuracy_fn = accuracy_fn,\n",
        "                        device = device)\n",
        "  \n",
        "  print(\"\\n\")"
      ],
      "metadata": {
        "colab": {
          "base_uri": "https://localhost:8080/",
          "height": 1000,
          "referenced_widgets": [
            "50768026c2ad49318639480bb6dcdf99",
            "1b8c770ae65c4b48b33bfcb92471d574",
            "fedff275e4764e34aa2b07e413296a4d",
            "0137f23e1aea4323ba6e59d030667d03",
            "6044493f7c584db8b9148fb3de37ebf9",
            "afff4e1436f94c05a42e4bec6e3eb45a",
            "544f05f8b30f4fa8a55e516eea70ab73",
            "101783e5af644eca89f4770ef557431b",
            "7032a07befc147119e180ee4ee0c5ae3",
            "ba381fae3e5d49c0b1b5c754e2487df8",
            "a5c1ddfb73d046838c4ab43ab1c5b822"
          ]
        },
        "id": "n9DM9_M0NOPP",
        "outputId": "ba64eb37-9807-4aa1-9e83-b4926aebb2a1"
      },
      "execution_count": 58,
      "outputs": [
        {
          "output_type": "display_data",
          "data": {
            "text/plain": [
              "  0%|          | 0/25 [00:00<?, ?it/s]"
            ],
            "application/vnd.jupyter.widget-view+json": {
              "version_major": 2,
              "version_minor": 0,
              "model_id": "50768026c2ad49318639480bb6dcdf99"
            }
          },
          "metadata": {}
        },
        {
          "output_type": "stream",
          "name": "stdout",
          "text": [
            "Epoch: 1 --------------------------\n",
            "Train Loss: 2.4896 Train Accuracy: 0.1872\n",
            "Test Loss: 2.0296 Test Accuracy: 0.1386\n",
            "\n",
            "\n",
            "Epoch: 2 --------------------------\n",
            "Train Loss: 2.1226 Train Accuracy: 0.5886\n",
            "Test Loss: 1.7548 Test Accuracy: 0.1642\n",
            "\n",
            "\n",
            "Epoch: 3 --------------------------\n",
            "Train Loss: 1.8968 Train Accuracy: 0.6549\n",
            "Test Loss: 1.5532 Test Accuracy: 0.2161\n",
            "\n",
            "\n",
            "Epoch: 4 --------------------------\n",
            "Train Loss: 1.7416 Train Accuracy: 0.7282\n",
            "Test Loss: 1.4735 Test Accuracy: 0.2171\n",
            "\n",
            "\n",
            "Epoch: 5 --------------------------\n",
            "Train Loss: 1.6841 Train Accuracy: 0.6718\n",
            "Test Loss: 1.3440 Test Accuracy: 0.1600\n",
            "\n",
            "\n",
            "Epoch: 6 --------------------------\n",
            "Train Loss: 1.6726 Train Accuracy: 0.6611\n",
            "Test Loss: 1.4173 Test Accuracy: 0.1966\n",
            "\n",
            "\n",
            "Epoch: 7 --------------------------\n",
            "Train Loss: 1.6129 Train Accuracy: 0.5972\n",
            "Test Loss: 1.3939 Test Accuracy: 0.1608\n",
            "\n",
            "\n",
            "Epoch: 8 --------------------------\n",
            "Train Loss: 1.5723 Train Accuracy: 0.5677\n",
            "Test Loss: 1.2774 Test Accuracy: 0.1346\n",
            "\n",
            "\n",
            "Epoch: 9 --------------------------\n",
            "Train Loss: 1.5454 Train Accuracy: 0.5644\n",
            "Test Loss: 1.4280 Test Accuracy: 0.1665\n",
            "\n",
            "\n",
            "Epoch: 10 --------------------------\n",
            "Train Loss: 1.5695 Train Accuracy: 0.5700\n",
            "Test Loss: 1.4064 Test Accuracy: 0.1532\n",
            "\n",
            "\n",
            "Epoch: 11 --------------------------\n",
            "Train Loss: 1.5203 Train Accuracy: 0.5920\n",
            "Test Loss: 1.2050 Test Accuracy: 0.1513\n",
            "\n",
            "\n",
            "Epoch: 12 --------------------------\n",
            "Train Loss: 1.4982 Train Accuracy: 0.5964\n",
            "Test Loss: 1.2789 Test Accuracy: 0.1679\n",
            "\n",
            "\n",
            "Epoch: 13 --------------------------\n",
            "Train Loss: 1.5376 Train Accuracy: 0.5643\n",
            "Test Loss: 1.4883 Test Accuracy: 0.1312\n",
            "\n",
            "\n",
            "Epoch: 14 --------------------------\n",
            "Train Loss: 1.5375 Train Accuracy: 0.5535\n",
            "Test Loss: 1.1943 Test Accuracy: 0.1595\n",
            "\n",
            "\n",
            "Epoch: 15 --------------------------\n",
            "Train Loss: 1.4674 Train Accuracy: 0.6213\n",
            "Test Loss: 1.1980 Test Accuracy: 0.1307\n",
            "\n",
            "\n",
            "Epoch: 16 --------------------------\n",
            "Train Loss: 1.4576 Train Accuracy: 0.5918\n",
            "Test Loss: 1.1920 Test Accuracy: 0.1457\n",
            "\n",
            "\n",
            "Epoch: 17 --------------------------\n",
            "Train Loss: 1.4714 Train Accuracy: 0.6002\n",
            "Test Loss: 1.2253 Test Accuracy: 0.1676\n",
            "\n",
            "\n",
            "Epoch: 18 --------------------------\n",
            "Train Loss: 1.4343 Train Accuracy: 0.6039\n",
            "Test Loss: 1.2097 Test Accuracy: 0.1678\n",
            "\n",
            "\n",
            "Epoch: 19 --------------------------\n",
            "Train Loss: 1.4016 Train Accuracy: 0.5566\n",
            "Test Loss: 1.2875 Test Accuracy: 0.1613\n",
            "\n",
            "\n",
            "Epoch: 20 --------------------------\n",
            "Train Loss: 1.5236 Train Accuracy: 0.5308\n",
            "Test Loss: 1.3503 Test Accuracy: 0.1238\n",
            "\n",
            "\n",
            "Epoch: 21 --------------------------\n",
            "Train Loss: 1.5236 Train Accuracy: 0.5648\n",
            "Test Loss: 1.1731 Test Accuracy: 0.1473\n",
            "\n",
            "\n",
            "Epoch: 22 --------------------------\n",
            "Train Loss: 1.4345 Train Accuracy: 0.6171\n",
            "Test Loss: 1.1400 Test Accuracy: 0.1515\n",
            "\n",
            "\n",
            "Epoch: 23 --------------------------\n",
            "Train Loss: 1.4424 Train Accuracy: 0.6083\n",
            "Test Loss: 1.2074 Test Accuracy: 0.1513\n",
            "\n",
            "\n",
            "Epoch: 24 --------------------------\n",
            "Train Loss: 1.4716 Train Accuracy: 0.5882\n",
            "Test Loss: 1.2088 Test Accuracy: 0.1666\n",
            "\n",
            "\n",
            "Epoch: 25 --------------------------\n",
            "Train Loss: 1.4341 Train Accuracy: 0.6543\n",
            "Test Loss: 1.1389 Test Accuracy: 0.2012\n",
            "\n",
            "\n"
          ]
        }
      ]
    },
    {
      "cell_type": "markdown",
      "source": [
        "## Train Model with L2 Regularization"
      ],
      "metadata": {
        "id": "xAZba10SNQEw"
      }
    },
    {
      "cell_type": "code",
      "source": [
        "torch.manual_seed(64)\n",
        "torch.cuda.manual_seed(64)\n",
        "\n",
        "gurnum_model = GurNumModel(input_units = 1024, hidden_units = 13, \n",
        "                           output_units = len(class_names), \n",
        "                           number_hidden_layers = 3, probs = 0).to(device)\n",
        "gurnum_model\n",
        "\n",
        "\n",
        "# loss\n",
        "loss_fn = nn.CrossEntropyLoss()\n",
        "\n",
        "# optimizer\n",
        "optimizer = torch.optim.Adam(params = gurnum_model.parameters(), lr = 0.0033)\n",
        "\n",
        "# accuracy function\n",
        "accuracy_fn = MulticlassAccuracy(num_classes = len(class_names)).to(device)\n",
        "\n",
        "\n",
        "# train model\n",
        "epoches = 25\n",
        "\n",
        "torch.manual_seed(64)\n",
        "torch.cuda.manual_seed(64)\n",
        "\n",
        "regularization_lambda = 0.0019\n",
        "\n",
        "for epoch in tqdm(range(epoches)):\n",
        "\n",
        "  print(f\"Epoch: {epoch+1} --------------------------\")\n",
        "\n",
        "  train_loss = train_loop(model = gurnum_model, dataloader = train_dataloader,\n",
        "                          loss_fn = loss_fn, optimizer = optimizer,\n",
        "                          accuracy_fn = accuracy_fn, L1_regularization = False, \n",
        "                          L2_regularization = True, regularization_lambda = regularization_lambda,\n",
        "                          device = device)\n",
        "  \n",
        "  test_loss = test_loop(model = gurnum_model, dataloader = test_dataloader,\n",
        "                        loss_fn = loss_fn, accuracy_fn = accuracy_fn,\n",
        "                        device = device)\n",
        "  \n",
        "  print(\"\\n\")"
      ],
      "metadata": {
        "colab": {
          "base_uri": "https://localhost:8080/",
          "height": 1000,
          "referenced_widgets": [
            "829c6d53f5da46f7bf6221c8ba5afeea",
            "da3f929d68634ec291a0e891cfdb3cf8",
            "14b610dc7366453e8493966ada47ce29",
            "e2c6505255a842a7ac74884b33511134",
            "2a28eeb254ab48aca07ca46ab30bd12d",
            "3721a84791bf4e4189806f73864b49c5",
            "df2466fc1bfc4439a9ed20ae16745706",
            "c968a3181845474bac399f7b3aae5fa9",
            "ade541670f50474e8dfbfbd23f67066e",
            "bfc6e81688674658a1eaf98b435246a3",
            "f2bd7bdd114f49e1a3b20e019742c2ba"
          ]
        },
        "id": "tZOB0QdYNPsW",
        "outputId": "b2fc3a02-9144-4016-b4dd-89e9c6b1e0e5"
      },
      "execution_count": 59,
      "outputs": [
        {
          "output_type": "display_data",
          "data": {
            "text/plain": [
              "  0%|          | 0/25 [00:00<?, ?it/s]"
            ],
            "application/vnd.jupyter.widget-view+json": {
              "version_major": 2,
              "version_minor": 0,
              "model_id": "829c6d53f5da46f7bf6221c8ba5afeea"
            }
          },
          "metadata": {}
        },
        {
          "output_type": "stream",
          "name": "stdout",
          "text": [
            "Epoch: 1 --------------------------\n",
            "Train Loss: 2.1776 Train Accuracy: 0.2233\n",
            "Test Loss: 1.9638 Test Accuracy: 0.1788\n",
            "\n",
            "\n",
            "Epoch: 2 --------------------------\n",
            "Train Loss: 1.8236 Train Accuracy: 0.6936\n",
            "Test Loss: 1.6508 Test Accuracy: 0.2276\n",
            "\n",
            "\n",
            "Epoch: 3 --------------------------\n",
            "Train Loss: 1.5890 Train Accuracy: 0.7368\n",
            "Test Loss: 1.5034 Test Accuracy: 0.2289\n",
            "\n",
            "\n",
            "Epoch: 4 --------------------------\n",
            "Train Loss: 1.4309 Train Accuracy: 0.7779\n",
            "Test Loss: 1.3363 Test Accuracy: 0.2204\n",
            "\n",
            "\n",
            "Epoch: 5 --------------------------\n",
            "Train Loss: 1.3232 Train Accuracy: 0.8433\n",
            "Test Loss: 1.2481 Test Accuracy: 0.2346\n",
            "\n",
            "\n",
            "Epoch: 6 --------------------------\n",
            "Train Loss: 1.2556 Train Accuracy: 0.7992\n",
            "Test Loss: 1.3229 Test Accuracy: 0.1840\n",
            "\n",
            "\n",
            "Epoch: 7 --------------------------\n",
            "Train Loss: 1.2347 Train Accuracy: 0.7578\n",
            "Test Loss: 1.1428 Test Accuracy: 0.2080\n",
            "\n",
            "\n",
            "Epoch: 8 --------------------------\n",
            "Train Loss: 1.2169 Train Accuracy: 0.7695\n",
            "Test Loss: 1.1307 Test Accuracy: 0.2075\n",
            "\n",
            "\n",
            "Epoch: 9 --------------------------\n",
            "Train Loss: 1.1747 Train Accuracy: 0.7764\n",
            "Test Loss: 1.1007 Test Accuracy: 0.2247\n",
            "\n",
            "\n",
            "Epoch: 10 --------------------------\n",
            "Train Loss: 1.1473 Train Accuracy: 0.8189\n",
            "Test Loss: 1.0855 Test Accuracy: 0.2068\n",
            "\n",
            "\n",
            "Epoch: 11 --------------------------\n",
            "Train Loss: 1.1239 Train Accuracy: 0.7992\n",
            "Test Loss: 1.0388 Test Accuracy: 0.2219\n",
            "\n",
            "\n",
            "Epoch: 12 --------------------------\n",
            "Train Loss: 1.1451 Train Accuracy: 0.7953\n",
            "Test Loss: 1.0657 Test Accuracy: 0.2072\n",
            "\n",
            "\n",
            "Epoch: 13 --------------------------\n",
            "Train Loss: 1.1271 Train Accuracy: 0.7944\n",
            "Test Loss: 1.0763 Test Accuracy: 0.2080\n",
            "\n",
            "\n",
            "Epoch: 14 --------------------------\n",
            "Train Loss: 1.1313 Train Accuracy: 0.7915\n",
            "Test Loss: 1.1463 Test Accuracy: 0.2070\n",
            "\n",
            "\n",
            "Epoch: 15 --------------------------\n",
            "Train Loss: 1.1281 Train Accuracy: 0.8020\n",
            "Test Loss: 0.9953 Test Accuracy: 0.2247\n",
            "\n",
            "\n",
            "Epoch: 16 --------------------------\n",
            "Train Loss: 1.0972 Train Accuracy: 0.8240\n",
            "Test Loss: 1.0425 Test Accuracy: 0.2241\n",
            "\n",
            "\n",
            "Epoch: 17 --------------------------\n",
            "Train Loss: 1.0942 Train Accuracy: 0.8158\n",
            "Test Loss: 1.0033 Test Accuracy: 0.2068\n",
            "\n",
            "\n",
            "Epoch: 18 --------------------------\n",
            "Train Loss: 1.0924 Train Accuracy: 0.8097\n",
            "Test Loss: 1.0126 Test Accuracy: 0.2247\n",
            "\n",
            "\n",
            "Epoch: 19 --------------------------\n",
            "Train Loss: 1.1041 Train Accuracy: 0.7890\n",
            "Test Loss: 1.0928 Test Accuracy: 0.2250\n",
            "\n",
            "\n",
            "Epoch: 20 --------------------------\n",
            "Train Loss: 1.1273 Train Accuracy: 0.8013\n",
            "Test Loss: 1.0183 Test Accuracy: 0.2229\n",
            "\n",
            "\n",
            "Epoch: 21 --------------------------\n",
            "Train Loss: 1.1055 Train Accuracy: 0.7861\n",
            "Test Loss: 1.0003 Test Accuracy: 0.2235\n",
            "\n",
            "\n",
            "Epoch: 22 --------------------------\n",
            "Train Loss: 1.0872 Train Accuracy: 0.8006\n",
            "Test Loss: 0.9888 Test Accuracy: 0.2077\n",
            "\n",
            "\n",
            "Epoch: 23 --------------------------\n",
            "Train Loss: 1.0702 Train Accuracy: 0.8225\n",
            "Test Loss: 1.0091 Test Accuracy: 0.2034\n",
            "\n",
            "\n",
            "Epoch: 24 --------------------------\n",
            "Train Loss: 1.0605 Train Accuracy: 0.8134\n",
            "Test Loss: 0.9899 Test Accuracy: 0.2048\n",
            "\n",
            "\n",
            "Epoch: 25 --------------------------\n",
            "Train Loss: 1.0614 Train Accuracy: 0.8176\n",
            "Test Loss: 1.0029 Test Accuracy: 0.2077\n",
            "\n",
            "\n"
          ]
        }
      ]
    },
    {
      "cell_type": "markdown",
      "source": [
        "## Train model with Dropout"
      ],
      "metadata": {
        "id": "_VTuqW5zSQM3"
      }
    },
    {
      "cell_type": "code",
      "source": [
        "torch.manual_seed(64)\n",
        "torch.cuda.manual_seed(64)\n",
        "\n",
        "gurnum_model = GurNumModel(input_units = 1024, hidden_units = 13, \n",
        "                           output_units = len(class_names), \n",
        "                           number_hidden_layers = 3, probs = 0.25).to(device)\n",
        "print(gurnum_model)\n",
        "\n",
        "\n",
        "# D = (torch.empty(A.size()).uniform_(0, 1) >= p)\n",
        "# x = A.mul(D)\n",
        "\n",
        "# loss\n",
        "loss_fn = nn.CrossEntropyLoss()\n",
        "\n",
        "# optimizer\n",
        "optimizer = torch.optim.Adam(params = gurnum_model.parameters(), lr = 0.0014)\n",
        "\n",
        "# accuracy function\n",
        "accuracy_fn = MulticlassAccuracy(num_classes = len(class_names)).to(device)\n",
        "\n",
        "\n",
        "# train model\n",
        "epoches = 25\n",
        "\n",
        "torch.manual_seed(64)\n",
        "torch.cuda.manual_seed(64)\n",
        "\n",
        "regularization_lambda = 0\n",
        "\n",
        "for epoch in tqdm(range(epoches)):\n",
        "\n",
        "  print(f\"Epoch: {epoch+1} --------------------------\")\n",
        "\n",
        "  train_loss = train_loop(model = gurnum_model, dataloader = train_dataloader,\n",
        "                          loss_fn = loss_fn, optimizer = optimizer,\n",
        "                          accuracy_fn = accuracy_fn, L1_regularization = False, \n",
        "                          L2_regularization = True, regularization_lambda = regularization_lambda,\n",
        "                          device = device)\n",
        "  \n",
        "  test_loss = test_loop(model = gurnum_model, dataloader = test_dataloader,\n",
        "                        loss_fn = loss_fn, accuracy_fn = accuracy_fn,\n",
        "                        device = device)\n",
        "  \n",
        "  print(\"\\n\")"
      ],
      "metadata": {
        "colab": {
          "base_uri": "https://localhost:8080/",
          "height": 1000,
          "referenced_widgets": [
            "709b6c75dfb54913b9ec91c9934b5ccf",
            "ca3632c08ff149ea88a431f62abd8167",
            "69bcabb6f8224e769399fdb1c401e3b4",
            "331c10a3a3ee47e4be6e84211cea1301",
            "52876d6de17b43f68a24f112b38bb38a",
            "4a186dc1c2d14deb9d695bd463ff9bfe",
            "5201ae662f924516aa9cd85c8cbba2c7",
            "0d4ef726292a47af8ed6bef0a7098179",
            "b1200feb90744d889d106b85cc398238",
            "1d0c5ac31a1e46eaa3feedc16fbac469",
            "50bac7864ca04620baca7e8b4506c963"
          ]
        },
        "id": "HZ9s9Sv8S3Du",
        "outputId": "9ac3e91b-705b-46c1-9814-5b666d263ef1"
      },
      "execution_count": 60,
      "outputs": [
        {
          "output_type": "stream",
          "name": "stdout",
          "text": [
            "GurNumModel(\n",
            "  (layer): Sequential(\n",
            "    (0): Flatten(start_dim=1, end_dim=-1)\n",
            "    (1): Linear(in_features=1024, out_features=13, bias=True)\n",
            "    (2): Tanh()\n",
            "    (3): Dropout()\n",
            "    (4): Linear(in_features=13, out_features=13, bias=True)\n",
            "    (5): Tanh()\n",
            "    (6): Dropout()\n",
            "    (7): Linear(in_features=13, out_features=13, bias=True)\n",
            "    (8): Tanh()\n",
            "    (9): Dropout()\n",
            "    (10): Linear(in_features=13, out_features=10, bias=True)\n",
            "    (11): Tanh()\n",
            "  )\n",
            ")\n"
          ]
        },
        {
          "output_type": "display_data",
          "data": {
            "text/plain": [
              "  0%|          | 0/25 [00:00<?, ?it/s]"
            ],
            "application/vnd.jupyter.widget-view+json": {
              "version_major": 2,
              "version_minor": 0,
              "model_id": "709b6c75dfb54913b9ec91c9934b5ccf"
            }
          },
          "metadata": {}
        },
        {
          "output_type": "stream",
          "name": "stdout",
          "text": [
            "Epoch: 1 --------------------------\n",
            "Train Loss: 2.2823 Train Accuracy: 0.0407\n",
            "Test Loss: 2.2081 Test Accuracy: 0.0737\n",
            "\n",
            "\n",
            "Epoch: 2 --------------------------\n",
            "Train Loss: 2.1994 Train Accuracy: 0.1284\n",
            "Test Loss: 2.0844 Test Accuracy: 0.1240\n",
            "\n",
            "\n",
            "Epoch: 3 --------------------------\n",
            "Train Loss: 2.1210 Train Accuracy: 0.1829\n",
            "Test Loss: 1.9570 Test Accuracy: 0.1537\n",
            "\n",
            "\n",
            "Epoch: 4 --------------------------\n",
            "Train Loss: 2.0008 Train Accuracy: 0.2978\n",
            "Test Loss: 1.8588 Test Accuracy: 0.1619\n",
            "\n",
            "\n",
            "Epoch: 5 --------------------------\n",
            "Train Loss: 1.9351 Train Accuracy: 0.3012\n",
            "Test Loss: 1.7922 Test Accuracy: 0.1835\n",
            "\n",
            "\n",
            "Epoch: 6 --------------------------\n",
            "Train Loss: 1.8429 Train Accuracy: 0.4607\n",
            "Test Loss: 1.7532 Test Accuracy: 0.2122\n",
            "\n",
            "\n",
            "Epoch: 7 --------------------------\n",
            "Train Loss: 1.7838 Train Accuracy: 0.4364\n",
            "Test Loss: 1.6894 Test Accuracy: 0.2174\n",
            "\n",
            "\n",
            "Epoch: 8 --------------------------\n",
            "Train Loss: 1.7556 Train Accuracy: 0.4382\n",
            "Test Loss: 1.6763 Test Accuracy: 0.1882\n",
            "\n",
            "\n",
            "Epoch: 9 --------------------------\n",
            "Train Loss: 1.7037 Train Accuracy: 0.4749\n",
            "Test Loss: 1.6579 Test Accuracy: 0.1882\n",
            "\n",
            "\n",
            "Epoch: 10 --------------------------\n",
            "Train Loss: 1.6550 Train Accuracy: 0.5436\n",
            "Test Loss: 1.5968 Test Accuracy: 0.2056\n",
            "\n",
            "\n",
            "Epoch: 11 --------------------------\n",
            "Train Loss: 1.6604 Train Accuracy: 0.5080\n",
            "Test Loss: 1.5608 Test Accuracy: 0.2003\n",
            "\n",
            "\n",
            "Epoch: 12 --------------------------\n",
            "Train Loss: 1.6382 Train Accuracy: 0.5501\n",
            "Test Loss: 1.5661 Test Accuracy: 0.2064\n",
            "\n",
            "\n",
            "Epoch: 13 --------------------------\n",
            "Train Loss: 1.6002 Train Accuracy: 0.5013\n",
            "Test Loss: 1.5590 Test Accuracy: 0.2132\n",
            "\n",
            "\n",
            "Epoch: 14 --------------------------\n",
            "Train Loss: 1.5699 Train Accuracy: 0.5257\n",
            "Test Loss: 1.4821 Test Accuracy: 0.1900\n",
            "\n",
            "\n",
            "Epoch: 15 --------------------------\n",
            "Train Loss: 1.5480 Train Accuracy: 0.5322\n",
            "Test Loss: 1.4660 Test Accuracy: 0.1762\n",
            "\n",
            "\n",
            "Epoch: 16 --------------------------\n",
            "Train Loss: 1.4870 Train Accuracy: 0.5715\n",
            "Test Loss: 1.4250 Test Accuracy: 0.2158\n",
            "\n",
            "\n",
            "Epoch: 17 --------------------------\n",
            "Train Loss: 1.5072 Train Accuracy: 0.5038\n",
            "Test Loss: 1.4188 Test Accuracy: 0.2052\n",
            "\n",
            "\n",
            "Epoch: 18 --------------------------\n",
            "Train Loss: 1.5196 Train Accuracy: 0.4857\n",
            "Test Loss: 1.4718 Test Accuracy: 0.1822\n",
            "\n",
            "\n",
            "Epoch: 19 --------------------------\n",
            "Train Loss: 1.5065 Train Accuracy: 0.4663\n",
            "Test Loss: 1.4071 Test Accuracy: 0.1982\n",
            "\n",
            "\n",
            "Epoch: 20 --------------------------\n",
            "Train Loss: 1.4294 Train Accuracy: 0.4773\n",
            "Test Loss: 1.3531 Test Accuracy: 0.1940\n",
            "\n",
            "\n",
            "Epoch: 21 --------------------------\n",
            "Train Loss: 1.4492 Train Accuracy: 0.4963\n",
            "Test Loss: 1.3652 Test Accuracy: 0.1751\n",
            "\n",
            "\n",
            "Epoch: 22 --------------------------\n",
            "Train Loss: 1.4451 Train Accuracy: 0.4773\n",
            "Test Loss: 1.3517 Test Accuracy: 0.2116\n",
            "\n",
            "\n",
            "Epoch: 23 --------------------------\n",
            "Train Loss: 1.3812 Train Accuracy: 0.5530\n",
            "Test Loss: 1.2885 Test Accuracy: 0.1968\n",
            "\n",
            "\n",
            "Epoch: 24 --------------------------\n",
            "Train Loss: 1.3853 Train Accuracy: 0.5064\n",
            "Test Loss: 1.2785 Test Accuracy: 0.2147\n",
            "\n",
            "\n",
            "Epoch: 25 --------------------------\n",
            "Train Loss: 1.3450 Train Accuracy: 0.5411\n",
            "Test Loss: 1.2807 Test Accuracy: 0.2079\n",
            "\n",
            "\n"
          ]
        }
      ]
    },
    {
      "cell_type": "markdown",
      "source": [
        "## checking gradient"
      ],
      "metadata": {
        "id": "MhT023z3aMHf"
      }
    },
    {
      "cell_type": "code",
      "source": [
        "torch.manual_seed(64)\n",
        "torch.cuda.manual_seed(64)\n",
        "\n",
        "gurnum_model = GurNumModel(input_units = 1024, hidden_units = 13, \n",
        "                           output_units = len(class_names), \n",
        "                           number_hidden_layers = 3, probs = 0).to(device)\n",
        "print(gurnum_model)\n",
        "\n",
        "# loss\n",
        "loss_fn = nn.CrossEntropyLoss()\n",
        "\n",
        "# optimizer\n",
        "optimizer = torch.optim.Adam(params = gurnum_model.parameters(), lr = 0.003)\n",
        "\n",
        "# accuracy function\n",
        "accuracy_fn = MulticlassAccuracy(num_classes = len(class_names)).to(device)\n",
        "\n",
        "\n",
        "# train model\n",
        "epoches = 5\n",
        "\n",
        "approx_ls = []\n",
        "actual_ls = []\n",
        "\n",
        "torch.manual_seed(64)\n",
        "torch.cuda.manual_seed(64)\n",
        "for epoch in tqdm(range(epoches)):\n",
        "\n",
        "  # print(f\"Epoch: {epoch+1} --------------------------\")\n",
        "\n",
        "  # approx grad -- J approx theta\n",
        "  param_state = gurnum_model.state_dict()\n",
        "  # print(param_state)\n",
        "  for param in gurnum_model.state_dict():\n",
        "    # print(param)\n",
        "    if param.split('.')[-1] == 'weight':\n",
        "      s,t = param_state[param].size()\n",
        "      param_state[param] = param_state[param].reshape(s*t,)\n",
        "\n",
        "    # append in list\n",
        "    for i in param_state[param]:\n",
        "      approx_ls.append(i.item())\n",
        "\n",
        "  val_loss = valid_loop(model = gurnum_model, dataloader = train_dataloader,\n",
        "                        loss_fn = loss_fn, optimizer = optimizer,\n",
        "                        accuracy_fn = accuracy_fn, device = device)\n",
        "  \n",
        "\n",
        "  # actual grad -- J actual theta\n",
        "  param_state = gurnum_model.state_dict()\n",
        "  # print(param_state)\n",
        "  for param in gurnum_model.state_dict():\n",
        "    # print(param)\n",
        "    if param.split('.')[-1] == 'weight':\n",
        "      s,t = param_state[param].size()\n",
        "      param_state[param] = param_state[param].reshape(s*t,)\n",
        "\n",
        "    for i in param_state[param]:\n",
        "      actual_ls.append(i.item())\n",
        "\n",
        "  # print(\"\\n\")"
      ],
      "metadata": {
        "colab": {
          "base_uri": "https://localhost:8080/",
          "height": 327,
          "referenced_widgets": [
            "24a76e98d78442e7b18c898ad2779288",
            "544404872ae542cebe91e55cca1ab307",
            "c5ded6d892784e189f0491f91cccf323",
            "a439a439dff743058d08fe87c91133a1",
            "001005d25a964de69ae9e7e573b1b5da",
            "5591e3af6f5143eea3daa515ca35a0cd",
            "d84dc8c0a4c44ae198d20de87be664a6",
            "afb8511c8da9437292f859eb666f92d6",
            "f3b4d8cb17784eb8bc54e605b5957272",
            "1e52aaa3860f4529a3996a000fbda247",
            "d2629d043a2f444c8ffc30dfad161406"
          ]
        },
        "id": "Rs5NF8UJaOdb",
        "outputId": "caa30774-861a-4140-bda4-b478baac6b35"
      },
      "execution_count": 132,
      "outputs": [
        {
          "output_type": "stream",
          "name": "stdout",
          "text": [
            "GurNumModel(\n",
            "  (layer): Sequential(\n",
            "    (0): Flatten(start_dim=1, end_dim=-1)\n",
            "    (1): Linear(in_features=1024, out_features=13, bias=True)\n",
            "    (2): Tanh()\n",
            "    (3): Dropout()\n",
            "    (4): Linear(in_features=13, out_features=13, bias=True)\n",
            "    (5): Tanh()\n",
            "    (6): Dropout()\n",
            "    (7): Linear(in_features=13, out_features=13, bias=True)\n",
            "    (8): Tanh()\n",
            "    (9): Dropout()\n",
            "    (10): Linear(in_features=13, out_features=10, bias=True)\n",
            "    (11): Tanh()\n",
            "  )\n",
            ")\n"
          ]
        },
        {
          "output_type": "display_data",
          "data": {
            "text/plain": [
              "  0%|          | 0/5 [00:00<?, ?it/s]"
            ],
            "application/vnd.jupyter.widget-view+json": {
              "version_major": 2,
              "version_minor": 0,
              "model_id": "24a76e98d78442e7b18c898ad2779288"
            }
          },
          "metadata": {}
        }
      ]
    },
    {
      "cell_type": "code",
      "source": [
        "# param_state = gurnum_model.state_dict()\n",
        "# # print(param_state)\n",
        "# lst = []\n",
        "# for param in gurnum_model.state_dict():\n",
        "#   # print(param)\n",
        "#   if param.split('.')[-1] == 'weight':\n",
        "#     s,t = param_state[param].size()\n",
        "#     param_state[param] = param_state[param].reshape(s*t,)\n",
        "\n",
        "#   # if param.split('.')[-1] == 'bias':\n",
        "#   #   print(param_state[param])\n",
        "#   #   # s = param_state[param].size()\n",
        "#   #   # param_state[param] = param_state[param].reshape(s,)\n",
        "\n",
        "#   print(param_state[param][0])\n",
        "#   for i in param_state[param]:\n",
        "#     # print(type(i.item()))\n",
        "#     lst.append(i.item())\n",
        "#   # print(s,t)\n",
        "#   break\n",
        "\n",
        "# lst"
      ],
      "metadata": {
        "colab": {
          "base_uri": "https://localhost:8080/"
        },
        "id": "nHlMOJj2bg6j",
        "outputId": "4aa72b9f-08a5-4efb-deb8-d06e34ddfe80"
      },
      "execution_count": 133,
      "outputs": [
        {
          "output_type": "stream",
          "name": "stdout",
          "text": [
            "tensor(-0.0281)\n"
          ]
        }
      ]
    },
    {
      "cell_type": "code",
      "source": [
        "len(approx_ls), len(actual_ls)\n",
        "print(approx_ls[0])\n",
        "# approx_ls -= 1e-7\n",
        "print(norm(approx_ls))"
      ],
      "metadata": {
        "colab": {
          "base_uri": "https://localhost:8080/"
        },
        "id": "O1j1Z4UMbtXy",
        "outputId": "e6cfa2dc-9a89-4b9c-8c3d-154374f21274"
      },
      "execution_count": 134,
      "outputs": [
        {
          "output_type": "stream",
          "name": "stdout",
          "text": [
            "-0.028173670172691345\n",
            "13.509070655579754\n"
          ]
        }
      ]
    },
    {
      "cell_type": "code",
      "source": [
        "# # approx_grad = torch.tensor(approx_ls).type(torch.float)\n",
        "# # actual_grad = torch.tensor(actual_ls).type(torch.float)\n",
        "# approx_grad = torch.FloatTensor(approx_ls)\n",
        "# actual_grad = torch.FloatTensor(actual_ls)\n",
        "\n",
        "# approx_grad, actual_grad"
      ],
      "metadata": {
        "id": "IfZ9YPLcqzub"
      },
      "execution_count": 135,
      "outputs": []
    },
    {
      "cell_type": "code",
      "source": [
        "actual_grad = actual_ls   # J theta actual\n",
        "plus_cost = []\n",
        "minus_cost = []\n",
        "epsilon = 1e-7\n",
        "for i in range(len(approx_ls)):\n",
        "  plus_cost.append(approx_ls[i] + epsilon)\n",
        "  minus_cost.append(approx_ls[i] - epsilon)\n",
        "\n",
        "# calcualete approc gradient\n",
        "\n",
        "approx_grad = []  # J theta approx\n",
        "\n",
        "for i, j in zip(plus_cost, minus_cost):\n",
        "  approx_grad.append((i - j) / 2 * epsilon)\n",
        "\n",
        "# approx_grad = cost_diff / (2 * epsilon)\n",
        "\n",
        "numerator = []\n",
        "for i in range(len(actual_grad)):\n",
        "  numerator.append(actual_grad[i] - approx_grad[i])\n",
        "\n",
        "num = norm(numerator)\n",
        "dnum = norm(actual_grad) + norm(approx_grad)\n",
        "\n",
        "diff = num / dnum\n",
        "\n",
        "diff"
      ],
      "metadata": {
        "colab": {
          "base_uri": "https://localhost:8080/"
        },
        "id": "Dl6Wt-TBrXd7",
        "outputId": "51bac7f3-19e0-4b2f-d7b2-0e2951721bc8"
      },
      "execution_count": 136,
      "outputs": [
        {
          "output_type": "execute_result",
          "data": {
            "text/plain": [
              "0.9999999999998282"
            ]
          },
          "metadata": {},
          "execution_count": 136
        }
      ]
    },
    {
      "cell_type": "markdown",
      "source": [
        "For correct gradient we need to make our difference less of equal than 1e-5 or 1e-7 but here we get 1e-1.\n",
        "\n",
        "Hence, our gradient is not proper."
      ],
      "metadata": {
        "id": "koNMLr4LaVm4"
      }
    }
  ]
}