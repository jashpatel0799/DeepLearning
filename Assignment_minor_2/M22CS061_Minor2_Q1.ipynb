{
  "cells": [
    {
      "cell_type": "markdown",
      "metadata": {
        "id": "2RKX6Gp9bl32"
      },
      "source": [
        "## Import require libraries"
      ]
    },
    {
      "cell_type": "code",
      "execution_count": null,
      "metadata": {
        "id": "Hl91VjhlfapA"
      },
      "outputs": [],
      "source": [
        "import torch\n",
        "from torch import nn\n",
        "import torchvision\n",
        "from torchvision import models, datasets\n",
        "from torchvision.transforms import ToTensor\n",
        "import torchvision.transforms as transforms\n",
        "from torch.utils.data import DataLoader, Dataset\n",
        "from torchvision.utils import make_grid\n",
        "import matplotlib.pyplot as plt\n",
        "import numpy as np\n",
        "import pandas as pd\n",
        "\n",
        "from tqdm.auto import tqdm"
      ]
    },
    {
      "cell_type": "code",
      "execution_count": null,
      "metadata": {
        "id": "MrMRGt2SgZf-"
      },
      "outputs": [],
      "source": [
        "import os\n",
        "from random import randint\n",
        "import urllib\n",
        "import zipfile"
      ]
    },
    {
      "cell_type": "code",
      "execution_count": null,
      "metadata": {
        "colab": {
          "base_uri": "https://localhost:8080/"
        },
        "id": "JqWMoWGigZ-T",
        "outputId": "a372e0fa-5fce-44d2-d878-2c43ca76090e"
      },
      "outputs": [
        {
          "output_type": "stream",
          "name": "stdout",
          "text": [
            "\u001b[?25l     \u001b[90m━━━━━━━━━━━━━━━━━━━━━━━━━━━━━━━━━━━━━━━━\u001b[0m \u001b[32m0.0/519.2 KB\u001b[0m \u001b[31m?\u001b[0m eta \u001b[36m-:--:--\u001b[0m\r\u001b[2K     \u001b[90m━━━━━━━━━━━━━━━━━━━━━━━━━━━━━━━━━━━━━━\u001b[0m \u001b[32m519.2/519.2 KB\u001b[0m \u001b[31m21.6 MB/s\u001b[0m eta \u001b[36m0:00:00\u001b[0m\n",
            "\u001b[?25h"
          ]
        }
      ],
      "source": [
        "!pip install -q torchmetrics\n",
        "from torchmetrics.classification import MulticlassAccuracy"
      ]
    },
    {
      "cell_type": "markdown",
      "metadata": {
        "id": "Dzw4VnH1ga_v"
      },
      "source": [
        "## Device Agnostic code"
      ]
    },
    {
      "cell_type": "code",
      "execution_count": null,
      "metadata": {
        "colab": {
          "base_uri": "https://localhost:8080/",
          "height": 35
        },
        "id": "dRUV_Rlfg9tr",
        "outputId": "2d60e149-bcaf-4b2b-a7ca-137b2bc24337"
      },
      "outputs": [
        {
          "output_type": "execute_result",
          "data": {
            "text/plain": [
              "'cuda'"
            ],
            "application/vnd.google.colaboratory.intrinsic+json": {
              "type": "string"
            }
          },
          "metadata": {},
          "execution_count": 4
        }
      ],
      "source": [
        "device = 'cuda' if torch.cuda.is_available() else 'cpu'\n",
        "device"
      ]
    },
    {
      "cell_type": "markdown",
      "metadata": {
        "id": "PQrH61ZJhfhg"
      },
      "source": [
        "## Helper function"
      ]
    },
    {
      "cell_type": "code",
      "execution_count": null,
      "metadata": {
        "id": "jwMYw8aMhdBM"
      },
      "outputs": [],
      "source": [
        "# Functions to display single or a batch of sample images\n",
        "def imshow(img):\n",
        "    npimg = img[0].numpy()\n",
        "    plt.imshow(np.transpose(npimg, (1, 2, 0)))\n",
        "    plt.title(img[1])\n",
        "    plt.show()\n",
        "    \n",
        "def show_batch(dataloader):\n",
        "    dataiter = iter(dataloader)\n",
        "    images, labels = dataiter.next()    \n",
        "    imshow(make_grid(images)) # Using Torchvision.utils make_grid function\n",
        "    \n",
        "def show_image(dataloader):\n",
        "    dataiter = iter(dataloader)\n",
        "    images, labels = dataiter.next()\n",
        "    random_num = randint(0, len(images)-1)\n",
        "    imshow(images[random_num])\n",
        "    label = labels[random_num]\n",
        "    print(f'Label: {label}, Shape: {images[random_num].shape}')"
      ]
    },
    {
      "cell_type": "markdown",
      "metadata": {
        "id": "qjiaVNiUhOt8"
      },
      "source": [
        "## Get dataset"
      ]
    },
    {
      "cell_type": "code",
      "execution_count": null,
      "metadata": {
        "colab": {
          "base_uri": "https://localhost:8080/"
        },
        "id": "k7HOsODbg1xC",
        "outputId": "9b5dfd2e-715d-4022-ff76-1cf943e6dc1b"
      },
      "outputs": [
        {
          "output_type": "stream",
          "name": "stdout",
          "text": [
            "--2023-03-28 08:25:43--  http://cs231n.stanford.edu/tiny-imagenet-200.zip\n",
            "Resolving cs231n.stanford.edu (cs231n.stanford.edu)... 171.64.68.10\n",
            "Connecting to cs231n.stanford.edu (cs231n.stanford.edu)|171.64.68.10|:80... connected.\n",
            "HTTP request sent, awaiting response... 200 OK\n",
            "Length: 248100043 (237M) [application/zip]\n",
            "Saving to: ‘tiny-imagenet-200.zip’\n",
            "\n",
            "tiny-imagenet-200.z 100%[===================>] 236.61M  37.8MB/s    in 7.1s    \n",
            "\n",
            "2023-03-28 08:25:50 (33.1 MB/s) - ‘tiny-imagenet-200.zip’ saved [248100043/248100043]\n",
            "\n"
          ]
        }
      ],
      "source": [
        "# Retrieve data directly from Stanford data source\n",
        "!wget http://cs231n.stanford.edu/tiny-imagenet-200.zip\n",
        "  \n",
        "# Unzip raw zip file\n",
        "!unzip -qq 'tiny-imagenet-200.zip'\n",
        "\n",
        "# Define main data directory\n",
        "DATA_DIR = 'tiny-imagenet-200' # Original images come in shapes of [3,64,64]\n",
        "\n",
        "# Define training and validation data paths\n",
        "TRAIN_DIR = os.path.join(DATA_DIR, 'train') \n",
        "VALID_DIR = os.path.join(DATA_DIR, 'val')"
      ]
    },
    {
      "cell_type": "markdown",
      "metadata": {
        "id": "px5Q3JjriPLb"
      },
      "source": [
        "## preprocess validation data"
      ]
    },
    {
      "cell_type": "code",
      "execution_count": null,
      "metadata": {
        "colab": {
          "base_uri": "https://localhost:8080/"
        },
        "id": "acKRIOSGhSMN",
        "outputId": "18b06b0a-7803-4886-d07f-82cebf22d50d"
      },
      "outputs": [
        {
          "output_type": "execute_result",
          "data": {
            "text/plain": [
              "{'val_0.JPEG': 'n03444034',\n",
              " 'val_1.JPEG': 'n04067472',\n",
              " 'val_2.JPEG': 'n04070727',\n",
              " 'val_3.JPEG': 'n02808440',\n",
              " 'val_4.JPEG': 'n02808440',\n",
              " 'val_5.JPEG': 'n04399382',\n",
              " 'val_6.JPEG': 'n04179913',\n",
              " 'val_7.JPEG': 'n02823428',\n",
              " 'val_8.JPEG': 'n04146614',\n",
              " 'val_9.JPEG': 'n02226429'}"
            ]
          },
          "metadata": {},
          "execution_count": 7
        }
      ],
      "source": [
        "# Create separate validation subfolders for the validation images based on\n",
        "# their labels indicated in the val_annotations txt file\n",
        "val_img_dir = os.path.join(VALID_DIR, 'images')\n",
        "\n",
        "# Open and read val annotations text file\n",
        "fp = open(os.path.join(VALID_DIR, 'val_annotations.txt'), 'r')\n",
        "data = fp.readlines()\n",
        "\n",
        "# Create dictionary to store img filename (word 0) and corresponding\n",
        "# label (word 1) for every line in the txt file (as key value pair)\n",
        "val_img_dict = {}\n",
        "for line in data:\n",
        "    words = line.split('\\t')\n",
        "    val_img_dict[words[0]] = words[1]\n",
        "fp.close()\n",
        "\n",
        "# Display first 10 entries of resulting val_img_dict dictionary\n",
        "{k: val_img_dict[k] for k in list(val_img_dict)[:10]}"
      ]
    },
    {
      "cell_type": "code",
      "execution_count": null,
      "metadata": {
        "id": "ZWtNKyqDiSfQ"
      },
      "outputs": [],
      "source": [
        "# Create subfolders (if not present) for validation images based on label,\n",
        "# and move images into the respective folders\n",
        "for img, folder in val_img_dict.items():\n",
        "    newpath = (os.path.join(val_img_dir, folder))\n",
        "    if not os.path.exists(newpath):\n",
        "        os.makedirs(newpath)\n",
        "    if os.path.exists(os.path.join(val_img_dir, img)):\n",
        "        os.rename(os.path.join(val_img_dir, img), os.path.join(newpath, img))"
      ]
    },
    {
      "cell_type": "markdown",
      "metadata": {
        "id": "I8gl0yNDiVI3"
      },
      "source": [
        "## Image preprocess transform"
      ]
    },
    {
      "cell_type": "code",
      "execution_count": null,
      "metadata": {
        "id": "kzMTEXcqiZ6j"
      },
      "outputs": [],
      "source": [
        "image_transform_pretrain = transforms.Compose([\n",
        "                transforms.Resize(64), # Resize images to 64 x 64\n",
        "                transforms.CenterCrop(56), # Center crop image\n",
        "                transforms.RandomHorizontalFlip(),\n",
        "                transforms.ToTensor(),  # Images to tensors\n",
        "                transforms.Normalize(mean=[0.485, 0.456, 0.406], \n",
        "                                     std=[0.229, 0.224, 0.225])\n",
        "])"
      ]
    },
    {
      "cell_type": "markdown",
      "metadata": {
        "id": "oI79uHq9jvNB"
      },
      "source": [
        "## make datasets"
      ]
    },
    {
      "cell_type": "code",
      "execution_count": null,
      "metadata": {
        "id": "9FUAtY1sjyH3"
      },
      "outputs": [],
      "source": [
        "train_dataset = datasets.ImageFolder(TRAIN_DIR, transform = image_transform_pretrain)\n",
        "valid_dataset = datasets.ImageFolder(val_img_dir, transform = image_transform_pretrain)"
      ]
    },
    {
      "cell_type": "code",
      "execution_count": null,
      "metadata": {
        "colab": {
          "base_uri": "https://localhost:8080/"
        },
        "id": "s01wDhoXr4JI",
        "outputId": "a37e4059-ad69-470f-b01c-6a28ab668194"
      },
      "outputs": [
        {
          "output_type": "execute_result",
          "data": {
            "text/plain": [
              "200"
            ]
          },
          "metadata": {},
          "execution_count": 73
        }
      ],
      "source": [
        "num_classes = len(train_dataset.classes)\n",
        "num_classes"
      ]
    },
    {
      "cell_type": "markdown",
      "metadata": {
        "id": "hllN77xviwEl"
      },
      "source": [
        "## Create Dataloader"
      ]
    },
    {
      "cell_type": "code",
      "execution_count": null,
      "metadata": {
        "id": "oPkJaqafi0Cu"
      },
      "outputs": [],
      "source": [
        "# Define batch size for DataLoaders\n",
        "BATCH_SIZE = 32\n",
        "\n",
        "# Create DataLoaders for pre-trained models (normalized based on specific requirements)\n",
        "train_dataloader = DataLoader(train_dataset, batch_size = BATCH_SIZE, \n",
        "                              shuffle = True, drop_last = True)\n",
        "\n",
        "valid_dataloader = DataLoader(valid_dataset, batch_size = BATCH_SIZE, \n",
        "                              drop_last = True)"
      ]
    },
    {
      "cell_type": "code",
      "source": [
        "# for i, (x, y) in enumerate(train_dataloader):\n",
        "#   print(x)\n",
        "#   print(\"+++++++++++++++++++++++++++++++++++++++++++++++++++++++++++++++++++++++++++++++++++++++++++++++++++++++++++++++++++++++++++++++++++++++++++++++++++++++++++++++++++++++++++++++++++++++++++++++++\")\n",
        "#   print(y)\n",
        "#   break"
      ],
      "metadata": {
        "id": "2Ixjt_-krJbn"
      },
      "execution_count": null,
      "outputs": []
    },
    {
      "cell_type": "code",
      "execution_count": null,
      "metadata": {
        "colab": {
          "base_uri": "https://localhost:8080/",
          "height": 298
        },
        "id": "7RZt_mD9k_87",
        "outputId": "33b2e1ae-9131-4fac-9e60-41332499a496"
      },
      "outputs": [
        {
          "output_type": "stream",
          "name": "stderr",
          "text": [
            "WARNING:matplotlib.image:Clipping input data to the valid range for imshow with RGB data ([0..1] for floats or [0..255] for integers).\n"
          ]
        },
        {
          "output_type": "display_data",
          "data": {
            "text/plain": [
              "<Figure size 432x288 with 1 Axes>"
            ],
            "image/png": "[encoded data removed]"
          },
          "metadata": {
            "needs_background": "light"
          }
        }
      ],
      "source": [
        "## visulize image\n",
        "imshow(train_dataset[0])"
      ]
    },
    {
      "cell_type": "markdown",
      "metadata": {
        "id": "hwIsPtAnjLb_"
      },
      "source": [
        "# Build models"
      ]
    },
    {
      "cell_type": "markdown",
      "metadata": {
        "id": "VGd7IAWgtOLp"
      },
      "source": [
        "## Xavier Initialization"
      ]
    },
    {
      "cell_type": "code",
      "execution_count": null,
      "metadata": {
        "id": "9PiFubVmtPcA"
      },
      "outputs": [],
      "source": [
        "def weights_init(c_name):\n",
        "    if isinstance(c_name, nn.Conv2d):\n",
        "        torch.nn.init.xavier_uniform_(c_name.weight)\n",
        "        torch.nn.init.zeros_(c_name.bias)\n",
        "    elif isinstance(c_name, nn.Linear):\n",
        "        torch.nn.init.xavier_uniform_(c_name.weight)\n",
        "        torch.nn.init.zeros_(c_name.bias)"
      ]
    },
    {
      "cell_type": "markdown",
      "metadata": {
        "id": "lLJRdvEqk6iA"
      },
      "source": [
        "## Teacher Model"
      ]
    },
    {
      "cell_type": "code",
      "execution_count": null,
      "metadata": {
        "colab": {
          "base_uri": "https://localhost:8080/"
        },
        "id": "lLgEsR6Qk8uY",
        "outputId": "f369d1b1-5bb8-42a1-c73d-86e0c65e72ff"
      },
      "outputs": [
        {
          "output_type": "execute_result",
          "data": {
            "text/plain": [
              "TeacherCNN(\n",
              "  (conv_block1): Sequential(\n",
              "    (0): Conv2d(3, 12, kernel_size=(5, 5), stride=(1, 1), padding=(2, 2))\n",
              "    (1): Tanh()\n",
              "  )\n",
              "  (conv_block2): Sequential(\n",
              "    (0): Conv2d(12, 10, kernel_size=(5, 5), stride=(1, 1), padding=(2, 2))\n",
              "    (1): Tanh()\n",
              "  )\n",
              "  (conv_block3): Sequential(\n",
              "    (0): Conv2d(10, 10, kernel_size=(5, 5), stride=(1, 1), padding=(2, 2))\n",
              "    (1): Tanh()\n",
              "  )\n",
              "  (conv_block4): Sequential(\n",
              "    (0): Conv2d(10, 10, kernel_size=(5, 5), stride=(1, 1), padding=(2, 2))\n",
              "    (1): Tanh()\n",
              "  )\n",
              "  (conv_block5): Sequential(\n",
              "    (0): Conv2d(10, 10, kernel_size=(5, 5), stride=(1, 1), padding=(2, 2))\n",
              "    (1): Tanh()\n",
              "  )\n",
              "  (conv_block6): Sequential(\n",
              "    (0): Conv2d(10, 10, kernel_size=(5, 5), stride=(1, 1), padding=(2, 2))\n",
              "    (1): Tanh()\n",
              "  )\n",
              "  (conv_block7): Sequential(\n",
              "    (0): Conv2d(10, 10, kernel_size=(5, 5), stride=(1, 1), padding=(2, 2))\n",
              "    (1): Tanh()\n",
              "  )\n",
              "  (conv_block8): Sequential(\n",
              "    (0): Conv2d(10, 10, kernel_size=(5, 5), stride=(1, 1), padding=(2, 2))\n",
              "    (1): Tanh()\n",
              "  )\n",
              "  (conv_block9): Sequential(\n",
              "    (0): Conv2d(10, 10, kernel_size=(5, 5), stride=(1, 1), padding=(2, 2))\n",
              "    (1): Tanh()\n",
              "  )\n",
              "  (conv_block10): Sequential(\n",
              "    (0): Conv2d(10, 10, kernel_size=(5, 5), stride=(1, 1), padding=(2, 2))\n",
              "    (1): Tanh()\n",
              "  )\n",
              "  (conv_block11): Sequential(\n",
              "    (0): Conv2d(10, 10, kernel_size=(5, 5), stride=(1, 1), padding=(2, 2))\n",
              "    (1): Tanh()\n",
              "  )\n",
              "  (conv_block12): Sequential(\n",
              "    (0): Conv2d(10, 10, kernel_size=(5, 5), stride=(1, 1), padding=(2, 2))\n",
              "    (1): Tanh()\n",
              "    (2): AvgPool2d(kernel_size=5, stride=3, padding=0)\n",
              "  )\n",
              "  (fc1_layer): Sequential(\n",
              "    (0): Flatten(start_dim=1, end_dim=-1)\n",
              "    (1): Linear(in_features=3240, out_features=512, bias=True)\n",
              "    (2): Tanh()\n",
              "    (3): Linear(in_features=512, out_features=200, bias=True)\n",
              "  )\n",
              ")"
            ]
          },
          "metadata": {},
          "execution_count": 80
        }
      ],
      "source": [
        "class TeacherCNN(nn.Module):\n",
        "  def __init__(self, in_channel: int, out_channel: int, hidden_channel:int,\n",
        "               in_feature: int, out_feature: int):\n",
        "    super().__init__()\n",
        "\n",
        "    self.conv_block1 = nn.Sequential(\n",
        "        nn.Conv2d(in_channels = in_channel, out_channels = out_channel, kernel_size = 5, stride = 1, padding = 2),\n",
        "        nn.Tanh(),\n",
        "    )\n",
        "    self.conv_block2 = nn.Sequential(\n",
        "        nn.Conv2d(in_channels = out_channel, out_channels = hidden_channel, kernel_size = 5, stride = 1, padding = 2),\n",
        "        nn.Tanh(),\n",
        "    )\n",
        "    self.conv_block3 = nn.Sequential(\n",
        "        nn.Conv2d(in_channels = hidden_channel, out_channels = hidden_channel, kernel_size = 5, stride = 1, padding = 2),\n",
        "        nn.Tanh(),\n",
        "    )\n",
        "    self.conv_block4 = nn.Sequential(\n",
        "        nn.Conv2d(in_channels = hidden_channel, out_channels = hidden_channel, kernel_size = 5, stride = 1, padding = 2),\n",
        "        nn.Tanh(),\n",
        "    )\n",
        "    self.conv_block5 = nn.Sequential(\n",
        "        nn.Conv2d(in_channels = hidden_channel, out_channels = hidden_channel, kernel_size = 5, stride = 1, padding = 2),\n",
        "        nn.Tanh(),\n",
        "    )\n",
        "    self.conv_block6 = nn.Sequential(\n",
        "        nn.Conv2d(in_channels = hidden_channel, out_channels = hidden_channel, kernel_size = 5, stride = 1, padding = 2),\n",
        "        nn.Tanh(),\n",
        "    )\n",
        "    self.conv_block7 = nn.Sequential(\n",
        "        nn.Conv2d(in_channels = hidden_channel, out_channels = hidden_channel, kernel_size = 5, stride = 1, padding = 2),\n",
        "        nn.Tanh(),\n",
        "    )\n",
        "    self.conv_block8 = nn.Sequential(\n",
        "        nn.Conv2d(in_channels = hidden_channel, out_channels = hidden_channel, kernel_size = 5, stride = 1, padding = 2),\n",
        "        nn.Tanh(),\n",
        "    )\n",
        "    self.conv_block9 = nn.Sequential(\n",
        "        nn.Conv2d(in_channels = hidden_channel, out_channels = hidden_channel, kernel_size = 5, stride = 1, padding = 2),\n",
        "        nn.Tanh(),\n",
        "    )\n",
        "    self.conv_block10 = nn.Sequential(\n",
        "        nn.Conv2d(in_channels = hidden_channel, out_channels = hidden_channel, kernel_size = 5, stride = 1, padding = 2),\n",
        "        nn.Tanh(),\n",
        "    )\n",
        "    self.conv_block11 = nn.Sequential(\n",
        "        nn.Conv2d(in_channels = hidden_channel, out_channels = hidden_channel, kernel_size = 5, stride = 1, padding = 2),\n",
        "        nn.Tanh(),\n",
        "    )\n",
        "    self.conv_block12 = nn.Sequential(\n",
        "        nn.Conv2d(in_channels = hidden_channel, out_channels = hidden_channel, kernel_size = 5, stride = 1, padding = 2),\n",
        "        nn.Tanh(),\n",
        "        nn.AvgPool2d(kernel_size = 5, stride = 3)\n",
        "    )\n",
        "    self.fc1_layer = nn.Sequential(\n",
        "        nn.Flatten(),\n",
        "        nn.Linear(in_features = hidden_channel*18*18, out_features = in_feature),\n",
        "        nn.Tanh(),\n",
        "        nn.Linear(in_features = in_feature, out_features = out_feature)\n",
        "    )\n",
        "\n",
        "\n",
        "  def forward(self, x):\n",
        "    conv_x_half =  self.conv_block6(self.conv_block5(self.conv_block4(self.conv_block3(self.conv_block2(self.conv_block1(x))))))\n",
        "    conv_x =  self.conv_block12(self.conv_block11(self.conv_block10(self.conv_block9(self.conv_block8(self.conv_block7(conv_x_half))))))\n",
        "    # print(f\"conv_x shape: {conv_x.shape}\")\n",
        "    return self.fc1_layer(conv_x)\n",
        "\n",
        "teacher = TeacherCNN(in_channel = 3, out_channel = 12, hidden_channel = 10, in_feature = 512, out_feature = num_classes).to(device)\n",
        "teacher"
      ]
    },
    {
      "cell_type": "markdown",
      "metadata": {
        "id": "GdvJdW2ZsKkj"
      },
      "source": [
        "## Student Model"
      ]
    },
    {
      "cell_type": "code",
      "execution_count": null,
      "metadata": {
        "colab": {
          "base_uri": "https://localhost:8080/"
        },
        "id": "Qpu_wHSwt8cc",
        "outputId": "c19607f7-72ea-4049-d287-88bd1cced450"
      },
      "outputs": [
        {
          "output_type": "execute_result",
          "data": {
            "text/plain": [
              "StudentCNN(\n",
              "  (conv_block1): Sequential(\n",
              "    (0): Conv2d(3, 12, kernel_size=(5, 5), stride=(1, 1), padding=(2, 2))\n",
              "    (1): ReLU()\n",
              "  )\n",
              "  (conv_block2): Sequential(\n",
              "    (0): Conv2d(12, 10, kernel_size=(5, 5), stride=(1, 1), padding=(2, 2))\n",
              "    (1): ReLU()\n",
              "  )\n",
              "  (conv_block3): Sequential(\n",
              "    (0): Conv2d(10, 10, kernel_size=(5, 5), stride=(1, 1), padding=(2, 2))\n",
              "    (1): ReLU()\n",
              "  )\n",
              "  (conv_block4): Sequential(\n",
              "    (0): Conv2d(10, 10, kernel_size=(5, 5), stride=(1, 1), padding=(2, 2))\n",
              "    (1): ReLU()\n",
              "    (2): AvgPool2d(kernel_size=5, stride=3, padding=0)\n",
              "  )\n",
              "  (fc1_layer): Sequential(\n",
              "    (0): Flatten(start_dim=1, end_dim=-1)\n",
              "    (1): Linear(in_features=3240, out_features=512, bias=True)\n",
              "    (2): ReLU()\n",
              "    (3): Linear(in_features=512, out_features=200, bias=True)\n",
              "  )\n",
              ")"
            ]
          },
          "metadata": {},
          "execution_count": 79
        }
      ],
      "source": [
        "class StudentCNN(nn.Module):\n",
        "  def __init__(self, in_channel: int, out_channel: int, hidden_channel:int,\n",
        "               in_feature: int, out_feature: int):\n",
        "    super().__init__()\n",
        "\n",
        "    self.conv_block1 = nn.Sequential(\n",
        "        nn.Conv2d(in_channels = in_channel, out_channels = out_channel, kernel_size = 5, stride = 1, padding = 2),\n",
        "        nn.ReLU(),\n",
        "    )\n",
        "    self.conv_block2 = nn.Sequential(\n",
        "        nn.Conv2d(in_channels = out_channel, out_channels = hidden_channel, kernel_size = 5, stride = 1, padding = 2),\n",
        "        nn.ReLU(),\n",
        "    )\n",
        "    self.conv_block3 = nn.Sequential(\n",
        "        nn.Conv2d(in_channels = hidden_channel, out_channels = hidden_channel, kernel_size = 5, stride = 1, padding = 2),\n",
        "        nn.ReLU(),\n",
        "    )\n",
        "    self.conv_block4 = nn.Sequential(\n",
        "        nn.Conv2d(in_channels = hidden_channel, out_channels = hidden_channel, kernel_size = 5, stride = 1, padding = 2),\n",
        "        nn.ReLU(),\n",
        "        nn.AvgPool2d(kernel_size = 5, stride = 3)\n",
        "    )\n",
        "\n",
        "    self.fc1_layer = nn.Sequential(\n",
        "        nn.Flatten(),\n",
        "        nn.Linear(in_features = hidden_channel*18*18, out_features = in_feature),\n",
        "        nn.ReLU(),\n",
        "        nn.Linear(in_features = in_feature, out_features = out_feature)\n",
        "    )\n",
        "\n",
        "\n",
        "  def forward(self, x):\n",
        "    conv_x =  self.conv_block4(self.conv_block3(self.conv_block2(self.conv_block1(x))))\n",
        "    # print(f\"conv_x shape: {conv_x.shape}\")\n",
        "    return self.fc1_layer(conv_x)\n",
        "\n",
        "student = StudentCNN(in_channel = 3, out_channel = 12, hidden_channel = 10, in_feature = 512, out_feature = num_classes).to(device)\n",
        "student"
      ]
    },
    {
      "cell_type": "markdown",
      "metadata": {
        "id": "UqiZbyaDucrw"
      },
      "source": [
        "## Loss and Accuray Functions"
      ]
    },
    {
      "cell_type": "code",
      "execution_count": null,
      "metadata": {
        "id": "uhhqRM7ruj_V"
      },
      "outputs": [],
      "source": [
        "# Loss\n",
        "loss_fn = nn.CrossEntropyLoss()\n",
        "\n",
        "# Accuracy\n",
        "accuracy_fn = MulticlassAccuracy(num_classes = num_classes).to(device)"
      ]
    },
    {
      "cell_type": "markdown",
      "metadata": {
        "id": "dN8uqktVux4v"
      },
      "source": [
        "## Train and Test Loop"
      ]
    },
    {
      "cell_type": "code",
      "execution_count": null,
      "metadata": {
        "id": "E_HCe1X1u07O"
      },
      "outputs": [],
      "source": [
        "# train\n",
        "def train_loop(model: torch.nn.Module, dataloader: torch.utils.data.DataLoader, \n",
        "               loss_fn: torch.nn.Module, optimizer: torch.optim.Optimizer, \n",
        "               accuracy_fn, device: torch.device = device):\n",
        "  \n",
        "  train_loss, train_acc = 0, 0\n",
        "\n",
        "  for batch, (x_train, y_train) in enumerate(dataloader):\n",
        "\n",
        "    if device == 'cuda':\n",
        "      x_train, y_train = x_train.to(device), y_train.to(device)\n",
        "\n",
        "    model.train()\n",
        "    # 1. Forward\n",
        "    y_pred = model(x_train)\n",
        "\n",
        "    # 2. Loss\n",
        "    loss = loss_fn(y_pred, y_train)\n",
        "    acc = accuracy_fn(y_train, torch.argmax(y_pred, dim = 1))\n",
        "    # print(\"train\")\n",
        "    # print(f\"acutal: {y_train}\")\n",
        "    # print(f\"pred: {torch.argmax(y_pred, dim = 1)}\")\n",
        "    train_loss += loss\n",
        "    train_acc += acc\n",
        "\n",
        "    # 3. optimizer zero grad\n",
        "    optimizer.zero_grad()\n",
        "\n",
        "    # 4. Backward\n",
        "    loss.backward()\n",
        "\n",
        "    # 5. optimizer step\n",
        "    optimizer.step()\n",
        "\n",
        "  train_loss /= len(dataloader)\n",
        "  train_acc /= len(dataloader)\n",
        "\n",
        "  return train_loss, train_acc\n",
        "\n",
        "\n",
        "def test_loop(model: torch.nn.Module, dataloader: torch.utils.data.DataLoader,\n",
        "              loss_fn: torch.nn.Module, accuracy_fn, device: torch.device = device):\n",
        "  test_loss, test_acc = 0, 0\n",
        "\n",
        "  model.eval()\n",
        "  with torch.inference_mode():\n",
        "    for x_test, y_test in dataloader:\n",
        "      if device == 'cuda':\n",
        "        x_test, y_test = x_test.to(device), y_test.to(device)\n",
        "\n",
        "      # 1. Forward\n",
        "      test_pred = model(x_test)\n",
        "\n",
        "      # 2. Loss\n",
        "      test_loss += loss_fn(test_pred, y_test)\n",
        "      test_acc += accuracy_fn(y_test, torch.argmax(test_pred, dim = 1))\n",
        "      # print(\"test\")\n",
        "      # print(f\"acutal: {y_test}\")\n",
        "      # print(f\"pred: {torch.argmax(test_pred, dim = 1)}\")\n",
        "\n",
        "    test_loss /= len(dataloader)\n",
        "    test_acc /= len(dataloader)\n",
        "\n",
        "  return test_loss, test_acc"
      ]
    },
    {
      "cell_type": "markdown",
      "metadata": {
        "id": "zV3wqIT5u3DA"
      },
      "source": [
        "## Loss and Accuracy plot vs Epoch"
      ]
    },
    {
      "cell_type": "code",
      "execution_count": null,
      "metadata": {
        "id": "vnQnBxEHu5sz"
      },
      "outputs": [],
      "source": [
        "def plotplot(train_losses, test_losses, train_acces, test_acces):\n",
        "  plt.figure(figsize = (25,8))\n",
        "  # plt.plot(range(1, epoches*(len(train_dataloader)*BATCH_SIZE) + 1), train)\n",
        "  plt.subplot(1,2,1)\n",
        "  plt.plot(range(len(train_losses)),train_losses, label = \"Train Loss\")\n",
        "  plt.plot(range(len(test_losses)),test_losses, label = \"Test Loss\")\n",
        "  plt.xlabel(\"Epoches\")\n",
        "  plt.ylabel(\"Loss\")\n",
        "  plt.title(\"Loss vs Epoches\")\n",
        "  plt.legend()\n",
        "\n",
        "  plt.subplot(1,2,2)\n",
        "  plt.plot(range(len(train_acces)),train_acces, label = \"Train Accuracy\")\n",
        "  plt.plot(range(len(test_acces)),test_acces, label = \"Test Accuracy\")\n",
        "  plt.xlabel(\"Epoches\")\n",
        "  plt.ylabel(\"Accuracy\")\n",
        "  plt.title(\"Accuracy vs Epoches\")\n",
        "  plt.legend()\n",
        "\n",
        "  plt.show()"
      ]
    },
    {
      "cell_type": "markdown",
      "metadata": {
        "id": "BW_zspXEu_vd"
      },
      "source": [
        "## only train teacher"
      ]
    },
    {
      "cell_type": "code",
      "execution_count": null,
      "metadata": {
        "colab": {
          "base_uri": "https://localhost:8080/",
          "height": 223,
          "referenced_widgets": [
            "0a5901af10884ad2a8b18392b53da2b2",
            "b70e5e2abecf43a89e15488a11de40d4",
            "969b6d5176544d2ba9e91e932fa4ec6a",
            "06223b84b05d487b8a517a4bdc18ab27",
            "b2b1b2592a2648739d1b16a4ffb8765c",
            "b61bd734c60c4853918f2f1d33430231",
            "e683525ffa2d4c069c5887409b0653c3",
            "a4c910b9de6044a1886170a347b35bc3",
            "7faec5817cc648019fb9bcdb3608dd97",
            "053d3cd7e61849adbc50806393e9cb2f",
            "a3d4caf899d2430e8c1e7adfd2069da5"
          ]
        },
        "id": "RN9sPxcBu7Q4",
        "outputId": "50ef4ced-bbf0-49c3-c73e-dfc36f816d4a"
      },
      "outputs": [
        {
          "output_type": "display_data",
          "data": {
            "text/plain": [
              "  0%|          | 0/10 [00:00<?, ?it/s]"
            ],
            "application/vnd.jupyter.widget-view+json": {
              "version_major": 2,
              "version_minor": 0,
              "model_id": "0a5901af10884ad2a8b18392b53da2b2"
            }
          },
          "metadata": {}
        },
        {
          "output_type": "stream",
          "name": "stdout",
          "text": [
            "Epoch: 1  Train Loss: 4.8713 / Test Loss: 4.5830 -/- Train Accuracy: 0.0055 / Test Accuracy: 0.0033\n",
            "Epoch: 2  Train Loss: 4.4891 / Test Loss: 4.4101 -/- Train Accuracy: 0.0110 / Test Accuracy: 0.0040\n",
            "Epoch: 3  Train Loss: 4.3575 / Test Loss: 4.3668 -/- Train Accuracy: 0.0133 / Test Accuracy: 0.0042\n",
            "Epoch: 4  Train Loss: 4.2660 / Test Loss: 4.2973 -/- Train Accuracy: 0.0152 / Test Accuracy: 0.0043\n",
            "Epoch: 5  Train Loss: 4.1991 / Test Loss: 4.2569 -/- Train Accuracy: 0.0164 / Test Accuracy: 0.0046\n",
            "Epoch: 6  Train Loss: 4.1504 / Test Loss: 4.1993 -/- Train Accuracy: 0.0174 / Test Accuracy: 0.0049\n",
            "Epoch: 7  Train Loss: 4.1104 / Test Loss: 4.2010 -/- Train Accuracy: 0.0184 / Test Accuracy: 0.0048\n",
            "Epoch: 8  Train Loss: 4.0594 / Test Loss: 4.1645 -/- Train Accuracy: 0.0194 / Test Accuracy: 0.0051\n",
            "Epoch: 9  Train Loss: 4.0190 / Test Loss: 4.1520 -/- Train Accuracy: 0.0200 / Test Accuracy: 0.0051\n",
            "Epoch: 10  Train Loss: 3.9902 / Test Loss: 4.1703 -/- Train Accuracy: 0.0208 / Test Accuracy: 0.0049\n"
          ]
        }
      ],
      "source": [
        "torch.manual_seed(64)\n",
        "torch.cuda.manual_seed(64)\n",
        "teacher = TeacherCNN(in_channel = 3, out_channel = 12, hidden_channel = 10, in_feature = 512, out_feature = num_classes).to(device)\n",
        "\n",
        "# initialize Xavier weights\n",
        "teacher.apply(weights_init)\n",
        "\n",
        "# optimizer function\n",
        "optimizer = torch.optim.Adam(params = teacher.parameters(), lr = 1e-3)\n",
        "\n",
        "train_losses, test_losses = [], []\n",
        "train_acces, test_acces = [], []\n",
        "\n",
        "# train model\n",
        "epoches = 10\n",
        "\n",
        "torch.manual_seed(64)\n",
        "torch.cuda.manual_seed(64)\n",
        "for epoch in tqdm(range(epoches)):\n",
        "  train_loss, train_acc = train_loop(model = teacher, dataloader = train_dataloader,\n",
        "                                     loss_fn = loss_fn, optimizer = optimizer, \n",
        "                                     accuracy_fn = accuracy_fn, device = device)\n",
        "  test_loss, test_acc = test_loop(model = teacher, dataloader = valid_dataloader,\n",
        "                                  loss_fn = loss_fn, accuracy_fn = accuracy_fn,\n",
        "                                  device = device)\n",
        "  print(f\"Epoch: {epoch + 1}  Train Loss: {train_loss:.4f} / Test Loss: {test_loss:.4f} -/- Train Accuracy: {train_acc:.4f} / Test Accuracy: {test_acc:.4f}\")\n",
        "\n",
        "  train_losses.append(train_loss.item())\n",
        "  test_losses.append(test_loss.item())\n",
        "  train_acces.append(train_acc.item())\n",
        "  test_acces.append(test_acc.item())"
      ]
    },
    {
      "cell_type": "code",
      "execution_count": null,
      "metadata": {
        "id": "P8ee5kLWzfxO",
        "colab": {
          "base_uri": "https://localhost:8080/",
          "height": 513
        },
        "outputId": "15c15e9d-17ba-46d9-ffae-b96162b59710"
      },
      "outputs": [
        {
          "output_type": "display_data",
          "data": {
            "text/plain": [
              "<Figure size 1800x576 with 2 Axes>"
            ],
            "image/png": "[encoded data removed]"
          },
          "metadata": {
            "needs_background": "light"
          }
        }
      ],
      "source": [
        "plotplot(train_losses, test_losses, train_acces, test_acces)"
      ]
    },
    {
      "cell_type": "markdown",
      "metadata": {
        "id": "8p1xEsu7viV9"
      },
      "source": [
        "## Train student network"
      ]
    },
    {
      "cell_type": "code",
      "execution_count": null,
      "metadata": {
        "id": "_lA_r500whOB",
        "colab": {
          "base_uri": "https://localhost:8080/",
          "height": 223,
          "referenced_widgets": [
            "37e40e085ccf487ca0e58e643503994b",
            "f81973c1549341f8978c7885c9280743",
            "bc03221814f04066af861065cc7c0ca1",
            "d1a589ce93bc468f9d207d42d708312b",
            "e0a9f7eb49fe4bdc9ba608be4b79dd90",
            "5fc9b63d1b764134b8e84c52bb2d2830",
            "d26c7799e37b478b9fd97179d813d826",
            "10b80a7e782249c9a400f44699a602fb",
            "62ed4003aa654e6e991032a0b899978f",
            "71709633541546b7b2cb79c7f61d0379",
            "1eee623039ce4262b41feb86831f07db"
          ]
        },
        "outputId": "2a336be4-dd5b-42c2-daec-6e830c20d0f9"
      },
      "outputs": [
        {
          "output_type": "display_data",
          "data": {
            "text/plain": [
              "  0%|          | 0/10 [00:00<?, ?it/s]"
            ],
            "application/vnd.jupyter.widget-view+json": {
              "version_major": 2,
              "version_minor": 0,
              "model_id": "37e40e085ccf487ca0e58e643503994b"
            }
          },
          "metadata": {}
        },
        {
          "output_type": "stream",
          "name": "stdout",
          "text": [
            "Epoch: 1  Train Loss: 5.2997 / Test Loss: 5.2996 -/- Train Accuracy: 0.0003 / Test Accuracy: 0.0003\n",
            "Epoch: 2  Train Loss: 5.2998 / Test Loss: 5.2995 -/- Train Accuracy: 0.0003 / Test Accuracy: 0.0003\n",
            "Epoch: 3  Train Loss: 5.2998 / Test Loss: 5.2994 -/- Train Accuracy: 0.0003 / Test Accuracy: 0.0003\n",
            "Epoch: 4  Train Loss: 5.2998 / Test Loss: 5.2994 -/- Train Accuracy: 0.0003 / Test Accuracy: 0.0003\n",
            "Epoch: 5  Train Loss: 5.2998 / Test Loss: 5.2996 -/- Train Accuracy: 0.0003 / Test Accuracy: 0.0002\n",
            "Epoch: 6  Train Loss: 5.2998 / Test Loss: 5.2999 -/- Train Accuracy: 0.0003 / Test Accuracy: 0.0003\n",
            "Epoch: 7  Train Loss: 5.2999 / Test Loss: 5.2994 -/- Train Accuracy: 0.0003 / Test Accuracy: 0.0003\n",
            "Epoch: 8  Train Loss: 5.2997 / Test Loss: 5.2994 -/- Train Accuracy: 0.0003 / Test Accuracy: 0.0003\n",
            "Epoch: 9  Train Loss: 5.2998 / Test Loss: 5.2996 -/- Train Accuracy: 0.0003 / Test Accuracy: 0.0003\n",
            "Epoch: 10  Train Loss: 5.2997 / Test Loss: 5.2994 -/- Train Accuracy: 0.0003 / Test Accuracy: 0.0003\n"
          ]
        }
      ],
      "source": [
        "torch.manual_seed(64)\n",
        "torch.cuda.manual_seed(64)\n",
        "student = StudentCNN(in_channel = 3, out_channel = 12, hidden_channel = 10, in_feature = 512, out_feature = num_classes).to(device)\n",
        "\n",
        "# initialize Xavier weights\n",
        "student.apply(weights_init)\n",
        "\n",
        "# optimizer function\n",
        "optimizer = torch.optim.Adam(params = teacher.parameters(), lr = 1e-4)\n",
        "\n",
        "\n",
        "train_losses, test_losses = [], []\n",
        "train_acces, test_acces = [], []\n",
        "\n",
        "# train model\n",
        "epoches = 10\n",
        "\n",
        "torch.manual_seed(64)\n",
        "torch.cuda.manual_seed(64)\n",
        "for epoch in tqdm(range(epoches)):\n",
        "  train_loss, train_acc = train_loop(model = student, dataloader = train_dataloader,\n",
        "                                     loss_fn = loss_fn, optimizer = optimizer, \n",
        "                                     accuracy_fn = accuracy_fn, device = device)\n",
        "  test_loss, test_acc = test_loop(model = student, dataloader = valid_dataloader,\n",
        "                                  loss_fn = loss_fn, accuracy_fn = accuracy_fn,\n",
        "                                  device = device)\n",
        "  print(f\"Epoch: {epoch + 1}  Train Loss: {train_loss:.4f} / Test Loss: {test_loss:.4f} -/- Train Accuracy: {train_acc:.4f} / Test Accuracy: {test_acc:.4f}\")\n",
        "\n",
        "  train_losses.append(train_loss.item())\n",
        "  test_losses.append(test_loss.item())\n",
        "  train_acces.append(train_acc.item())\n",
        "  test_acces.append(test_acc.item())"
      ]
    },
    {
      "cell_type": "code",
      "execution_count": null,
      "metadata": {
        "id": "Nr6erYQcwqw1",
        "colab": {
          "base_uri": "https://localhost:8080/",
          "height": 513
        },
        "outputId": "ae90f39b-ba3d-4b6d-cd2e-4628af60fe29"
      },
      "outputs": [
        {
          "output_type": "display_data",
          "data": {
            "text/plain": [
              "<Figure size 1800x576 with 2 Axes>"
            ],
            "image/png": "[encoded data removed]"
          },
          "metadata": {
            "needs_background": "light"
          }
        }
      ],
      "source": [
        "plotplot(train_losses, test_losses, train_acces, test_acces)"
      ]
    },
    {
      "cell_type": "markdown",
      "source": [
        "## EMA"
      ],
      "metadata": {
        "id": "HjEv53tAayBJ"
      }
    },
    {
      "cell_type": "code",
      "source": [
        "class EMA():\n",
        "  def cal_loss_with(student_loss, teacher_loss, alpha):\n",
        "    loss = alpha * student_loss + (1-alpha) * teacher_loss\n",
        "    return loss\n",
        "\n",
        "  def cal_loss_without(student_pred, teacher_pred, loss_fn):\n",
        "    loss = loss_fn(student_pred, teacher_pred)\n",
        "    return loss\n",
        "\n",
        "ema = EMA()"
      ],
      "metadata": {
        "id": "2fCGLlAga05F"
      },
      "execution_count": null,
      "outputs": []
    },
    {
      "cell_type": "markdown",
      "source": [
        "## train loop for TS with EMA"
      ],
      "metadata": {
        "id": "9TZ1UQnkwwus"
      }
    },
    {
      "cell_type": "code",
      "source": [
        "# train\n",
        "def st_train_loop(model: torch.nn.Module, dataloader: torch.utils.data.DataLoader, \n",
        "               loss_fn: torch.nn.Module, optimizer: torch.optim.Optimizer, \n",
        "               accuracy_fn, device: torch.device = device):\n",
        "  \n",
        "  train_loss, train_acc = 0, 0\n",
        "\n",
        "  alpha = 0.2\n",
        "  for batch, (x_train, y_train) in enumerate(dataloader):\n",
        "\n",
        "    if device == 'cuda':\n",
        "      x_train, y_train = x_train.to(device), y_train.to(device)\n",
        "\n",
        "    model.train()\n",
        "    # 1. Forward\n",
        "    y_train_teacher = teacher(x_train)\n",
        "    y_pred = model(x_train)\n",
        "\n",
        "    # 2. Loss\n",
        "    st_loss = loss_fn(y_pred, y_train)\n",
        "    ta_loss = loss_fn(y_train_teacher, y_pred)\n",
        "    loss = ema.cal_loss_with(st_loss, ta_loss, alpha)\n",
        "    acc = accuracy_fn(y_train, torch.argmax(y_pred, dim = 1))\n",
        "    train_loss += loss\n",
        "    train_acc += acc\n",
        "\n",
        "    # 3. optimizer zero grad\n",
        "    optimizer.zero_grad()\n",
        "\n",
        "    # 4. Backward\n",
        "    loss.backward()\n",
        "\n",
        "    # 5. optimizer step\n",
        "    optimizer.step()\n",
        "\n",
        "  train_loss /= len(dataloader)\n",
        "  train_acc /= len(dataloader)\n",
        "\n",
        "  return train_loss, train_acc\n",
        "\n",
        "\n",
        "def st_test_loop(model: torch.nn.Module, dataloader: torch.utils.data.DataLoader,\n",
        "              loss_fn: torch.nn.Module, accuracy_fn, device: torch.device = device):\n",
        "  test_loss, test_acc = 0, 0\n",
        "\n",
        "  model.eval()\n",
        "  with torch.inference_mode():\n",
        "    for x_test, y_test in dataloader:\n",
        "      if device == 'cuda':\n",
        "        x_test, y_test = x_test.to(device), y_test.to(device)\n",
        "\n",
        "      # 1. Forward\n",
        "      test_pred = model(x_test)\n",
        "\n",
        "      # 2. Loss\n",
        "      test_loss += loss_fn(test_pred, y_test)\n",
        "      test_acc += accuracy_fn(y_test, torch.argmax(test_pred, dim = 1))\n",
        "\n",
        "    test_loss /= len(dataloader)\n",
        "    test_acc /= len(dataloader)\n",
        "\n",
        "  return test_loss, test_acc"
      ],
      "metadata": {
        "id": "ur7AdrLDwyVD"
      },
      "execution_count": null,
      "outputs": []
    },
    {
      "cell_type": "markdown",
      "source": [
        " ## Train student from teacher"
      ],
      "metadata": {
        "id": "zDfDlCMYXQcf"
      }
    },
    {
      "cell_type": "code",
      "source": [
        "torch.manual_seed(64)\n",
        "torch.cuda.manual_seed(64)\n",
        "student = StudentCNN(in_channel = 3, out_channel = 12, hidden_channel = 10, in_feature = 512, out_feature = num_classes).to(device)\n",
        "\n",
        "# initialize Xavier weights\n",
        "student.apply(weights_init)\n",
        "\n",
        "# optimizer function\n",
        "optimizer = torch.optim.Adam(params = teacher.parameters(), lr = 1e-4)\n",
        "\n",
        "\n",
        "train_losses, test_losses = [], []\n",
        "train_acces, test_acces = [], []\n",
        "\n",
        "# train model\n",
        "epoches = 10\n",
        "\n",
        "torch.manual_seed(64)\n",
        "torch.cuda.manual_seed(64)\n",
        "for epoch in tqdm(range(epoches)):\n",
        "  train_loss, train_acc = st_train_loop(model = student, dataloader = train_dataloader,\n",
        "                                     loss_fn = loss_fn, optimizer = optimizer, \n",
        "                                     accuracy_fn = accuracy_fn, device = device)\n",
        "  test_loss, test_acc = st_test_loop(model = student, dataloader = valid_dataloader,\n",
        "                                  loss_fn = loss_fn, accuracy_fn = accuracy_fn,\n",
        "                                  device = device)\n",
        "  print(f\"Epoch: {epoch + 1}  Train Loss: {train_loss:.4f} / Test Loss: {test_loss:.4f} -/- Train Accuracy: {train_acc:.4f} / Test Accuracy: {test_acc:.4f}\")\n",
        "\n",
        "  train_losses.append(train_loss.item())\n",
        "  test_losses.append(test_loss.item())\n",
        "  train_acces.append(train_acc.item())\n",
        "  test_acces.append(test_acc.item())"
      ],
      "metadata": {
        "id": "2YVVYDf6wqPU",
        "colab": {
          "base_uri": "https://localhost:8080/",
          "height": 223,
          "referenced_widgets": [
            "be92c6d8394e4db4b47e3b851d38b914",
            "b36e848864f84ad6bdba0a6a61b2f788",
            "ad6c4cf306ba4b62b56c76f31e8fa0db",
            "6ba5abb60a144b61b4472a685e234c6d",
            "7130a1381f93467aa6589f2e00793079",
            "0581aaa147c248b6a75db673c13849fd",
            "303065a00d2d40c891f352c7eeddb882",
            "b0758154a28e4ca78781923e6599cca1",
            "8215efc0d6ed4226b8a675b104a608d4",
            "0d0dc5d4b53a4db8b40e019ed09f7b22",
            "0db6cc880d10430286c7a4080244b5de"
          ]
        },
        "outputId": "b8fa0f71-8204-42a4-c996-e0889483b729"
      },
      "execution_count": null,
      "outputs": [
        {
          "output_type": "display_data",
          "data": {
            "text/plain": [
              "  0%|          | 0/10 [00:00<?, ?it/s]"
            ],
            "application/vnd.jupyter.widget-view+json": {
              "version_major": 2,
              "version_minor": 0,
              "model_id": "be92c6d8394e4db4b47e3b851d38b914"
            }
          },
          "metadata": {}
        },
        {
          "output_type": "stream",
          "name": "stdout",
          "text": [
            "Epoch: 1  Train Loss: -7714.5342 / Test Loss: 5.2996 -/- Train Accuracy: 0.0003 / Test Accuracy: 0.0003\n",
            "Epoch: 2  Train Loss: -8444.3789 / Test Loss: 5.2995 -/- Train Accuracy: 0.0003 / Test Accuracy: 0.0003\n",
            "Epoch: 3  Train Loss: -9174.6748 / Test Loss: 5.2994 -/- Train Accuracy: 0.0003 / Test Accuracy: 0.0003\n",
            "Epoch: 4  Train Loss: -9904.1396 / Test Loss: 5.2994 -/- Train Accuracy: 0.0003 / Test Accuracy: 0.0003\n",
            "Epoch: 5  Train Loss: -10634.1113 / Test Loss: 5.2996 -/- Train Accuracy: 0.0003 / Test Accuracy: 0.0002\n",
            "Epoch: 6  Train Loss: -11363.6172 / Test Loss: 5.2999 -/- Train Accuracy: 0.0003 / Test Accuracy: 0.0003\n",
            "Epoch: 7  Train Loss: -12091.8252 / Test Loss: 5.2994 -/- Train Accuracy: 0.0003 / Test Accuracy: 0.0003\n",
            "Epoch: 8  Train Loss: -12824.4014 / Test Loss: 5.2994 -/- Train Accuracy: 0.0003 / Test Accuracy: 0.0003\n",
            "Epoch: 9  Train Loss: -13551.9561 / Test Loss: 5.2996 -/- Train Accuracy: 0.0003 / Test Accuracy: 0.0003\n",
            "Epoch: 10  Train Loss: -14284.1543 / Test Loss: 5.2994 -/- Train Accuracy: 0.0003 / Test Accuracy: 0.0003\n"
          ]
        }
      ]
    },
    {
      "cell_type": "code",
      "source": [
        "plotplot(train_losses, test_losses, train_acces, test_acces)"
      ],
      "metadata": {
        "id": "d8SFdDEBca_h",
        "colab": {
          "base_uri": "https://localhost:8080/",
          "height": 513
        },
        "outputId": "6c455202-5581-4d46-f907-7ac1f1bb7092"
      },
      "execution_count": null,
      "outputs": [
        {
          "output_type": "display_data",
          "data": {
            "text/plain": [
              "<Figure size 1800x576 with 2 Axes>"
            ],
            "image/png": "[encoded data removed]"
          },
          "metadata": {
            "needs_background": "light"
          }
        }
      ]
    },
    {
      "cell_type": "markdown",
      "source": [
        "## train loop for TS without EMA"
      ],
      "metadata": {
        "id": "H1LeWrtj0qoF"
      }
    },
    {
      "cell_type": "code",
      "source": [
        "# train\n",
        "def NOEMA_train_loop(model: torch.nn.Module, dataloader: torch.utils.data.DataLoader, \n",
        "               loss_fn: torch.nn.Module, optimizer: torch.optim.Optimizer, \n",
        "               accuracy_fn, device: torch.device = device):\n",
        "  \n",
        "  train_loss, train_acc = 0, 0\n",
        "\n",
        "  alpha = 0.2\n",
        "  for batch, (x_train, y_train) in enumerate(dataloader):\n",
        "\n",
        "    if device == 'cuda':\n",
        "      x_train, y_train = x_train.to(device), y_train.to(device)\n",
        "\n",
        "    model.train()\n",
        "    # 1. Forward\n",
        "    y_train_teacher = teacher(x_train)\n",
        "    y_pred = model(x_train)\n",
        "\n",
        "    # 2. Loss\n",
        "    loss = cal_loss_without(y_pred, y_train_teacher, loss_fn)\n",
        "    # ta_loss = loss_fn(y_train_teacher, y_pred)\n",
        "\n",
        "    acc = accuracy_fn(y_train, torch.argmax(y_pred, dim = 1))\n",
        "    train_loss += loss\n",
        "    train_acc += acc\n",
        "\n",
        "    # 3. optimizer zero grad\n",
        "    optimizer.zero_grad()\n",
        "\n",
        "    # 4. Backward\n",
        "    loss.backward()\n",
        "\n",
        "    # 5. optimizer step\n",
        "    optimizer.step()\n",
        "\n",
        "  train_loss /= len(dataloader)\n",
        "  train_acc /= len(dataloader)\n",
        "\n",
        "  return train_loss, train_acc\n",
        "\n",
        "\n",
        "def NOEMA_test_loop(model: torch.nn.Module, dataloader: torch.utils.data.DataLoader,\n",
        "              loss_fn: torch.nn.Module, accuracy_fn, device: torch.device = device):\n",
        "  test_loss, test_acc = 0, 0\n",
        "\n",
        "  model.eval()\n",
        "  with torch.inference_mode():\n",
        "    for x_test, y_test in dataloader:\n",
        "      if device == 'cuda':\n",
        "        x_test, y_test = x_test.to(device), y_test.to(device)\n",
        "\n",
        "      # 1. Forward\n",
        "      test_pred = model(x_test)\n",
        "\n",
        "      # 2. Loss\n",
        "      test_loss += loss_fn(test_pred, y_test)\n",
        "      test_acc += accuracy_fn(y_test, torch.argmax(test_pred, dim = 1))\n",
        "\n",
        "    test_loss /= len(dataloader)\n",
        "    test_acc /= len(dataloader)\n",
        "\n",
        "  return test_loss, test_acc"
      ],
      "metadata": {
        "id": "Sz3X9ZvZEJBN"
      },
      "execution_count": null,
      "outputs": []
    },
    {
      "cell_type": "markdown",
      "source": [
        " ## Train student from teacher"
      ],
      "metadata": {
        "id": "935oJocSFQLV"
      }
    },
    {
      "cell_type": "code",
      "source": [
        "torch.manual_seed(64)\n",
        "torch.cuda.manual_seed(64)\n",
        "student = StudentCNN(in_channel = 3, out_channel = 12, hidden_channel = 10, in_feature = 512, out_feature = num_classes).to(device)\n",
        "\n",
        "# initialize Xavier weights\n",
        "student.apply(weights_init)\n",
        "\n",
        "# optimizer function\n",
        "optimizer = torch.optim.Adam(params = teacher.parameters(), lr = 1e-4)\n",
        "\n",
        "\n",
        "train_losses, test_losses = [], []\n",
        "train_acces, test_acces = [], []\n",
        "\n",
        "# train model\n",
        "epoches = 10\n",
        "\n",
        "torch.manual_seed(64)\n",
        "torch.cuda.manual_seed(64)\n",
        "for epoch in tqdm(range(epoches)):\n",
        "  train_loss, train_acc = NOEMA_train_loop(model = student, dataloader = train_dataloader,\n",
        "                                     loss_fn = loss_fn, optimizer = optimizer, \n",
        "                                     accuracy_fn = accuracy_fn, device = device)\n",
        "  test_loss, test_acc = NOEMA_test_loop(model = student, dataloader = valid_dataloader,\n",
        "                                  loss_fn = loss_fn, accuracy_fn = accuracy_fn,\n",
        "                                  device = device)\n",
        "  print(f\"Epoch: {epoch + 1}  Train Loss: {train_loss:.4f} / Test Loss: {test_loss:.4f} -/- Train Accuracy: {train_acc:.4f} / Test Accuracy: {test_acc:.4f}\")\n",
        "\n",
        "  train_losses.append(train_loss.item())\n",
        "  test_losses.append(test_loss.item())\n",
        "  train_acces.append(train_acc.item())\n",
        "  test_acces.append(test_acc.item())"
      ],
      "metadata": {
        "colab": {
          "base_uri": "https://localhost:8080/",
          "height": 223,
          "referenced_widgets": [
            "c07ee58978b244faa1b789938a88d34d",
            "5fc6e9c2c4724ad6bda2615356fbd5c5",
            "96f81d2e1e8042fda34a8067f9f0e8a1",
            "6b0360fb2d00469390358872ac060a3e",
            "33c943fe8f8b4ae1b5d2659fe7001a32",
            "9b6b1a5bf88f4e30b6ae2b72ebc1df4b",
            "f6a32fb965a5485eaf72c0bce65c782e",
            "e2d4b686e40c4fe28665d7d66b0d4e53",
            "8337ccdbdef146dfa2d56d2e12fc4aae",
            "9496b0f8888341dbad912967b05d62fd",
            "9b84d1fa759b4ff5829d52274777b06e"
          ]
        },
        "id": "8lnGRmppFU4w",
        "outputId": "5922822d-c21d-4d19-f6e1-d6b45d28bc6c"
      },
      "execution_count": null,
      "outputs": [
        {
          "output_type": "display_data",
          "data": {
            "text/plain": [
              "  0%|          | 0/10 [00:00<?, ?it/s]"
            ],
            "application/vnd.jupyter.widget-view+json": {
              "version_major": 2,
              "version_minor": 0,
              "model_id": "c07ee58978b244faa1b789938a88d34d"
            }
          },
          "metadata": {}
        },
        {
          "output_type": "stream",
          "name": "stdout",
          "text": [
            "Epoch: 1  Train Loss: -6641.7715 / Test Loss: 5.2996 -/- Train Accuracy: 0.0003 / Test Accuracy: 0.0003\n",
            "Epoch: 2  Train Loss: -176750.9219 / Test Loss: 5.2995 -/- Train Accuracy: 0.0003 / Test Accuracy: 0.0003\n",
            "Epoch: 3  Train Loss: -346859.1875 / Test Loss: 5.2994 -/- Train Accuracy: 0.0003 / Test Accuracy: 0.0003\n",
            "Epoch: 4  Train Loss: -516963.8438 / Test Loss: 5.2994 -/- Train Accuracy: 0.0003 / Test Accuracy: 0.0003\n",
            "Epoch: 5  Train Loss: -687073.2500 / Test Loss: 5.2996 -/- Train Accuracy: 0.0003 / Test Accuracy: 0.0002\n",
            "Epoch: 6  Train Loss: -857177.6250 / Test Loss: 5.2999 -/- Train Accuracy: 0.0003 / Test Accuracy: 0.0003\n",
            "Epoch: 7  Train Loss: -1027256.8125 / Test Loss: 5.2994 -/- Train Accuracy: 0.0003 / Test Accuracy: 0.0003\n",
            "Epoch: 8  Train Loss: -1197280.2500 / Test Loss: 5.2994 -/- Train Accuracy: 0.0003 / Test Accuracy: 0.0003\n",
            "Epoch: 9  Train Loss: -1367235.7500 / Test Loss: 5.2996 -/- Train Accuracy: 0.0003 / Test Accuracy: 0.0003\n",
            "Epoch: 10  Train Loss: -1537199.3750 / Test Loss: 5.2994 -/- Train Accuracy: 0.0003 / Test Accuracy: 0.0003\n"
          ]
        }
      ]
    },
    {
      "cell_type": "code",
      "source": [
        "plotplot(train_losses, test_losses, train_acces, test_acces)"
      ],
      "metadata": {
        "colab": {
          "base_uri": "https://localhost:8080/",
          "height": 513
        },
        "id": "5II7CUSoIPI3",
        "outputId": "1a2b2731-b5f8-43b9-e057-196bb74231f1"
      },
      "execution_count": null,
      "outputs": [
        {
          "output_type": "display_data",
          "data": {
            "text/plain": [
              "<Figure size 1800x576 with 2 Axes>"
            ],
            "image/png": "[encoded data removed]"
          },
          "metadata": {
            "needs_background": "light"
          }
        }
      ]
    },
    {
      "cell_type": "code",
      "source": [],
      "metadata": {
        "id": "dKeC8R0zbWJW"
      },
      "execution_count": null,
      "outputs": []
    }
  ],
  "metadata": {
    "accelerator": "GPU",
    "colab": {
      "provenance": []
    },
    "gpuClass": "standard",
    "kernelspec": {
      "display_name": "Python 3",
      "name": "python3"
    },
    "language_info": {
      "name": "python"
    },
    "widgets": {
      "application/vnd.jupyter.widget-state+json": {
        "0a5901af10884ad2a8b18392b53da2b2": {
          "model_module": "@jupyter-widgets/controls",
          "model_name": "HBoxModel",
          "model_module_version": "1.5.0",
          "state": {
            "_dom_classes": [],
            "_model_module": "@jupyter-widgets/controls",
            "_model_module_version": "1.5.0",
            "_model_name": "HBoxModel",
            "_view_count": null,
            "_view_module": "@jupyter-widgets/controls",
            "_view_module_version": "1.5.0",
            "_view_name": "HBoxView",
            "box_style": "",
            "children": [
              "IPY_MODEL_b70e5e2abecf43a89e15488a11de40d4",
              "IPY_MODEL_969b6d5176544d2ba9e91e932fa4ec6a",
              "IPY_MODEL_06223b84b05d487b8a517a4bdc18ab27"
            ],
            "layout": "IPY_MODEL_b2b1b2592a2648739d1b16a4ffb8765c"
          }
        },
        "b70e5e2abecf43a89e15488a11de40d4": {
          "model_module": "@jupyter-widgets/controls",
          "model_name": "HTMLModel",
          "model_module_version": "1.5.0",
          "state": {
            "_dom_classes": [],
            "_model_module": "@jupyter-widgets/controls",
            "_model_module_version": "1.5.0",
            "_model_name": "HTMLModel",
            "_view_count": null,
            "_view_module": "@jupyter-widgets/controls",
            "_view_module_version": "1.5.0",
            "_view_name": "HTMLView",
            "description": "",
            "description_tooltip": null,
            "layout": "IPY_MODEL_b61bd734c60c4853918f2f1d33430231",
            "placeholder": "​",
            "style": "IPY_MODEL_e683525ffa2d4c069c5887409b0653c3",
            "value": "100%"
          }
        },
        "969b6d5176544d2ba9e91e932fa4ec6a": {
          "model_module": "@jupyter-widgets/controls",
          "model_name": "FloatProgressModel",
          "model_module_version": "1.5.0",
          "state": {
            "_dom_classes": [],
            "_model_module": "@jupyter-widgets/controls",
            "_model_module_version": "1.5.0",
            "_model_name": "FloatProgressModel",
            "_view_count": null,
            "_view_module": "@jupyter-widgets/controls",
            "_view_module_version": "1.5.0",
            "_view_name": "ProgressView",
            "bar_style": "success",
            "description": "",
            "description_tooltip": null,
            "layout": "IPY_MODEL_a4c910b9de6044a1886170a347b35bc3",
            "max": 10,
            "min": 0,
            "orientation": "horizontal",
            "style": "IPY_MODEL_7faec5817cc648019fb9bcdb3608dd97",
            "value": 10
          }
        },
        "06223b84b05d487b8a517a4bdc18ab27": {
          "model_module": "@jupyter-widgets/controls",
          "model_name": "HTMLModel",
          "model_module_version": "1.5.0",
          "state": {
            "_dom_classes": [],
            "_model_module": "@jupyter-widgets/controls",
            "_model_module_version": "1.5.0",
            "_model_name": "HTMLModel",
            "_view_count": null,
            "_view_module": "@jupyter-widgets/controls",
            "_view_module_version": "1.5.0",
            "_view_name": "HTMLView",
            "description": "",
            "description_tooltip": null,
            "layout": "IPY_MODEL_053d3cd7e61849adbc50806393e9cb2f",
            "placeholder": "​",
            "style": "IPY_MODEL_a3d4caf899d2430e8c1e7adfd2069da5",
            "value": " 10/10 [20:30&lt;00:00, 123.78s/it]"
          }
        },
        "b2b1b2592a2648739d1b16a4ffb8765c": {
          "model_module": "@jupyter-widgets/base",
          "model_name": "LayoutModel",
          "model_module_version": "1.2.0",
          "state": {
            "_model_module": "@jupyter-widgets/base",
            "_model_module_version": "1.2.0",
            "_model_name": "LayoutModel",
            "_view_count": null,
            "_view_module": "@jupyter-widgets/base",
            "_view_module_version": "1.2.0",
            "_view_name": "LayoutView",
            "align_content": null,
            "align_items": null,
            "align_self": null,
            "border": null,
            "bottom": null,
            "display": null,
            "flex": null,
            "flex_flow": null,
            "grid_area": null,
            "grid_auto_columns": null,
            "grid_auto_flow": null,
            "grid_auto_rows": null,
            "grid_column": null,
            "grid_gap": null,
            "grid_row": null,
            "grid_template_areas": null,
            "grid_template_columns": null,
            "grid_template_rows": null,
            "height": null,
            "justify_content": null,
            "justify_items": null,
            "left": null,
            "margin": null,
            "max_height": null,
            "max_width": null,
            "min_height": null,
            "min_width": null,
            "object_fit": null,
            "object_position": null,
            "order": null,
            "overflow": null,
            "overflow_x": null,
            "overflow_y": null,
            "padding": null,
            "right": null,
            "top": null,
            "visibility": null,
            "width": null
          }
        },
        "b61bd734c60c4853918f2f1d33430231": {
          "model_module": "@jupyter-widgets/base",
          "model_name": "LayoutModel",
          "model_module_version": "1.2.0",
          "state": {
            "_model_module": "@jupyter-widgets/base",
            "_model_module_version": "1.2.0",
            "_model_name": "LayoutModel",
            "_view_count": null,
            "_view_module": "@jupyter-widgets/base",
            "_view_module_version": "1.2.0",
            "_view_name": "LayoutView",
            "align_content": null,
            "align_items": null,
            "align_self": null,
            "border": null,
            "bottom": null,
            "display": null,
            "flex": null,
            "flex_flow": null,
            "grid_area": null,
            "grid_auto_columns": null,
            "grid_auto_flow": null,
            "grid_auto_rows": null,
            "grid_column": null,
            "grid_gap": null,
            "grid_row": null,
            "grid_template_areas": null,
            "grid_template_columns": null,
            "grid_template_rows": null,
            "height": null,
            "justify_content": null,
            "justify_items": null,
            "left": null,
            "margin": null,
            "max_height": null,
            "max_width": null,
            "min_height": null,
            "min_width": null,
            "object_fit": null,
            "object_position": null,
            "order": null,
            "overflow": null,
            "overflow_x": null,
            "overflow_y": null,
            "padding": null,
            "right": null,
            "top": null,
            "visibility": null,
            "width": null
          }
        },
        "e683525ffa2d4c069c5887409b0653c3": {
          "model_module": "@jupyter-widgets/controls",
          "model_name": "DescriptionStyleModel",
          "model_module_version": "1.5.0",
          "state": {
            "_model_module": "@jupyter-widgets/controls",
            "_model_module_version": "1.5.0",
            "_model_name": "DescriptionStyleModel",
            "_view_count": null,
            "_view_module": "@jupyter-widgets/base",
            "_view_module_version": "1.2.0",
            "_view_name": "StyleView",
            "description_width": ""
          }
        },
        "a4c910b9de6044a1886170a347b35bc3": {
          "model_module": "@jupyter-widgets/base",
          "model_name": "LayoutModel",
          "model_module_version": "1.2.0",
          "state": {
            "_model_module": "@jupyter-widgets/base",
            "_model_module_version": "1.2.0",
            "_model_name": "LayoutModel",
            "_view_count": null,
            "_view_module": "@jupyter-widgets/base",
            "_view_module_version": "1.2.0",
            "_view_name": "LayoutView",
            "align_content": null,
            "align_items": null,
            "align_self": null,
            "border": null,
            "bottom": null,
            "display": null,
            "flex": null,
            "flex_flow": null,
            "grid_area": null,
            "grid_auto_columns": null,
            "grid_auto_flow": null,
            "grid_auto_rows": null,
            "grid_column": null,
            "grid_gap": null,
            "grid_row": null,
            "grid_template_areas": null,
            "grid_template_columns": null,
            "grid_template_rows": null,
            "height": null,
            "justify_content": null,
            "justify_items": null,
            "left": null,
            "margin": null,
            "max_height": null,
            "max_width": null,
            "min_height": null,
            "min_width": null,
            "object_fit": null,
            "object_position": null,
            "order": null,
            "overflow": null,
            "overflow_x": null,
            "overflow_y": null,
            "padding": null,
            "right": null,
            "top": null,
            "visibility": null,
            "width": null
          }
        },
        "7faec5817cc648019fb9bcdb3608dd97": {
          "model_module": "@jupyter-widgets/controls",
          "model_name": "ProgressStyleModel",
          "model_module_version": "1.5.0",
          "state": {
            "_model_module": "@jupyter-widgets/controls",
            "_model_module_version": "1.5.0",
            "_model_name": "ProgressStyleModel",
            "_view_count": null,
            "_view_module": "@jupyter-widgets/base",
            "_view_module_version": "1.2.0",
            "_view_name": "StyleView",
            "bar_color": null,
            "description_width": ""
          }
        },
        "053d3cd7e61849adbc50806393e9cb2f": {
          "model_module": "@jupyter-widgets/base",
          "model_name": "LayoutModel",
          "model_module_version": "1.2.0",
          "state": {
            "_model_module": "@jupyter-widgets/base",
            "_model_module_version": "1.2.0",
            "_model_name": "LayoutModel",
            "_view_count": null,
            "_view_module": "@jupyter-widgets/base",
            "_view_module_version": "1.2.0",
            "_view_name": "LayoutView",
            "align_content": null,
            "align_items": null,
            "align_self": null,
            "border": null,
            "bottom": null,
            "display": null,
            "flex": null,
            "flex_flow": null,
            "grid_area": null,
            "grid_auto_columns": null,
            "grid_auto_flow": null,
            "grid_auto_rows": null,
            "grid_column": null,
            "grid_gap": null,
            "grid_row": null,
            "grid_template_areas": null,
            "grid_template_columns": null,
            "grid_template_rows": null,
            "height": null,
            "justify_content": null,
            "justify_items": null,
            "left": null,
            "margin": null,
            "max_height": null,
            "max_width": null,
            "min_height": null,
            "min_width": null,
            "object_fit": null,
            "object_position": null,
            "order": null,
            "overflow": null,
            "overflow_x": null,
            "overflow_y": null,
            "padding": null,
            "right": null,
            "top": null,
            "visibility": null,
            "width": null
          }
        },
        "a3d4caf899d2430e8c1e7adfd2069da5": {
          "model_module": "@jupyter-widgets/controls",
          "model_name": "DescriptionStyleModel",
          "model_module_version": "1.5.0",
          "state": {
            "_model_module": "@jupyter-widgets/controls",
            "_model_module_version": "1.5.0",
            "_model_name": "DescriptionStyleModel",
            "_view_count": null,
            "_view_module": "@jupyter-widgets/base",
            "_view_module_version": "1.2.0",
            "_view_name": "StyleView",
            "description_width": ""
          }
        },
        "37e40e085ccf487ca0e58e643503994b": {
          "model_module": "@jupyter-widgets/controls",
          "model_name": "HBoxModel",
          "model_module_version": "1.5.0",
          "state": {
            "_dom_classes": [],
            "_model_module": "@jupyter-widgets/controls",
            "_model_module_version": "1.5.0",
            "_model_name": "HBoxModel",
            "_view_count": null,
            "_view_module": "@jupyter-widgets/controls",
            "_view_module_version": "1.5.0",
            "_view_name": "HBoxView",
            "box_style": "",
            "children": [
              "IPY_MODEL_f81973c1549341f8978c7885c9280743",
              "IPY_MODEL_bc03221814f04066af861065cc7c0ca1",
              "IPY_MODEL_d1a589ce93bc468f9d207d42d708312b"
            ],
            "layout": "IPY_MODEL_e0a9f7eb49fe4bdc9ba608be4b79dd90"
          }
        },
        "f81973c1549341f8978c7885c9280743": {
          "model_module": "@jupyter-widgets/controls",
          "model_name": "HTMLModel",
          "model_module_version": "1.5.0",
          "state": {
            "_dom_classes": [],
            "_model_module": "@jupyter-widgets/controls",
            "_model_module_version": "1.5.0",
            "_model_name": "HTMLModel",
            "_view_count": null,
            "_view_module": "@jupyter-widgets/controls",
            "_view_module_version": "1.5.0",
            "_view_name": "HTMLView",
            "description": "",
            "description_tooltip": null,
            "layout": "IPY_MODEL_5fc9b63d1b764134b8e84c52bb2d2830",
            "placeholder": "​",
            "style": "IPY_MODEL_d26c7799e37b478b9fd97179d813d826",
            "value": "100%"
          }
        },
        "bc03221814f04066af861065cc7c0ca1": {
          "model_module": "@jupyter-widgets/controls",
          "model_name": "FloatProgressModel",
          "model_module_version": "1.5.0",
          "state": {
            "_dom_classes": [],
            "_model_module": "@jupyter-widgets/controls",
            "_model_module_version": "1.5.0",
            "_model_name": "FloatProgressModel",
            "_view_count": null,
            "_view_module": "@jupyter-widgets/controls",
            "_view_module_version": "1.5.0",
            "_view_name": "ProgressView",
            "bar_style": "success",
            "description": "",
            "description_tooltip": null,
            "layout": "IPY_MODEL_10b80a7e782249c9a400f44699a602fb",
            "max": 10,
            "min": 0,
            "orientation": "horizontal",
            "style": "IPY_MODEL_62ed4003aa654e6e991032a0b899978f",
            "value": 10
          }
        },
        "d1a589ce93bc468f9d207d42d708312b": {
          "model_module": "@jupyter-widgets/controls",
          "model_name": "HTMLModel",
          "model_module_version": "1.5.0",
          "state": {
            "_dom_classes": [],
            "_model_module": "@jupyter-widgets/controls",
            "_model_module_version": "1.5.0",
            "_model_name": "HTMLModel",
            "_view_count": null,
            "_view_module": "@jupyter-widgets/controls",
            "_view_module_version": "1.5.0",
            "_view_name": "HTMLView",
            "description": "",
            "description_tooltip": null,
            "layout": "IPY_MODEL_71709633541546b7b2cb79c7f61d0379",
            "placeholder": "​",
            "style": "IPY_MODEL_1eee623039ce4262b41feb86831f07db",
            "value": " 10/10 [18:04&lt;00:00, 108.49s/it]"
          }
        },
        "e0a9f7eb49fe4bdc9ba608be4b79dd90": {
          "model_module": "@jupyter-widgets/base",
          "model_name": "LayoutModel",
          "model_module_version": "1.2.0",
          "state": {
            "_model_module": "@jupyter-widgets/base",
            "_model_module_version": "1.2.0",
            "_model_name": "LayoutModel",
            "_view_count": null,
            "_view_module": "@jupyter-widgets/base",
            "_view_module_version": "1.2.0",
            "_view_name": "LayoutView",
            "align_content": null,
            "align_items": null,
            "align_self": null,
            "border": null,
            "bottom": null,
            "display": null,
            "flex": null,
            "flex_flow": null,
            "grid_area": null,
            "grid_auto_columns": null,
            "grid_auto_flow": null,
            "grid_auto_rows": null,
            "grid_column": null,
            "grid_gap": null,
            "grid_row": null,
            "grid_template_areas": null,
            "grid_template_columns": null,
            "grid_template_rows": null,
            "height": null,
            "justify_content": null,
            "justify_items": null,
            "left": null,
            "margin": null,
            "max_height": null,
            "max_width": null,
            "min_height": null,
            "min_width": null,
            "object_fit": null,
            "object_position": null,
            "order": null,
            "overflow": null,
            "overflow_x": null,
            "overflow_y": null,
            "padding": null,
            "right": null,
            "top": null,
            "visibility": null,
            "width": null
          }
        },
        "5fc9b63d1b764134b8e84c52bb2d2830": {
          "model_module": "@jupyter-widgets/base",
          "model_name": "LayoutModel",
          "model_module_version": "1.2.0",
          "state": {
            "_model_module": "@jupyter-widgets/base",
            "_model_module_version": "1.2.0",
            "_model_name": "LayoutModel",
            "_view_count": null,
            "_view_module": "@jupyter-widgets/base",
            "_view_module_version": "1.2.0",
            "_view_name": "LayoutView",
            "align_content": null,
            "align_items": null,
            "align_self": null,
            "border": null,
            "bottom": null,
            "display": null,
            "flex": null,
            "flex_flow": null,
            "grid_area": null,
            "grid_auto_columns": null,
            "grid_auto_flow": null,
            "grid_auto_rows": null,
            "grid_column": null,
            "grid_gap": null,
            "grid_row": null,
            "grid_template_areas": null,
            "grid_template_columns": null,
            "grid_template_rows": null,
            "height": null,
            "justify_content": null,
            "justify_items": null,
            "left": null,
            "margin": null,
            "max_height": null,
            "max_width": null,
            "min_height": null,
            "min_width": null,
            "object_fit": null,
            "object_position": null,
            "order": null,
            "overflow": null,
            "overflow_x": null,
            "overflow_y": null,
            "padding": null,
            "right": null,
            "top": null,
            "visibility": null,
            "width": null
          }
        },
        "d26c7799e37b478b9fd97179d813d826": {
          "model_module": "@jupyter-widgets/controls",
          "model_name": "DescriptionStyleModel",
          "model_module_version": "1.5.0",
          "state": {
            "_model_module": "@jupyter-widgets/controls",
            "_model_module_version": "1.5.0",
            "_model_name": "DescriptionStyleModel",
            "_view_count": null,
            "_view_module": "@jupyter-widgets/base",
            "_view_module_version": "1.2.0",
            "_view_name": "StyleView",
            "description_width": ""
          }
        },
        "10b80a7e782249c9a400f44699a602fb": {
          "model_module": "@jupyter-widgets/base",
          "model_name": "LayoutModel",
          "model_module_version": "1.2.0",
          "state": {
            "_model_module": "@jupyter-widgets/base",
            "_model_module_version": "1.2.0",
            "_model_name": "LayoutModel",
            "_view_count": null,
            "_view_module": "@jupyter-widgets/base",
            "_view_module_version": "1.2.0",
            "_view_name": "LayoutView",
            "align_content": null,
            "align_items": null,
            "align_self": null,
            "border": null,
            "bottom": null,
            "display": null,
            "flex": null,
            "flex_flow": null,
            "grid_area": null,
            "grid_auto_columns": null,
            "grid_auto_flow": null,
            "grid_auto_rows": null,
            "grid_column": null,
            "grid_gap": null,
            "grid_row": null,
            "grid_template_areas": null,
            "grid_template_columns": null,
            "grid_template_rows": null,
            "height": null,
            "justify_content": null,
            "justify_items": null,
            "left": null,
            "margin": null,
            "max_height": null,
            "max_width": null,
            "min_height": null,
            "min_width": null,
            "object_fit": null,
            "object_position": null,
            "order": null,
            "overflow": null,
            "overflow_x": null,
            "overflow_y": null,
            "padding": null,
            "right": null,
            "top": null,
            "visibility": null,
            "width": null
          }
        },
        "62ed4003aa654e6e991032a0b899978f": {
          "model_module": "@jupyter-widgets/controls",
          "model_name": "ProgressStyleModel",
          "model_module_version": "1.5.0",
          "state": {
            "_model_module": "@jupyter-widgets/controls",
            "_model_module_version": "1.5.0",
            "_model_name": "ProgressStyleModel",
            "_view_count": null,
            "_view_module": "@jupyter-widgets/base",
            "_view_module_version": "1.2.0",
            "_view_name": "StyleView",
            "bar_color": null,
            "description_width": ""
          }
        },
        "71709633541546b7b2cb79c7f61d0379": {
          "model_module": "@jupyter-widgets/base",
          "model_name": "LayoutModel",
          "model_module_version": "1.2.0",
          "state": {
            "_model_module": "@jupyter-widgets/base",
            "_model_module_version": "1.2.0",
            "_model_name": "LayoutModel",
            "_view_count": null,
            "_view_module": "@jupyter-widgets/base",
            "_view_module_version": "1.2.0",
            "_view_name": "LayoutView",
            "align_content": null,
            "align_items": null,
            "align_self": null,
            "border": null,
            "bottom": null,
            "display": null,
            "flex": null,
            "flex_flow": null,
            "grid_area": null,
            "grid_auto_columns": null,
            "grid_auto_flow": null,
            "grid_auto_rows": null,
            "grid_column": null,
            "grid_gap": null,
            "grid_row": null,
            "grid_template_areas": null,
            "grid_template_columns": null,
            "grid_template_rows": null,
            "height": null,
            "justify_content": null,
            "justify_items": null,
            "left": null,
            "margin": null,
            "max_height": null,
            "max_width": null,
            "min_height": null,
            "min_width": null,
            "object_fit": null,
            "object_position": null,
            "order": null,
            "overflow": null,
            "overflow_x": null,
            "overflow_y": null,
            "padding": null,
            "right": null,
            "top": null,
            "visibility": null,
            "width": null
          }
        },
        "1eee623039ce4262b41feb86831f07db": {
          "model_module": "@jupyter-widgets/controls",
          "model_name": "DescriptionStyleModel",
          "model_module_version": "1.5.0",
          "state": {
            "_model_module": "@jupyter-widgets/controls",
            "_model_module_version": "1.5.0",
            "_model_name": "DescriptionStyleModel",
            "_view_count": null,
            "_view_module": "@jupyter-widgets/base",
            "_view_module_version": "1.2.0",
            "_view_name": "StyleView",
            "description_width": ""
          }
        },
        "be92c6d8394e4db4b47e3b851d38b914": {
          "model_module": "@jupyter-widgets/controls",
          "model_name": "HBoxModel",
          "model_module_version": "1.5.0",
          "state": {
            "_dom_classes": [],
            "_model_module": "@jupyter-widgets/controls",
            "_model_module_version": "1.5.0",
            "_model_name": "HBoxModel",
            "_view_count": null,
            "_view_module": "@jupyter-widgets/controls",
            "_view_module_version": "1.5.0",
            "_view_name": "HBoxView",
            "box_style": "",
            "children": [
              "IPY_MODEL_b36e848864f84ad6bdba0a6a61b2f788",
              "IPY_MODEL_ad6c4cf306ba4b62b56c76f31e8fa0db",
              "IPY_MODEL_6ba5abb60a144b61b4472a685e234c6d"
            ],
            "layout": "IPY_MODEL_7130a1381f93467aa6589f2e00793079"
          }
        },
        "b36e848864f84ad6bdba0a6a61b2f788": {
          "model_module": "@jupyter-widgets/controls",
          "model_name": "HTMLModel",
          "model_module_version": "1.5.0",
          "state": {
            "_dom_classes": [],
            "_model_module": "@jupyter-widgets/controls",
            "_model_module_version": "1.5.0",
            "_model_name": "HTMLModel",
            "_view_count": null,
            "_view_module": "@jupyter-widgets/controls",
            "_view_module_version": "1.5.0",
            "_view_name": "HTMLView",
            "description": "",
            "description_tooltip": null,
            "layout": "IPY_MODEL_0581aaa147c248b6a75db673c13849fd",
            "placeholder": "​",
            "style": "IPY_MODEL_303065a00d2d40c891f352c7eeddb882",
            "value": "100%"
          }
        },
        "ad6c4cf306ba4b62b56c76f31e8fa0db": {
          "model_module": "@jupyter-widgets/controls",
          "model_name": "FloatProgressModel",
          "model_module_version": "1.5.0",
          "state": {
            "_dom_classes": [],
            "_model_module": "@jupyter-widgets/controls",
            "_model_module_version": "1.5.0",
            "_model_name": "FloatProgressModel",
            "_view_count": null,
            "_view_module": "@jupyter-widgets/controls",
            "_view_module_version": "1.5.0",
            "_view_name": "ProgressView",
            "bar_style": "success",
            "description": "",
            "description_tooltip": null,
            "layout": "IPY_MODEL_b0758154a28e4ca78781923e6599cca1",
            "max": 10,
            "min": 0,
            "orientation": "horizontal",
            "style": "IPY_MODEL_8215efc0d6ed4226b8a675b104a608d4",
            "value": 10
          }
        },
        "6ba5abb60a144b61b4472a685e234c6d": {
          "model_module": "@jupyter-widgets/controls",
          "model_name": "HTMLModel",
          "model_module_version": "1.5.0",
          "state": {
            "_dom_classes": [],
            "_model_module": "@jupyter-widgets/controls",
            "_model_module_version": "1.5.0",
            "_model_name": "HTMLModel",
            "_view_count": null,
            "_view_module": "@jupyter-widgets/controls",
            "_view_module_version": "1.5.0",
            "_view_name": "HTMLView",
            "description": "",
            "description_tooltip": null,
            "layout": "IPY_MODEL_0d0dc5d4b53a4db8b40e019ed09f7b22",
            "placeholder": "​",
            "style": "IPY_MODEL_0db6cc880d10430286c7a4080244b5de",
            "value": " 10/10 [22:01&lt;00:00, 132.97s/it]"
          }
        },
        "7130a1381f93467aa6589f2e00793079": {
          "model_module": "@jupyter-widgets/base",
          "model_name": "LayoutModel",
          "model_module_version": "1.2.0",
          "state": {
            "_model_module": "@jupyter-widgets/base",
            "_model_module_version": "1.2.0",
            "_model_name": "LayoutModel",
            "_view_count": null,
            "_view_module": "@jupyter-widgets/base",
            "_view_module_version": "1.2.0",
            "_view_name": "LayoutView",
            "align_content": null,
            "align_items": null,
            "align_self": null,
            "border": null,
            "bottom": null,
            "display": null,
            "flex": null,
            "flex_flow": null,
            "grid_area": null,
            "grid_auto_columns": null,
            "grid_auto_flow": null,
            "grid_auto_rows": null,
            "grid_column": null,
            "grid_gap": null,
            "grid_row": null,
            "grid_template_areas": null,
            "grid_template_columns": null,
            "grid_template_rows": null,
            "height": null,
            "justify_content": null,
            "justify_items": null,
            "left": null,
            "margin": null,
            "max_height": null,
            "max_width": null,
            "min_height": null,
            "min_width": null,
            "object_fit": null,
            "object_position": null,
            "order": null,
            "overflow": null,
            "overflow_x": null,
            "overflow_y": null,
            "padding": null,
            "right": null,
            "top": null,
            "visibility": null,
            "width": null
          }
        },
        "0581aaa147c248b6a75db673c13849fd": {
          "model_module": "@jupyter-widgets/base",
          "model_name": "LayoutModel",
          "model_module_version": "1.2.0",
          "state": {
            "_model_module": "@jupyter-widgets/base",
            "_model_module_version": "1.2.0",
            "_model_name": "LayoutModel",
            "_view_count": null,
            "_view_module": "@jupyter-widgets/base",
            "_view_module_version": "1.2.0",
            "_view_name": "LayoutView",
            "align_content": null,
            "align_items": null,
            "align_self": null,
            "border": null,
            "bottom": null,
            "display": null,
            "flex": null,
            "flex_flow": null,
            "grid_area": null,
            "grid_auto_columns": null,
            "grid_auto_flow": null,
            "grid_auto_rows": null,
            "grid_column": null,
            "grid_gap": null,
            "grid_row": null,
            "grid_template_areas": null,
            "grid_template_columns": null,
            "grid_template_rows": null,
            "height": null,
            "justify_content": null,
            "justify_items": null,
            "left": null,
            "margin": null,
            "max_height": null,
            "max_width": null,
            "min_height": null,
            "min_width": null,
            "object_fit": null,
            "object_position": null,
            "order": null,
            "overflow": null,
            "overflow_x": null,
            "overflow_y": null,
            "padding": null,
            "right": null,
            "top": null,
            "visibility": null,
            "width": null
          }
        },
        "303065a00d2d40c891f352c7eeddb882": {
          "model_module": "@jupyter-widgets/controls",
          "model_name": "DescriptionStyleModel",
          "model_module_version": "1.5.0",
          "state": {
            "_model_module": "@jupyter-widgets/controls",
            "_model_module_version": "1.5.0",
            "_model_name": "DescriptionStyleModel",
            "_view_count": null,
            "_view_module": "@jupyter-widgets/base",
            "_view_module_version": "1.2.0",
            "_view_name": "StyleView",
            "description_width": ""
          }
        },
        "b0758154a28e4ca78781923e6599cca1": {
          "model_module": "@jupyter-widgets/base",
          "model_name": "LayoutModel",
          "model_module_version": "1.2.0",
          "state": {
            "_model_module": "@jupyter-widgets/base",
            "_model_module_version": "1.2.0",
            "_model_name": "LayoutModel",
            "_view_count": null,
            "_view_module": "@jupyter-widgets/base",
            "_view_module_version": "1.2.0",
            "_view_name": "LayoutView",
            "align_content": null,
            "align_items": null,
            "align_self": null,
            "border": null,
            "bottom": null,
            "display": null,
            "flex": null,
            "flex_flow": null,
            "grid_area": null,
            "grid_auto_columns": null,
            "grid_auto_flow": null,
            "grid_auto_rows": null,
            "grid_column": null,
            "grid_gap": null,
            "grid_row": null,
            "grid_template_areas": null,
            "grid_template_columns": null,
            "grid_template_rows": null,
            "height": null,
            "justify_content": null,
            "justify_items": null,
            "left": null,
            "margin": null,
            "max_height": null,
            "max_width": null,
            "min_height": null,
            "min_width": null,
            "object_fit": null,
            "object_position": null,
            "order": null,
            "overflow": null,
            "overflow_x": null,
            "overflow_y": null,
            "padding": null,
            "right": null,
            "top": null,
            "visibility": null,
            "width": null
          }
        },
        "8215efc0d6ed4226b8a675b104a608d4": {
          "model_module": "@jupyter-widgets/controls",
          "model_name": "ProgressStyleModel",
          "model_module_version": "1.5.0",
          "state": {
            "_model_module": "@jupyter-widgets/controls",
            "_model_module_version": "1.5.0",
            "_model_name": "ProgressStyleModel",
            "_view_count": null,
            "_view_module": "@jupyter-widgets/base",
            "_view_module_version": "1.2.0",
            "_view_name": "StyleView",
            "bar_color": null,
            "description_width": ""
          }
        },
        "0d0dc5d4b53a4db8b40e019ed09f7b22": {
          "model_module": "@jupyter-widgets/base",
          "model_name": "LayoutModel",
          "model_module_version": "1.2.0",
          "state": {
            "_model_module": "@jupyter-widgets/base",
            "_model_module_version": "1.2.0",
            "_model_name": "LayoutModel",
            "_view_count": null,
            "_view_module": "@jupyter-widgets/base",
            "_view_module_version": "1.2.0",
            "_view_name": "LayoutView",
            "align_content": null,
            "align_items": null,
            "align_self": null,
            "border": null,
            "bottom": null,
            "display": null,
            "flex": null,
            "flex_flow": null,
            "grid_area": null,
            "grid_auto_columns": null,
            "grid_auto_flow": null,
            "grid_auto_rows": null,
            "grid_column": null,
            "grid_gap": null,
            "grid_row": null,
            "grid_template_areas": null,
            "grid_template_columns": null,
            "grid_template_rows": null,
            "height": null,
            "justify_content": null,
            "justify_items": null,
            "left": null,
            "margin": null,
            "max_height": null,
            "max_width": null,
            "min_height": null,
            "min_width": null,
            "object_fit": null,
            "object_position": null,
            "order": null,
            "overflow": null,
            "overflow_x": null,
            "overflow_y": null,
            "padding": null,
            "right": null,
            "top": null,
            "visibility": null,
            "width": null
          }
        },
        "0db6cc880d10430286c7a4080244b5de": {
          "model_module": "@jupyter-widgets/controls",
          "model_name": "DescriptionStyleModel",
          "model_module_version": "1.5.0",
          "state": {
            "_model_module": "@jupyter-widgets/controls",
            "_model_module_version": "1.5.0",
            "_model_name": "DescriptionStyleModel",
            "_view_count": null,
            "_view_module": "@jupyter-widgets/base",
            "_view_module_version": "1.2.0",
            "_view_name": "StyleView",
            "description_width": ""
          }
        },
        "c07ee58978b244faa1b789938a88d34d": {
          "model_module": "@jupyter-widgets/controls",
          "model_name": "HBoxModel",
          "model_module_version": "1.5.0",
          "state": {
            "_dom_classes": [],
            "_model_module": "@jupyter-widgets/controls",
            "_model_module_version": "1.5.0",
            "_model_name": "HBoxModel",
            "_view_count": null,
            "_view_module": "@jupyter-widgets/controls",
            "_view_module_version": "1.5.0",
            "_view_name": "HBoxView",
            "box_style": "",
            "children": [
              "IPY_MODEL_5fc6e9c2c4724ad6bda2615356fbd5c5",
              "IPY_MODEL_96f81d2e1e8042fda34a8067f9f0e8a1",
              "IPY_MODEL_6b0360fb2d00469390358872ac060a3e"
            ],
            "layout": "IPY_MODEL_33c943fe8f8b4ae1b5d2659fe7001a32"
          }
        },
        "5fc6e9c2c4724ad6bda2615356fbd5c5": {
          "model_module": "@jupyter-widgets/controls",
          "model_name": "HTMLModel",
          "model_module_version": "1.5.0",
          "state": {
            "_dom_classes": [],
            "_model_module": "@jupyter-widgets/controls",
            "_model_module_version": "1.5.0",
            "_model_name": "HTMLModel",
            "_view_count": null,
            "_view_module": "@jupyter-widgets/controls",
            "_view_module_version": "1.5.0",
            "_view_name": "HTMLView",
            "description": "",
            "description_tooltip": null,
            "layout": "IPY_MODEL_9b6b1a5bf88f4e30b6ae2b72ebc1df4b",
            "placeholder": "​",
            "style": "IPY_MODEL_f6a32fb965a5485eaf72c0bce65c782e",
            "value": "100%"
          }
        },
        "96f81d2e1e8042fda34a8067f9f0e8a1": {
          "model_module": "@jupyter-widgets/controls",
          "model_name": "FloatProgressModel",
          "model_module_version": "1.5.0",
          "state": {
            "_dom_classes": [],
            "_model_module": "@jupyter-widgets/controls",
            "_model_module_version": "1.5.0",
            "_model_name": "FloatProgressModel",
            "_view_count": null,
            "_view_module": "@jupyter-widgets/controls",
            "_view_module_version": "1.5.0",
            "_view_name": "ProgressView",
            "bar_style": "success",
            "description": "",
            "description_tooltip": null,
            "layout": "IPY_MODEL_e2d4b686e40c4fe28665d7d66b0d4e53",
            "max": 10,
            "min": 0,
            "orientation": "horizontal",
            "style": "IPY_MODEL_8337ccdbdef146dfa2d56d2e12fc4aae",
            "value": 10
          }
        },
        "6b0360fb2d00469390358872ac060a3e": {
          "model_module": "@jupyter-widgets/controls",
          "model_name": "HTMLModel",
          "model_module_version": "1.5.0",
          "state": {
            "_dom_classes": [],
            "_model_module": "@jupyter-widgets/controls",
            "_model_module_version": "1.5.0",
            "_model_name": "HTMLModel",
            "_view_count": null,
            "_view_module": "@jupyter-widgets/controls",
            "_view_module_version": "1.5.0",
            "_view_name": "HTMLView",
            "description": "",
            "description_tooltip": null,
            "layout": "IPY_MODEL_9496b0f8888341dbad912967b05d62fd",
            "placeholder": "​",
            "style": "IPY_MODEL_9b84d1fa759b4ff5829d52274777b06e",
            "value": " 10/10 [22:34&lt;00:00, 135.22s/it]"
          }
        },
        "33c943fe8f8b4ae1b5d2659fe7001a32": {
          "model_module": "@jupyter-widgets/base",
          "model_name": "LayoutModel",
          "model_module_version": "1.2.0",
          "state": {
            "_model_module": "@jupyter-widgets/base",
            "_model_module_version": "1.2.0",
            "_model_name": "LayoutModel",
            "_view_count": null,
            "_view_module": "@jupyter-widgets/base",
            "_view_module_version": "1.2.0",
            "_view_name": "LayoutView",
            "align_content": null,
            "align_items": null,
            "align_self": null,
            "border": null,
            "bottom": null,
            "display": null,
            "flex": null,
            "flex_flow": null,
            "grid_area": null,
            "grid_auto_columns": null,
            "grid_auto_flow": null,
            "grid_auto_rows": null,
            "grid_column": null,
            "grid_gap": null,
            "grid_row": null,
            "grid_template_areas": null,
            "grid_template_columns": null,
            "grid_template_rows": null,
            "height": null,
            "justify_content": null,
            "justify_items": null,
            "left": null,
            "margin": null,
            "max_height": null,
            "max_width": null,
            "min_height": null,
            "min_width": null,
            "object_fit": null,
            "object_position": null,
            "order": null,
            "overflow": null,
            "overflow_x": null,
            "overflow_y": null,
            "padding": null,
            "right": null,
            "top": null,
            "visibility": null,
            "width": null
          }
        },
        "9b6b1a5bf88f4e30b6ae2b72ebc1df4b": {
          "model_module": "@jupyter-widgets/base",
          "model_name": "LayoutModel",
          "model_module_version": "1.2.0",
          "state": {
            "_model_module": "@jupyter-widgets/base",
            "_model_module_version": "1.2.0",
            "_model_name": "LayoutModel",
            "_view_count": null,
            "_view_module": "@jupyter-widgets/base",
            "_view_module_version": "1.2.0",
            "_view_name": "LayoutView",
            "align_content": null,
            "align_items": null,
            "align_self": null,
            "border": null,
            "bottom": null,
            "display": null,
            "flex": null,
            "flex_flow": null,
            "grid_area": null,
            "grid_auto_columns": null,
            "grid_auto_flow": null,
            "grid_auto_rows": null,
            "grid_column": null,
            "grid_gap": null,
            "grid_row": null,
            "grid_template_areas": null,
            "grid_template_columns": null,
            "grid_template_rows": null,
            "height": null,
            "justify_content": null,
            "justify_items": null,
            "left": null,
            "margin": null,
            "max_height": null,
            "max_width": null,
            "min_height": null,
            "min_width": null,
            "object_fit": null,
            "object_position": null,
            "order": null,
            "overflow": null,
            "overflow_x": null,
            "overflow_y": null,
            "padding": null,
            "right": null,
            "top": null,
            "visibility": null,
            "width": null
          }
        },
        "f6a32fb965a5485eaf72c0bce65c782e": {
          "model_module": "@jupyter-widgets/controls",
          "model_name": "DescriptionStyleModel",
          "model_module_version": "1.5.0",
          "state": {
            "_model_module": "@jupyter-widgets/controls",
            "_model_module_version": "1.5.0",
            "_model_name": "DescriptionStyleModel",
            "_view_count": null,
            "_view_module": "@jupyter-widgets/base",
            "_view_module_version": "1.2.0",
            "_view_name": "StyleView",
            "description_width": ""
          }
        },
        "e2d4b686e40c4fe28665d7d66b0d4e53": {
          "model_module": "@jupyter-widgets/base",
          "model_name": "LayoutModel",
          "model_module_version": "1.2.0",
          "state": {
            "_model_module": "@jupyter-widgets/base",
            "_model_module_version": "1.2.0",
            "_model_name": "LayoutModel",
            "_view_count": null,
            "_view_module": "@jupyter-widgets/base",
            "_view_module_version": "1.2.0",
            "_view_name": "LayoutView",
            "align_content": null,
            "align_items": null,
            "align_self": null,
            "border": null,
            "bottom": null,
            "display": null,
            "flex": null,
            "flex_flow": null,
            "grid_area": null,
            "grid_auto_columns": null,
            "grid_auto_flow": null,
            "grid_auto_rows": null,
            "grid_column": null,
            "grid_gap": null,
            "grid_row": null,
            "grid_template_areas": null,
            "grid_template_columns": null,
            "grid_template_rows": null,
            "height": null,
            "justify_content": null,
            "justify_items": null,
            "left": null,
            "margin": null,
            "max_height": null,
            "max_width": null,
            "min_height": null,
            "min_width": null,
            "object_fit": null,
            "object_position": null,
            "order": null,
            "overflow": null,
            "overflow_x": null,
            "overflow_y": null,
            "padding": null,
            "right": null,
            "top": null,
            "visibility": null,
            "width": null
          }
        },
        "8337ccdbdef146dfa2d56d2e12fc4aae": {
          "model_module": "@jupyter-widgets/controls",
          "model_name": "ProgressStyleModel",
          "model_module_version": "1.5.0",
          "state": {
            "_model_module": "@jupyter-widgets/controls",
            "_model_module_version": "1.5.0",
            "_model_name": "ProgressStyleModel",
            "_view_count": null,
            "_view_module": "@jupyter-widgets/base",
            "_view_module_version": "1.2.0",
            "_view_name": "StyleView",
            "bar_color": null,
            "description_width": ""
          }
        },
        "9496b0f8888341dbad912967b05d62fd": {
          "model_module": "@jupyter-widgets/base",
          "model_name": "LayoutModel",
          "model_module_version": "1.2.0",
          "state": {
            "_model_module": "@jupyter-widgets/base",
            "_model_module_version": "1.2.0",
            "_model_name": "LayoutModel",
            "_view_count": null,
            "_view_module": "@jupyter-widgets/base",
            "_view_module_version": "1.2.0",
            "_view_name": "LayoutView",
            "align_content": null,
            "align_items": null,
            "align_self": null,
            "border": null,
            "bottom": null,
            "display": null,
            "flex": null,
            "flex_flow": null,
            "grid_area": null,
            "grid_auto_columns": null,
            "grid_auto_flow": null,
            "grid_auto_rows": null,
            "grid_column": null,
            "grid_gap": null,
            "grid_row": null,
            "grid_template_areas": null,
            "grid_template_columns": null,
            "grid_template_rows": null,
            "height": null,
            "justify_content": null,
            "justify_items": null,
            "left": null,
            "margin": null,
            "max_height": null,
            "max_width": null,
            "min_height": null,
            "min_width": null,
            "object_fit": null,
            "object_position": null,
            "order": null,
            "overflow": null,
            "overflow_x": null,
            "overflow_y": null,
            "padding": null,
            "right": null,
            "top": null,
            "visibility": null,
            "width": null
          }
        },
        "9b84d1fa759b4ff5829d52274777b06e": {
          "model_module": "@jupyter-widgets/controls",
          "model_name": "DescriptionStyleModel",
          "model_module_version": "1.5.0",
          "state": {
            "_model_module": "@jupyter-widgets/controls",
            "_model_module_version": "1.5.0",
            "_model_name": "DescriptionStyleModel",
            "_view_count": null,
            "_view_module": "@jupyter-widgets/base",
            "_view_module_version": "1.2.0",
            "_view_name": "StyleView",
            "description_width": ""
          }
        }
      }
    }
  },
  "nbformat": 4,
  "nbformat_minor": 0
}